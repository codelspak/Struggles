{
  "cells": [
    {
      "cell_type": "markdown",
      "metadata": {
        "id": "view-in-github",
        "colab_type": "text"
      },
      "source": [
        "<a href=\"https://colab.research.google.com/github/codelspak/Struggles/blob/main/WK31_Case1_ML_Prediction_Sales_of_each_shops.ipynb\" target=\"_parent\"><img src=\"https://colab.research.google.com/assets/colab-badge.svg\" alt=\"Open In Colab\"/></a>"
      ]
    },
    {
      "cell_type": "markdown",
      "id": "c623b3f7",
      "metadata": {
        "id": "c623b3f7"
      },
      "source": [
        "# 쇼핑몰 지점별 매출액 예측 \n",
        "- 심사 기준 : RMSE<br>\n",
        "\n",
        "[데이콘 경진대회 링크](https://dacon.io/competitions/official/235942/data)"
      ]
    },
    {
      "cell_type": "markdown",
      "id": "f34b7719",
      "metadata": {
        "id": "f34b7719"
      },
      "source": [
        "# 1. 라이브러리 및 데이터 불러오기"
      ]
    },
    {
      "cell_type": "code",
      "execution_count": null,
      "id": "4e34f1d1",
      "metadata": {
        "id": "4e34f1d1"
      },
      "outputs": [],
      "source": [
        "import pandas as pd\n",
        "import numpy as np\n",
        "import seaborn as sns\n",
        "import matplotlib.pyplot as plt"
      ]
    },
    {
      "cell_type": "code",
      "execution_count": null,
      "id": "d349158b",
      "metadata": {
        "id": "d349158b"
      },
      "outputs": [],
      "source": [
        "# !unzip dataset.zip"
      ]
    },
    {
      "cell_type": "code",
      "execution_count": null,
      "id": "250393a4",
      "metadata": {
        "id": "250393a4"
      },
      "outputs": [],
      "source": [
        "train = pd.read_csv('train.csv')\n",
        "test = pd.read_csv('test.csv')\n",
        "submission = pd.read_csv('sample_submission.csv')"
      ]
    },
    {
      "cell_type": "code",
      "execution_count": null,
      "id": "2cbe91af",
      "metadata": {
        "id": "2cbe91af",
        "outputId": "d39e683d-b129-410e-d297-94174610706a"
      },
      "outputs": [
        {
          "data": {
            "text/plain": [
              "((6255, 13), (180, 12), (180, 2))"
            ]
          },
          "execution_count": 4,
          "metadata": {},
          "output_type": "execute_result"
        }
      ],
      "source": [
        "train.shape, test.shape, submission.shape"
      ]
    },
    {
      "cell_type": "code",
      "execution_count": null,
      "id": "1dd5ef30",
      "metadata": {
        "id": "1dd5ef30"
      },
      "outputs": [],
      "source": [
        "# 원본 사본 만들어놓음\n",
        "train_ori = train.copy()\n",
        "test_ori = test.copy()\n",
        "submit_ori = submission.copy()"
      ]
    },
    {
      "cell_type": "markdown",
      "id": "9c3f4f80",
      "metadata": {
        "id": "9c3f4f80"
      },
      "source": [
        "# 2. 탐색적 데이터 분석"
      ]
    },
    {
      "cell_type": "markdown",
      "id": "2f28ab3f",
      "metadata": {
        "id": "2f28ab3f"
      },
      "source": [
        "### 2.1. 데이터 컬럼 정보\n",
        "**1. train.csv : 학습 데이터**\n",
        "<br>- id : 샘플 아이디\n",
        "<br>- Store : 쇼핑몰 지점\n",
        "<br>- Date : 주 단위(Weekly) 날짜\n",
        "<br>- Temperature : 해당 쇼핑몰 주변 기온\n",
        "<br>- Fuel_Price : 해당 쇼핑몰 주변 연료 가격\n",
        "<br>- Promotion 1~5 : 해당 쇼핑몰의 비식별화된 프로모션 정보\n",
        "<br>- Unemployment : 해당 쇼핑몰 지역의 실업률\n",
        "<br>- IsHoliday : 해당 기간의 공휴일 포함 여부\n",
        "<br>- Weekly_Sales : 주간 매출액 (목표 예측값)\n",
        "\n",
        "**2. sample_submission.csv : 제출 양식**\n",
        "<br>- id : 샘플 아이디\n",
        "<br>- Weekly_Sales : 주간 매출액 (목표 예측값)"
      ]
    },
    {
      "cell_type": "markdown",
      "id": "e994a05b",
      "metadata": {
        "id": "e994a05b"
      },
      "source": [
        "### 2.2. 데이터 상태 확인"
      ]
    },
    {
      "cell_type": "code",
      "execution_count": null,
      "id": "9f51d54c",
      "metadata": {
        "id": "9f51d54c",
        "outputId": "f0d85f0f-853e-4c7a-8861-3ba0dfe80eef"
      },
      "outputs": [
        {
          "name": "stdout",
          "output_type": "stream",
          "text": [
            "<class 'pandas.core.frame.DataFrame'>\n",
            "RangeIndex: 6255 entries, 0 to 6254\n",
            "Data columns (total 13 columns):\n",
            " #   Column        Non-Null Count  Dtype  \n",
            "---  ------        --------------  -----  \n",
            " 0   id            6255 non-null   int64  \n",
            " 1   Store         6255 non-null   int64  \n",
            " 2   Date          6255 non-null   object \n",
            " 3   Temperature   6255 non-null   float64\n",
            " 4   Fuel_Price    6255 non-null   float64\n",
            " 5   Promotion1    2102 non-null   float64\n",
            " 6   Promotion2    1592 non-null   float64\n",
            " 7   Promotion3    1885 non-null   float64\n",
            " 8   Promotion4    1819 non-null   float64\n",
            " 9   Promotion5    2115 non-null   float64\n",
            " 10  Unemployment  6255 non-null   float64\n",
            " 11  IsHoliday     6255 non-null   bool   \n",
            " 12  Weekly_Sales  6255 non-null   float64\n",
            "dtypes: bool(1), float64(9), int64(2), object(1)\n",
            "memory usage: 592.6+ KB\n"
          ]
        }
      ],
      "source": [
        "train.info()"
      ]
    },
    {
      "cell_type": "code",
      "execution_count": null,
      "id": "8b276788",
      "metadata": {
        "id": "8b276788",
        "outputId": "a97d799a-c6d1-4d00-d7be-5489420ab3cd"
      },
      "outputs": [
        {
          "name": "stdout",
          "output_type": "stream",
          "text": [
            "<class 'pandas.core.frame.DataFrame'>\n",
            "RangeIndex: 180 entries, 0 to 179\n",
            "Data columns (total 12 columns):\n",
            " #   Column        Non-Null Count  Dtype  \n",
            "---  ------        --------------  -----  \n",
            " 0   id            180 non-null    int64  \n",
            " 1   Store         180 non-null    int64  \n",
            " 2   Date          180 non-null    object \n",
            " 3   Temperature   180 non-null    float64\n",
            " 4   Fuel_Price    180 non-null    float64\n",
            " 5   Promotion1    178 non-null    float64\n",
            " 6   Promotion2    45 non-null     float64\n",
            " 7   Promotion3    161 non-null    float64\n",
            " 8   Promotion4    146 non-null    float64\n",
            " 9   Promotion5    180 non-null    float64\n",
            " 10  Unemployment  180 non-null    float64\n",
            " 11  IsHoliday     180 non-null    bool   \n",
            "dtypes: bool(1), float64(8), int64(2), object(1)\n",
            "memory usage: 15.8+ KB\n"
          ]
        }
      ],
      "source": [
        "test.info()"
      ]
    },
    {
      "cell_type": "code",
      "execution_count": null,
      "id": "b140de5f",
      "metadata": {
        "id": "b140de5f",
        "outputId": "1d132093-e91a-4dc2-d477-65ad59d55282"
      },
      "outputs": [
        {
          "data": {
            "text/html": [
              "<div>\n",
              "<style scoped>\n",
              "    .dataframe tbody tr th:only-of-type {\n",
              "        vertical-align: middle;\n",
              "    }\n",
              "\n",
              "    .dataframe tbody tr th {\n",
              "        vertical-align: top;\n",
              "    }\n",
              "\n",
              "    .dataframe thead th {\n",
              "        text-align: right;\n",
              "    }\n",
              "</style>\n",
              "<table border=\"1\" class=\"dataframe\">\n",
              "  <thead>\n",
              "    <tr style=\"text-align: right;\">\n",
              "      <th></th>\n",
              "      <th>id</th>\n",
              "      <th>Store</th>\n",
              "      <th>Date</th>\n",
              "      <th>Temperature</th>\n",
              "      <th>Fuel_Price</th>\n",
              "      <th>Promotion1</th>\n",
              "      <th>Promotion2</th>\n",
              "      <th>Promotion3</th>\n",
              "      <th>Promotion4</th>\n",
              "      <th>Promotion5</th>\n",
              "      <th>Unemployment</th>\n",
              "      <th>IsHoliday</th>\n",
              "      <th>Weekly_Sales</th>\n",
              "    </tr>\n",
              "  </thead>\n",
              "  <tbody>\n",
              "    <tr>\n",
              "      <th>0</th>\n",
              "      <td>1</td>\n",
              "      <td>1</td>\n",
              "      <td>05/02/2010</td>\n",
              "      <td>42.31</td>\n",
              "      <td>2.572</td>\n",
              "      <td>NaN</td>\n",
              "      <td>NaN</td>\n",
              "      <td>NaN</td>\n",
              "      <td>NaN</td>\n",
              "      <td>NaN</td>\n",
              "      <td>8.106</td>\n",
              "      <td>False</td>\n",
              "      <td>1643690.90</td>\n",
              "    </tr>\n",
              "    <tr>\n",
              "      <th>1</th>\n",
              "      <td>2</td>\n",
              "      <td>1</td>\n",
              "      <td>12/02/2010</td>\n",
              "      <td>38.51</td>\n",
              "      <td>2.548</td>\n",
              "      <td>NaN</td>\n",
              "      <td>NaN</td>\n",
              "      <td>NaN</td>\n",
              "      <td>NaN</td>\n",
              "      <td>NaN</td>\n",
              "      <td>8.106</td>\n",
              "      <td>True</td>\n",
              "      <td>1641957.44</td>\n",
              "    </tr>\n",
              "    <tr>\n",
              "      <th>2</th>\n",
              "      <td>3</td>\n",
              "      <td>1</td>\n",
              "      <td>19/02/2010</td>\n",
              "      <td>39.93</td>\n",
              "      <td>2.514</td>\n",
              "      <td>NaN</td>\n",
              "      <td>NaN</td>\n",
              "      <td>NaN</td>\n",
              "      <td>NaN</td>\n",
              "      <td>NaN</td>\n",
              "      <td>8.106</td>\n",
              "      <td>False</td>\n",
              "      <td>1611968.17</td>\n",
              "    </tr>\n",
              "    <tr>\n",
              "      <th>3</th>\n",
              "      <td>4</td>\n",
              "      <td>1</td>\n",
              "      <td>26/02/2010</td>\n",
              "      <td>46.63</td>\n",
              "      <td>2.561</td>\n",
              "      <td>NaN</td>\n",
              "      <td>NaN</td>\n",
              "      <td>NaN</td>\n",
              "      <td>NaN</td>\n",
              "      <td>NaN</td>\n",
              "      <td>8.106</td>\n",
              "      <td>False</td>\n",
              "      <td>1409727.59</td>\n",
              "    </tr>\n",
              "    <tr>\n",
              "      <th>4</th>\n",
              "      <td>5</td>\n",
              "      <td>1</td>\n",
              "      <td>05/03/2010</td>\n",
              "      <td>46.50</td>\n",
              "      <td>2.625</td>\n",
              "      <td>NaN</td>\n",
              "      <td>NaN</td>\n",
              "      <td>NaN</td>\n",
              "      <td>NaN</td>\n",
              "      <td>NaN</td>\n",
              "      <td>8.106</td>\n",
              "      <td>False</td>\n",
              "      <td>1554806.68</td>\n",
              "    </tr>\n",
              "  </tbody>\n",
              "</table>\n",
              "</div>"
            ],
            "text/plain": [
              "   id  Store        Date  Temperature  Fuel_Price  Promotion1  Promotion2  \\\n",
              "0   1      1  05/02/2010        42.31       2.572         NaN         NaN   \n",
              "1   2      1  12/02/2010        38.51       2.548         NaN         NaN   \n",
              "2   3      1  19/02/2010        39.93       2.514         NaN         NaN   \n",
              "3   4      1  26/02/2010        46.63       2.561         NaN         NaN   \n",
              "4   5      1  05/03/2010        46.50       2.625         NaN         NaN   \n",
              "\n",
              "   Promotion3  Promotion4  Promotion5  Unemployment  IsHoliday  Weekly_Sales  \n",
              "0         NaN         NaN         NaN         8.106      False    1643690.90  \n",
              "1         NaN         NaN         NaN         8.106       True    1641957.44  \n",
              "2         NaN         NaN         NaN         8.106      False    1611968.17  \n",
              "3         NaN         NaN         NaN         8.106      False    1409727.59  \n",
              "4         NaN         NaN         NaN         8.106      False    1554806.68  "
            ]
          },
          "execution_count": 8,
          "metadata": {},
          "output_type": "execute_result"
        }
      ],
      "source": [
        "# 데이터 샘플 확인\n",
        "train.head(5)"
      ]
    },
    {
      "cell_type": "code",
      "execution_count": null,
      "id": "c9b31044",
      "metadata": {
        "id": "c9b31044",
        "outputId": "a2f8e3a7-ebf5-4bc0-f63f-bdfa8f22d2ab"
      },
      "outputs": [
        {
          "data": {
            "text/html": [
              "<div>\n",
              "<style scoped>\n",
              "    .dataframe tbody tr th:only-of-type {\n",
              "        vertical-align: middle;\n",
              "    }\n",
              "\n",
              "    .dataframe tbody tr th {\n",
              "        vertical-align: top;\n",
              "    }\n",
              "\n",
              "    .dataframe thead th {\n",
              "        text-align: right;\n",
              "    }\n",
              "</style>\n",
              "<table border=\"1\" class=\"dataframe\">\n",
              "  <thead>\n",
              "    <tr style=\"text-align: right;\">\n",
              "      <th></th>\n",
              "      <th>id</th>\n",
              "      <th>Store</th>\n",
              "      <th>Date</th>\n",
              "      <th>Temperature</th>\n",
              "      <th>Fuel_Price</th>\n",
              "      <th>Promotion1</th>\n",
              "      <th>Promotion2</th>\n",
              "      <th>Promotion3</th>\n",
              "      <th>Promotion4</th>\n",
              "      <th>Promotion5</th>\n",
              "      <th>Unemployment</th>\n",
              "      <th>IsHoliday</th>\n",
              "      <th>Weekly_Sales</th>\n",
              "    </tr>\n",
              "  </thead>\n",
              "  <tbody>\n",
              "    <tr>\n",
              "      <th>1327</th>\n",
              "      <td>1328</td>\n",
              "      <td>10</td>\n",
              "      <td>22/07/2011</td>\n",
              "      <td>88.59</td>\n",
              "      <td>3.697</td>\n",
              "      <td>NaN</td>\n",
              "      <td>NaN</td>\n",
              "      <td>NaN</td>\n",
              "      <td>NaN</td>\n",
              "      <td>NaN</td>\n",
              "      <td>8.257</td>\n",
              "      <td>False</td>\n",
              "      <td>1774342.61</td>\n",
              "    </tr>\n",
              "    <tr>\n",
              "      <th>2889</th>\n",
              "      <td>2890</td>\n",
              "      <td>21</td>\n",
              "      <td>09/03/2012</td>\n",
              "      <td>57.16</td>\n",
              "      <td>3.669</td>\n",
              "      <td>7379.46</td>\n",
              "      <td>190.49</td>\n",
              "      <td>4.79</td>\n",
              "      <td>479.87</td>\n",
              "      <td>7489.48</td>\n",
              "      <td>7.057</td>\n",
              "      <td>False</td>\n",
              "      <td>755084.40</td>\n",
              "    </tr>\n",
              "    <tr>\n",
              "      <th>5617</th>\n",
              "      <td>5618</td>\n",
              "      <td>41</td>\n",
              "      <td>11/03/2011</td>\n",
              "      <td>31.60</td>\n",
              "      <td>3.372</td>\n",
              "      <td>NaN</td>\n",
              "      <td>NaN</td>\n",
              "      <td>NaN</td>\n",
              "      <td>NaN</td>\n",
              "      <td>NaN</td>\n",
              "      <td>7.241</td>\n",
              "      <td>False</td>\n",
              "      <td>1159089.60</td>\n",
              "    </tr>\n",
              "    <tr>\n",
              "      <th>1990</th>\n",
              "      <td>1991</td>\n",
              "      <td>15</td>\n",
              "      <td>10/12/2010</td>\n",
              "      <td>23.97</td>\n",
              "      <td>3.255</td>\n",
              "      <td>NaN</td>\n",
              "      <td>NaN</td>\n",
              "      <td>NaN</td>\n",
              "      <td>NaN</td>\n",
              "      <td>NaN</td>\n",
              "      <td>8.067</td>\n",
              "      <td>False</td>\n",
              "      <td>847294.04</td>\n",
              "    </tr>\n",
              "    <tr>\n",
              "      <th>5694</th>\n",
              "      <td>5695</td>\n",
              "      <td>41</td>\n",
              "      <td>31/08/2012</td>\n",
              "      <td>71.56</td>\n",
              "      <td>3.556</td>\n",
              "      <td>17423.04</td>\n",
              "      <td>14.94</td>\n",
              "      <td>58.91</td>\n",
              "      <td>4700.30</td>\n",
              "      <td>6180.92</td>\n",
              "      <td>6.432</td>\n",
              "      <td>False</td>\n",
              "      <td>1360517.52</td>\n",
              "    </tr>\n",
              "  </tbody>\n",
              "</table>\n",
              "</div>"
            ],
            "text/plain": [
              "        id  Store        Date  Temperature  Fuel_Price  Promotion1  \\\n",
              "1327  1328     10  22/07/2011        88.59       3.697         NaN   \n",
              "2889  2890     21  09/03/2012        57.16       3.669     7379.46   \n",
              "5617  5618     41  11/03/2011        31.60       3.372         NaN   \n",
              "1990  1991     15  10/12/2010        23.97       3.255         NaN   \n",
              "5694  5695     41  31/08/2012        71.56       3.556    17423.04   \n",
              "\n",
              "      Promotion2  Promotion3  Promotion4  Promotion5  Unemployment  IsHoliday  \\\n",
              "1327         NaN         NaN         NaN         NaN         8.257      False   \n",
              "2889      190.49        4.79      479.87     7489.48         7.057      False   \n",
              "5617         NaN         NaN         NaN         NaN         7.241      False   \n",
              "1990         NaN         NaN         NaN         NaN         8.067      False   \n",
              "5694       14.94       58.91     4700.30     6180.92         6.432      False   \n",
              "\n",
              "      Weekly_Sales  \n",
              "1327    1774342.61  \n",
              "2889     755084.40  \n",
              "5617    1159089.60  \n",
              "1990     847294.04  \n",
              "5694    1360517.52  "
            ]
          },
          "execution_count": 9,
          "metadata": {},
          "output_type": "execute_result"
        }
      ],
      "source": [
        "train.sample(5)"
      ]
    },
    {
      "cell_type": "code",
      "execution_count": null,
      "id": "01efc818",
      "metadata": {
        "id": "01efc818",
        "outputId": "b70202f4-0955-48dd-964f-e9216633a811"
      },
      "outputs": [
        {
          "data": {
            "text/plain": [
              "id              6255\n",
              "Store             45\n",
              "Date             139\n",
              "Temperature     3470\n",
              "Fuel_Price       877\n",
              "Promotion1      2099\n",
              "Promotion2      1457\n",
              "Promotion3      1562\n",
              "Promotion4      1798\n",
              "Promotion5      2114\n",
              "Unemployment     321\n",
              "IsHoliday          2\n",
              "Weekly_Sales    6255\n",
              "dtype: int64"
            ]
          },
          "execution_count": 10,
          "metadata": {},
          "output_type": "execute_result"
        }
      ],
      "source": [
        "# unique 값 확인\n",
        "train.nunique()"
      ]
    },
    {
      "cell_type": "code",
      "execution_count": null,
      "id": "cbc0addf",
      "metadata": {
        "id": "cbc0addf",
        "outputId": "4db018c6-6e1f-443a-9da7-4fdd794fbec7"
      },
      "outputs": [
        {
          "data": {
            "text/plain": [
              "array([[<AxesSubplot:title={'center':'id'}>,\n",
              "        <AxesSubplot:title={'center':'Store'}>,\n",
              "        <AxesSubplot:title={'center':'Temperature'}>],\n",
              "       [<AxesSubplot:title={'center':'Fuel_Price'}>,\n",
              "        <AxesSubplot:title={'center':'Promotion1'}>,\n",
              "        <AxesSubplot:title={'center':'Promotion2'}>],\n",
              "       [<AxesSubplot:title={'center':'Promotion3'}>,\n",
              "        <AxesSubplot:title={'center':'Promotion4'}>,\n",
              "        <AxesSubplot:title={'center':'Promotion5'}>],\n",
              "       [<AxesSubplot:title={'center':'Unemployment'}>,\n",
              "        <AxesSubplot:title={'center':'Weekly_Sales'}>, <AxesSubplot:>]],\n",
              "      dtype=object)"
            ]
          },
          "execution_count": 11,
          "metadata": {},
          "output_type": "execute_result"
        },
        {
          "data": {
            "image/png": "[encoded data removed]",
            "text/plain": [
              "<Figure size 720x864 with 12 Axes>"
            ]
          },
          "metadata": {
            "needs_background": "light"
          },
          "output_type": "display_data"
        }
      ],
      "source": [
        "# 도수분포\n",
        "train.hist(bins = 50, figsize = (10, 12))"
      ]
    },
    {
      "cell_type": "code",
      "execution_count": null,
      "id": "78852ec7",
      "metadata": {
        "id": "78852ec7",
        "outputId": "e0501b2e-7b28-4705-9399-870270fbcafb"
      },
      "outputs": [
        {
          "data": {
            "text/plain": [
              "0"
            ]
          },
          "execution_count": 12,
          "metadata": {},
          "output_type": "execute_result"
        }
      ],
      "source": [
        "# 중복 확인\n",
        "train.duplicated().sum()"
      ]
    },
    {
      "cell_type": "code",
      "execution_count": null,
      "id": "d14adca7",
      "metadata": {
        "id": "d14adca7",
        "outputId": "989ec9f1-f08d-40ae-c996-40be9ff99b39"
      },
      "outputs": [
        {
          "data": {
            "text/plain": [
              "id                 0\n",
              "Store              0\n",
              "Date               0\n",
              "Temperature        0\n",
              "Fuel_Price         0\n",
              "Promotion1      4153\n",
              "Promotion2      4663\n",
              "Promotion3      4370\n",
              "Promotion4      4436\n",
              "Promotion5      4140\n",
              "Unemployment       0\n",
              "IsHoliday          0\n",
              "Weekly_Sales       0\n",
              "dtype: int64"
            ]
          },
          "execution_count": 13,
          "metadata": {},
          "output_type": "execute_result"
        }
      ],
      "source": [
        "# 결측치 확인\n",
        "train.isnull().sum()"
      ]
    },
    {
      "cell_type": "code",
      "execution_count": null,
      "id": "f0b3c22e",
      "metadata": {
        "id": "f0b3c22e",
        "outputId": "f431c3f8-1161-4418-e11e-3b96159db733"
      },
      "outputs": [
        {
          "data": {
            "text/plain": [
              "Promotion1      2\n",
              "Promotion2    135\n",
              "Promotion3     19\n",
              "Promotion4     34\n",
              "dtype: int64"
            ]
          },
          "execution_count": 14,
          "metadata": {},
          "output_type": "execute_result"
        }
      ],
      "source": [
        "test.isnull().sum()[test.isnull().sum()>0]"
      ]
    },
    {
      "cell_type": "code",
      "execution_count": null,
      "id": "c50fd371",
      "metadata": {
        "id": "c50fd371",
        "outputId": "f8bda1cb-e3da-44c3-b0ee-f827e5ff4bc9"
      },
      "outputs": [
        {
          "data": {
            "text/html": [
              "<div>\n",
              "<style scoped>\n",
              "    .dataframe tbody tr th:only-of-type {\n",
              "        vertical-align: middle;\n",
              "    }\n",
              "\n",
              "    .dataframe tbody tr th {\n",
              "        vertical-align: top;\n",
              "    }\n",
              "\n",
              "    .dataframe thead th {\n",
              "        text-align: right;\n",
              "    }\n",
              "</style>\n",
              "<table border=\"1\" class=\"dataframe\">\n",
              "  <thead>\n",
              "    <tr style=\"text-align: right;\">\n",
              "      <th></th>\n",
              "      <th>id</th>\n",
              "      <th>Store</th>\n",
              "      <th>Temperature</th>\n",
              "      <th>Fuel_Price</th>\n",
              "      <th>Promotion1</th>\n",
              "      <th>Promotion2</th>\n",
              "      <th>Promotion3</th>\n",
              "      <th>Promotion4</th>\n",
              "      <th>Promotion5</th>\n",
              "      <th>Unemployment</th>\n",
              "      <th>Weekly_Sales</th>\n",
              "    </tr>\n",
              "  </thead>\n",
              "  <tbody>\n",
              "    <tr>\n",
              "      <th>count</th>\n",
              "      <td>6255.000000</td>\n",
              "      <td>6255.000000</td>\n",
              "      <td>6255.000000</td>\n",
              "      <td>6255.000000</td>\n",
              "      <td>2102.000000</td>\n",
              "      <td>1592.000000</td>\n",
              "      <td>1885.000000</td>\n",
              "      <td>1819.000000</td>\n",
              "      <td>2115.000000</td>\n",
              "      <td>6255.000000</td>\n",
              "      <td>6.255000e+03</td>\n",
              "    </tr>\n",
              "    <tr>\n",
              "      <th>mean</th>\n",
              "      <td>3128.000000</td>\n",
              "      <td>23.000000</td>\n",
              "      <td>60.639199</td>\n",
              "      <td>3.344369</td>\n",
              "      <td>7155.930661</td>\n",
              "      <td>3308.125810</td>\n",
              "      <td>1462.535523</td>\n",
              "      <td>3465.952501</td>\n",
              "      <td>4518.993173</td>\n",
              "      <td>8.029236</td>\n",
              "      <td>1.047619e+06</td>\n",
              "    </tr>\n",
              "    <tr>\n",
              "      <th>std</th>\n",
              "      <td>1805.807299</td>\n",
              "      <td>12.988211</td>\n",
              "      <td>18.624094</td>\n",
              "      <td>0.455364</td>\n",
              "      <td>8408.206085</td>\n",
              "      <td>9382.823804</td>\n",
              "      <td>9667.580258</td>\n",
              "      <td>6413.116294</td>\n",
              "      <td>6048.661908</td>\n",
              "      <td>1.874875</td>\n",
              "      <td>5.654362e+05</td>\n",
              "    </tr>\n",
              "    <tr>\n",
              "      <th>min</th>\n",
              "      <td>1.000000</td>\n",
              "      <td>1.000000</td>\n",
              "      <td>-2.060000</td>\n",
              "      <td>2.472000</td>\n",
              "      <td>0.270000</td>\n",
              "      <td>-265.760000</td>\n",
              "      <td>-29.100000</td>\n",
              "      <td>0.410000</td>\n",
              "      <td>135.160000</td>\n",
              "      <td>4.077000</td>\n",
              "      <td>2.099862e+05</td>\n",
              "    </tr>\n",
              "    <tr>\n",
              "      <th>25%</th>\n",
              "      <td>1564.500000</td>\n",
              "      <td>12.000000</td>\n",
              "      <td>47.170000</td>\n",
              "      <td>2.917000</td>\n",
              "      <td>1844.295000</td>\n",
              "      <td>39.755000</td>\n",
              "      <td>4.700000</td>\n",
              "      <td>499.895000</td>\n",
              "      <td>1742.305000</td>\n",
              "      <td>6.916500</td>\n",
              "      <td>5.538695e+05</td>\n",
              "    </tr>\n",
              "    <tr>\n",
              "      <th>50%</th>\n",
              "      <td>3128.000000</td>\n",
              "      <td>23.000000</td>\n",
              "      <td>62.720000</td>\n",
              "      <td>3.413000</td>\n",
              "      <td>5221.140000</td>\n",
              "      <td>205.410000</td>\n",
              "      <td>24.600000</td>\n",
              "      <td>1532.630000</td>\n",
              "      <td>3226.410000</td>\n",
              "      <td>7.906000</td>\n",
              "      <td>9.604761e+05</td>\n",
              "    </tr>\n",
              "    <tr>\n",
              "      <th>75%</th>\n",
              "      <td>4691.500000</td>\n",
              "      <td>34.000000</td>\n",
              "      <td>75.220000</td>\n",
              "      <td>3.722000</td>\n",
              "      <td>9199.242500</td>\n",
              "      <td>1931.005000</td>\n",
              "      <td>104.010000</td>\n",
              "      <td>3640.905000</td>\n",
              "      <td>5444.030000</td>\n",
              "      <td>8.622000</td>\n",
              "      <td>1.421209e+06</td>\n",
              "    </tr>\n",
              "    <tr>\n",
              "      <th>max</th>\n",
              "      <td>6255.000000</td>\n",
              "      <td>45.000000</td>\n",
              "      <td>100.140000</td>\n",
              "      <td>4.308000</td>\n",
              "      <td>88646.760000</td>\n",
              "      <td>104519.540000</td>\n",
              "      <td>141630.610000</td>\n",
              "      <td>67474.850000</td>\n",
              "      <td>108519.280000</td>\n",
              "      <td>14.313000</td>\n",
              "      <td>3.818686e+06</td>\n",
              "    </tr>\n",
              "  </tbody>\n",
              "</table>\n",
              "</div>"
            ],
            "text/plain": [
              "                id        Store  Temperature   Fuel_Price    Promotion1  \\\n",
              "count  6255.000000  6255.000000  6255.000000  6255.000000   2102.000000   \n",
              "mean   3128.000000    23.000000    60.639199     3.344369   7155.930661   \n",
              "std    1805.807299    12.988211    18.624094     0.455364   8408.206085   \n",
              "min       1.000000     1.000000    -2.060000     2.472000      0.270000   \n",
              "25%    1564.500000    12.000000    47.170000     2.917000   1844.295000   \n",
              "50%    3128.000000    23.000000    62.720000     3.413000   5221.140000   \n",
              "75%    4691.500000    34.000000    75.220000     3.722000   9199.242500   \n",
              "max    6255.000000    45.000000   100.140000     4.308000  88646.760000   \n",
              "\n",
              "          Promotion2     Promotion3    Promotion4     Promotion5  \\\n",
              "count    1592.000000    1885.000000   1819.000000    2115.000000   \n",
              "mean     3308.125810    1462.535523   3465.952501    4518.993173   \n",
              "std      9382.823804    9667.580258   6413.116294    6048.661908   \n",
              "min      -265.760000     -29.100000      0.410000     135.160000   \n",
              "25%        39.755000       4.700000    499.895000    1742.305000   \n",
              "50%       205.410000      24.600000   1532.630000    3226.410000   \n",
              "75%      1931.005000     104.010000   3640.905000    5444.030000   \n",
              "max    104519.540000  141630.610000  67474.850000  108519.280000   \n",
              "\n",
              "       Unemployment  Weekly_Sales  \n",
              "count   6255.000000  6.255000e+03  \n",
              "mean       8.029236  1.047619e+06  \n",
              "std        1.874875  5.654362e+05  \n",
              "min        4.077000  2.099862e+05  \n",
              "25%        6.916500  5.538695e+05  \n",
              "50%        7.906000  9.604761e+05  \n",
              "75%        8.622000  1.421209e+06  \n",
              "max       14.313000  3.818686e+06  "
            ]
          },
          "execution_count": 20,
          "metadata": {},
          "output_type": "execute_result"
        }
      ],
      "source": [
        "# 기술통계\n",
        "desc = train.describe()\n",
        "desc"
      ]
    },
    {
      "cell_type": "code",
      "execution_count": null,
      "id": "bc47064e",
      "metadata": {
        "id": "bc47064e",
        "outputId": "3bcc308e-0521-476f-9b34-59490f2f469c"
      },
      "outputs": [
        {
          "data": {
            "text/plain": [
              "6.043478260869565"
            ]
          },
          "execution_count": 16,
          "metadata": {},
          "output_type": "execute_result"
        }
      ],
      "source": [
        "6255/(23*45) # 딱 안 떨어지는 걸로 보아 Store마다 샘플 수가 다름"
      ]
    },
    {
      "cell_type": "markdown",
      "id": "4e67d2aa",
      "metadata": {
        "id": "4e67d2aa"
      },
      "source": [
        "**위 기술통계를 통해 얻은 insight, 확인 필요 포인트**\n",
        "<br> 1. store마다 샘플 수가 다름 > 샘플 수는 곧 해당 주의 매출 유무와 연결되고, 따라서 꾸준히 방문하는 손님의 존재 유무로 생각\n",
        "<br> 2. temperature: -2부터 100 사이 값을 가짐 > 날짜에서 계절을 파생, 계절과 연관성을 통해 단위가 C degree가 맞는지 확인\n",
        "<br> 3. fuel price: 주차 별/store 별 fuel price 평균값에 차이가 있는지 확인\n",
        "<br> 4-1. promotion: 결측치 너무 많음\n",
        "<br> 4-2. promotion: 편차 너무 큼\n",
        "<br> 4-3. promotion: 마이너스 값이 존재 \n",
        "<br>      위 값을 종합해 보았을 때, promotion은 프로모션으로 인해 발생한 수익을 의미하는 것 같음\n",
        "<br> 4-4. promotion: 그럼 동 기간에, 하나의 쇼핑몰은 하나의 프로모션만 진행하는지? \n",
        "<br> 5. unemployment: 얘도 min과 max의 차이가 꽤 큰 편 - 쇼핑몰 별로 차이가 있는지 확인\n",
        "<br> 6. weekly sales: min과 max 값이 거의 20배 차이남 \n"
      ]
    },
    {
      "cell_type": "code",
      "execution_count": null,
      "id": "914abb52",
      "metadata": {
        "id": "914abb52",
        "outputId": "808d4548-811b-4a12-b40e-58a54049c0ee"
      },
      "outputs": [
        {
          "data": {
            "text/html": [
              "<div>\n",
              "<style scoped>\n",
              "    .dataframe tbody tr th:only-of-type {\n",
              "        vertical-align: middle;\n",
              "    }\n",
              "\n",
              "    .dataframe tbody tr th {\n",
              "        vertical-align: top;\n",
              "    }\n",
              "\n",
              "    .dataframe thead th {\n",
              "        text-align: right;\n",
              "    }\n",
              "</style>\n",
              "<table border=\"1\" class=\"dataframe\">\n",
              "  <thead>\n",
              "    <tr style=\"text-align: right;\">\n",
              "      <th></th>\n",
              "      <th>Date</th>\n",
              "    </tr>\n",
              "  </thead>\n",
              "  <tbody>\n",
              "    <tr>\n",
              "      <th>count</th>\n",
              "      <td>6255</td>\n",
              "    </tr>\n",
              "    <tr>\n",
              "      <th>unique</th>\n",
              "      <td>139</td>\n",
              "    </tr>\n",
              "    <tr>\n",
              "      <th>top</th>\n",
              "      <td>05/02/2010</td>\n",
              "    </tr>\n",
              "    <tr>\n",
              "      <th>freq</th>\n",
              "      <td>45</td>\n",
              "    </tr>\n",
              "  </tbody>\n",
              "</table>\n",
              "</div>"
            ],
            "text/plain": [
              "              Date\n",
              "count         6255\n",
              "unique         139\n",
              "top     05/02/2010\n",
              "freq            45"
            ]
          },
          "execution_count": 17,
          "metadata": {},
          "output_type": "execute_result"
        }
      ],
      "source": [
        "train.describe(include = ['O'])"
      ]
    },
    {
      "cell_type": "code",
      "execution_count": null,
      "id": "8fc8b6e1",
      "metadata": {
        "id": "8fc8b6e1"
      },
      "outputs": [],
      "source": [
        "ncols = train.select_dtypes(include = 'number').columns.tolist()\n",
        "df_temp = pd.DataFrame()\n",
        "\n",
        "for col in ncols:\n",
        "    col_min = desc.loc['min', col]\n",
        "    df_temp[col] = train[col].map(lambda x: x - col_min if col_min<0 else x )\n"
      ]
    },
    {
      "cell_type": "code",
      "execution_count": null,
      "id": "28521c70",
      "metadata": {
        "id": "28521c70",
        "outputId": "125cc5b2-d8a4-4a41-cb0f-d943d13041fc"
      },
      "outputs": [
        {
          "data": {
            "text/plain": [
              "array([[<AxesSubplot:title={'center':'Fuel_Price'}>,\n",
              "        <AxesSubplot:title={'center':'Promotion1'}>,\n",
              "        <AxesSubplot:title={'center':'Promotion2'}>],\n",
              "       [<AxesSubplot:title={'center':'Promotion3'}>,\n",
              "        <AxesSubplot:title={'center':'Promotion4'}>,\n",
              "        <AxesSubplot:title={'center':'Promotion5'}>],\n",
              "       [<AxesSubplot:title={'center':'Unemployment'}>,\n",
              "        <AxesSubplot:title={'center':'Weekly_Sales'}>, <AxesSubplot:>]],\n",
              "      dtype=object)"
            ]
          },
          "execution_count": 27,
          "metadata": {},
          "output_type": "execute_result"
        },
        {
          "data": {
            "image/png": "[encoded data removed]",
            "text/plain": [
              "<Figure size 720x576 with 9 Axes>"
            ]
          },
          "metadata": {
            "needs_background": "light"
          },
          "output_type": "display_data"
        }
      ],
      "source": [
        "# 스케일 너무 커서 로그 취한 뒤 도수분포\n",
        "np.log1p(df_temp.loc[:, 'Fuel_Price':]).hist(bins = 50, figsize = (10, 8))"
      ]
    },
    {
      "cell_type": "markdown",
      "id": "6465508c",
      "metadata": {
        "id": "6465508c"
      },
      "source": [
        "### 2.3. Feature engineering"
      ]
    },
    {
      "cell_type": "code",
      "execution_count": null,
      "id": "c21fe4a6",
      "metadata": {
        "id": "c21fe4a6"
      },
      "outputs": [],
      "source": [
        ""
      ]
    },
    {
      "cell_type": "code",
      "execution_count": null,
      "id": "7a82ec2e",
      "metadata": {
        "id": "7a82ec2e"
      },
      "outputs": [],
      "source": [
        ""
      ]
    },
    {
      "cell_type": "code",
      "execution_count": null,
      "id": "1d10bbdd",
      "metadata": {
        "id": "1d10bbdd"
      },
      "outputs": [],
      "source": [
        ""
      ]
    },
    {
      "cell_type": "code",
      "execution_count": null,
      "id": "2a78edd0",
      "metadata": {
        "id": "2a78edd0"
      },
      "outputs": [],
      "source": [
        ""
      ]
    },
    {
      "cell_type": "code",
      "execution_count": null,
      "id": "c3404366",
      "metadata": {
        "id": "c3404366"
      },
      "outputs": [],
      "source": [
        ""
      ]
    },
    {
      "cell_type": "code",
      "execution_count": null,
      "id": "c15a162a",
      "metadata": {
        "id": "c15a162a"
      },
      "outputs": [],
      "source": [
        ""
      ]
    },
    {
      "cell_type": "code",
      "execution_count": null,
      "id": "7a2ea16e",
      "metadata": {
        "id": "7a2ea16e"
      },
      "outputs": [],
      "source": [
        ""
      ]
    },
    {
      "cell_type": "code",
      "execution_count": null,
      "id": "b8a57ef4",
      "metadata": {
        "id": "b8a57ef4"
      },
      "outputs": [],
      "source": [
        ""
      ]
    },
    {
      "cell_type": "code",
      "execution_count": null,
      "id": "5709bea2",
      "metadata": {
        "id": "5709bea2"
      },
      "outputs": [],
      "source": [
        ""
      ]
    },
    {
      "cell_type": "code",
      "execution_count": null,
      "id": "d7f82aff",
      "metadata": {
        "id": "d7f82aff"
      },
      "outputs": [],
      "source": [
        ""
      ]
    },
    {
      "cell_type": "code",
      "execution_count": null,
      "id": "01dbd918",
      "metadata": {
        "id": "01dbd918"
      },
      "outputs": [],
      "source": [
        ""
      ]
    },
    {
      "cell_type": "code",
      "execution_count": null,
      "id": "61135658",
      "metadata": {
        "id": "61135658"
      },
      "outputs": [],
      "source": [
        ""
      ]
    },
    {
      "cell_type": "code",
      "execution_count": null,
      "id": "a1c31ee6",
      "metadata": {
        "id": "a1c31ee6"
      },
      "outputs": [],
      "source": [
        ""
      ]
    },
    {
      "cell_type": "code",
      "execution_count": null,
      "id": "157d8372",
      "metadata": {
        "id": "157d8372"
      },
      "outputs": [],
      "source": [
        ""
      ]
    },
    {
      "cell_type": "code",
      "execution_count": null,
      "id": "c0b1cc90",
      "metadata": {
        "id": "c0b1cc90"
      },
      "outputs": [],
      "source": [
        ""
      ]
    },
    {
      "cell_type": "code",
      "execution_count": null,
      "id": "25511a14",
      "metadata": {
        "id": "25511a14"
      },
      "outputs": [],
      "source": [
        ""
      ]
    },
    {
      "cell_type": "code",
      "execution_count": null,
      "id": "8ad9c92f",
      "metadata": {
        "id": "8ad9c92f"
      },
      "outputs": [],
      "source": [
        ""
      ]
    },
    {
      "cell_type": "code",
      "execution_count": null,
      "id": "2d248f5b",
      "metadata": {
        "id": "2d248f5b"
      },
      "outputs": [],
      "source": [
        ""
      ]
    },
    {
      "cell_type": "code",
      "execution_count": null,
      "id": "d84b4ced",
      "metadata": {
        "id": "d84b4ced"
      },
      "outputs": [],
      "source": [
        ""
      ]
    },
    {
      "cell_type": "code",
      "execution_count": null,
      "id": "394cf9f3",
      "metadata": {
        "id": "394cf9f3"
      },
      "outputs": [],
      "source": [
        ""
      ]
    },
    {
      "cell_type": "code",
      "execution_count": null,
      "id": "aa6f1e81",
      "metadata": {
        "id": "aa6f1e81"
      },
      "outputs": [],
      "source": [
        ""
      ]
    },
    {
      "cell_type": "code",
      "execution_count": null,
      "id": "b37401de",
      "metadata": {
        "id": "b37401de"
      },
      "outputs": [],
      "source": [
        ""
      ]
    },
    {
      "cell_type": "code",
      "execution_count": null,
      "id": "1200baed",
      "metadata": {
        "id": "1200baed"
      },
      "outputs": [],
      "source": [
        ""
      ]
    },
    {
      "cell_type": "code",
      "execution_count": null,
      "id": "77a86f1d",
      "metadata": {
        "id": "77a86f1d"
      },
      "outputs": [],
      "source": [
        ""
      ]
    },
    {
      "cell_type": "code",
      "execution_count": null,
      "id": "2f1211dc",
      "metadata": {
        "id": "2f1211dc"
      },
      "outputs": [],
      "source": [
        ""
      ]
    }
  ],
  "metadata": {
    "kernelspec": {
      "display_name": "Python 3.8 (NGC 22.03 / TensorFlow 2.8) on Backend.AI",
      "language": "python",
      "name": "python3"
    },
    "language_info": {
      "codemirror_mode": {
        "name": "ipython",
        "version": 3
      },
      "file_extension": ".py",
      "mimetype": "text/x-python",
      "name": "python",
      "nbconvert_exporter": "python",
      "pygments_lexer": "ipython3",
      "version": "3.8.10"
    },
    "colab": {
      "name": "WK31_Case1_ML_Prediction_Sales of each shops.ipynb",
      "provenance": [],
      "include_colab_link": true
    }
  },
  "nbformat": 4,
  "nbformat_minor": 5
}