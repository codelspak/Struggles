{
  "nbformat": 4,
  "nbformat_minor": 0,
  "metadata": {
    "colab": {
      "name": "WK26_case1_Kaggle_ML_Classification_iris.ipynb",
      "provenance": [],
      "collapsed_sections": [],
      "toc_visible": true,
      "authorship_tag": "ABX9TyOU3+BC9RBx9TBSSyzq0uLn",
      "include_colab_link": true
    },
    "kernelspec": {
      "name": "python3",
      "display_name": "Python 3"
    },
    "language_info": {
      "name": "python"
    }
  },
  "cells": [
    {
      "cell_type": "markdown",
      "metadata": {
        "id": "view-in-github",
        "colab_type": "text"
      },
      "source": [
        "<a href=\"https://colab.research.google.com/github/codelspak/Struggles/blob/main/WK26_case1_Kaggle_ML_Classification_iris.ipynb\" target=\"_parent\"><img src=\"https://colab.research.google.com/assets/colab-badge.svg\" alt=\"Open In Colab\"/></a>"
      ]
    },
    {
      "cell_type": "markdown",
      "source": [
        "# Study case1. 싸이킷런 내장 iris 데이터 이용 - Kaggle 노트북 필사\n",
        "https://www.kaggle.com/code/lalitharajesh/iris-dataset-exploratory-data-analysis"
      ],
      "metadata": {
        "id": "lnk7YeRJ6h4L"
      }
    },
    {
      "cell_type": "code",
      "execution_count": 1,
      "metadata": {
        "id": "quVlpB4nNGo1"
      },
      "outputs": [],
      "source": [
        "import pandas as pd\n",
        "import numpy as np\n",
        "import seaborn as sns\n",
        "import matplotlib.pyplot as plt\n",
        "%matplotlib inline\n",
        "from matplotlib.colors import ListedColormap\n",
        "\n",
        "# 데이터 불러오기\n",
        "from sklearn.datasets import load_iris\n",
        "\n",
        "# 머신러닝 모델링 (학습/예측)\n",
        "from sklearn import metrics\n",
        "from sklearn.neighbors import KNeighborsClassifier\n",
        "from sklearn.linear_model import LinearRegression\n",
        "from sklearn.model_selection import train_test_split\n",
        "from sklearn import neighbors, datasets\n",
        "from sklearn.metrics import confusion_matrix\n",
        "from sklearn.model_selection import cross_val_score\n",
        "from sklearn.metrics import classification_report\n",
        "from sklearn.metrics import accuracy_score"
      ]
    },
    {
      "cell_type": "markdown",
      "source": [
        "# 1. 라이브러리 및 데이터셋 불러오기\n",
        "##### scikit learn 내장 iris 데이터 이용해줄거임\n",
        "##### 보면 이 빌트인 데이터는, Bunch라는 매우 낯선 형태의 자료구조를 갖는 걸 알 수 있음 (key-value 형식으로, dictionary형 타입과 유사함)\n"
      ],
      "metadata": {
        "id": "PfBWJlIe1umK"
      }
    },
    {
      "cell_type": "code",
      "source": [
        "# sklearn 내장 데이터 불러옴\n",
        "# 참고 블로그\n",
        "print('https://blog.naver.com/PostView.naver?blogId=pmw9440&logNo=221846636945')"
      ],
      "metadata": {
        "colab": {
          "base_uri": "https://localhost:8080/"
        },
        "id": "NEvelw6W326T",
        "outputId": "dfa1bf3a-7014-4625-c6cb-b703170f4902"
      },
      "execution_count": 2,
      "outputs": [
        {
          "output_type": "stream",
          "name": "stdout",
          "text": [
            "https://blog.naver.com/PostView.naver?blogId=pmw9440&logNo=221846636945\n"
          ]
        }
      ]
    },
    {
      "cell_type": "code",
      "source": [
        "from sklearn.datasets import load_iris\n",
        "\n",
        "data = load_iris()\n",
        "type(data)"
      ],
      "metadata": {
        "colab": {
          "base_uri": "https://localhost:8080/"
        },
        "id": "gALpSa3rNHe4",
        "outputId": "0396e872-d718-474c-f56b-ec58e690405e"
      },
      "execution_count": 3,
      "outputs": [
        {
          "output_type": "execute_result",
          "data": {
            "text/plain": [
              "sklearn.utils.Bunch"
            ]
          },
          "metadata": {},
          "execution_count": 3
        }
      ]
    },
    {
      "cell_type": "markdown",
      "source": [
        "# 2. Iris 데이터 EDA"
      ],
      "metadata": {
        "id": "6ZrmojZIBDZ3"
      }
    },
    {
      "cell_type": "markdown",
      "source": [
        "### 2-1. scIkit-learn built-in dataset 특징\n",
        "    1. features, response가 분리된 객체로 존재함 (data.data, data.target 처럼)\n",
        "    2. features, response 모두 수치형 데이터임\n",
        "    3. features, response 모두 NumPy arrays로 존재함\n",
        "    4. 특정 shape을 가짐 "
      ],
      "metadata": {
        "id": "b9CZdJqSgdtp"
      }
    },
    {
      "cell_type": "markdown",
      "source": [
        "##### 참고. 싸이킷런 내장데이터는 이런 정보들을 가지고 있음 (length = 8)"
      ],
      "metadata": {
        "id": "p9xw6DQ787dL"
      }
    },
    {
      "cell_type": "code",
      "source": [
        "print(type(data.data))\n",
        "display(data.data[:5])"
      ],
      "metadata": {
        "colab": {
          "base_uri": "https://localhost:8080/",
          "height": 126
        },
        "id": "T_bNqADM9WlE",
        "outputId": "95897a72-32e7-48e5-9464-7a076782597a"
      },
      "execution_count": 4,
      "outputs": [
        {
          "output_type": "stream",
          "name": "stdout",
          "text": [
            "<class 'numpy.ndarray'>\n"
          ]
        },
        {
          "output_type": "display_data",
          "data": {
            "text/plain": [
              "array([[5.1, 3.5, 1.4, 0.2],\n",
              "       [4.9, 3. , 1.4, 0.2],\n",
              "       [4.7, 3.2, 1.3, 0.2],\n",
              "       [4.6, 3.1, 1.5, 0.2],\n",
              "       [5. , 3.6, 1.4, 0.2]])"
            ]
          },
          "metadata": {}
        }
      ]
    },
    {
      "cell_type": "code",
      "source": [
        "data.data_module"
      ],
      "metadata": {
        "colab": {
          "base_uri": "https://localhost:8080/",
          "height": 35
        },
        "id": "CKnQA8tZ9Wu0",
        "outputId": "61c828db-176c-490f-db96-9599a2ee8cd6"
      },
      "execution_count": 5,
      "outputs": [
        {
          "output_type": "execute_result",
          "data": {
            "text/plain": [
              "'sklearn.datasets.data'"
            ],
            "application/vnd.google.colaboratory.intrinsic+json": {
              "type": "string"
            }
          },
          "metadata": {},
          "execution_count": 5
        }
      ]
    },
    {
      "cell_type": "code",
      "source": [
        "type(data.DESCR) # str\n",
        "data.DESCR.split(\"\\n\")"
      ],
      "metadata": {
        "colab": {
          "base_uri": "https://localhost:8080/"
        },
        "id": "rhOT7Luq9Wze",
        "outputId": "1ebcf2d2-a2f9-4326-ede5-36d25b7d6d7d"
      },
      "execution_count": 6,
      "outputs": [
        {
          "output_type": "execute_result",
          "data": {
            "text/plain": [
              "['.. _iris_dataset:',\n",
              " '',\n",
              " 'Iris plants dataset',\n",
              " '--------------------',\n",
              " '',\n",
              " '**Data Set Characteristics:**',\n",
              " '',\n",
              " '    :Number of Instances: 150 (50 in each of three classes)',\n",
              " '    :Number of Attributes: 4 numeric, predictive attributes and the class',\n",
              " '    :Attribute Information:',\n",
              " '        - sepal length in cm',\n",
              " '        - sepal width in cm',\n",
              " '        - petal length in cm',\n",
              " '        - petal width in cm',\n",
              " '        - class:',\n",
              " '                - Iris-Setosa',\n",
              " '                - Iris-Versicolour',\n",
              " '                - Iris-Virginica',\n",
              " '                ',\n",
              " '    :Summary Statistics:',\n",
              " '',\n",
              " '    ============== ==== ==== ======= ===== ====================',\n",
              " '                    Min  Max   Mean    SD   Class Correlation',\n",
              " '    ============== ==== ==== ======= ===== ====================',\n",
              " '    sepal length:   4.3  7.9   5.84   0.83    0.7826',\n",
              " '    sepal width:    2.0  4.4   3.05   0.43   -0.4194',\n",
              " '    petal length:   1.0  6.9   3.76   1.76    0.9490  (high!)',\n",
              " '    petal width:    0.1  2.5   1.20   0.76    0.9565  (high!)',\n",
              " '    ============== ==== ==== ======= ===== ====================',\n",
              " '',\n",
              " '    :Missing Attribute Values: None',\n",
              " '    :Class Distribution: 33.3% for each of 3 classes.',\n",
              " '    :Creator: R.A. Fisher',\n",
              " '    :Donor: Michael Marshall (MARSHALL%PLU@io.arc.nasa.gov)',\n",
              " '    :Date: July, 1988',\n",
              " '',\n",
              " 'The famous Iris database, first used by Sir R.A. Fisher. The dataset is taken',\n",
              " \"from Fisher's paper. Note that it's the same as in R, but not as in the UCI\",\n",
              " 'Machine Learning Repository, which has two wrong data points.',\n",
              " '',\n",
              " 'This is perhaps the best known database to be found in the',\n",
              " \"pattern recognition literature.  Fisher's paper is a classic in the field and\",\n",
              " 'is referenced frequently to this day.  (See Duda & Hart, for example.)  The',\n",
              " 'data set contains 3 classes of 50 instances each, where each class refers to a',\n",
              " 'type of iris plant.  One class is linearly separable from the other 2; the',\n",
              " 'latter are NOT linearly separable from each other.',\n",
              " '',\n",
              " '.. topic:: References',\n",
              " '',\n",
              " '   - Fisher, R.A. \"The use of multiple measurements in taxonomic problems\"',\n",
              " '     Annual Eugenics, 7, Part II, 179-188 (1936); also in \"Contributions to',\n",
              " '     Mathematical Statistics\" (John Wiley, NY, 1950).',\n",
              " '   - Duda, R.O., & Hart, P.E. (1973) Pattern Classification and Scene Analysis.',\n",
              " '     (Q327.D83) John Wiley & Sons.  ISBN 0-471-22361-1.  See page 218.',\n",
              " '   - Dasarathy, B.V. (1980) \"Nosing Around the Neighborhood: A New System',\n",
              " '     Structure and Classification Rule for Recognition in Partially Exposed',\n",
              " '     Environments\".  IEEE Transactions on Pattern Analysis and Machine',\n",
              " '     Intelligence, Vol. PAMI-2, No. 1, 67-71.',\n",
              " '   - Gates, G.W. (1972) \"The Reduced Nearest Neighbor Rule\".  IEEE Transactions',\n",
              " '     on Information Theory, May 1972, 431-433.',\n",
              " '   - See also: 1988 MLC Proceedings, 54-64.  Cheeseman et al\"s AUTOCLASS II',\n",
              " '     conceptual clustering system finds 3 classes in the data.',\n",
              " '   - Many, many more ...']"
            ]
          },
          "metadata": {},
          "execution_count": 6
        }
      ]
    },
    {
      "cell_type": "code",
      "source": [
        "data.feature_names"
      ],
      "metadata": {
        "colab": {
          "base_uri": "https://localhost:8080/"
        },
        "id": "lJAEkmBF9W4A",
        "outputId": "3ec12322-5005-4942-a520-bd676fca6820"
      },
      "execution_count": 7,
      "outputs": [
        {
          "output_type": "execute_result",
          "data": {
            "text/plain": [
              "['sepal length (cm)',\n",
              " 'sepal width (cm)',\n",
              " 'petal length (cm)',\n",
              " 'petal width (cm)']"
            ]
          },
          "metadata": {},
          "execution_count": 7
        }
      ]
    },
    {
      "cell_type": "code",
      "source": [
        "data.filename"
      ],
      "metadata": {
        "colab": {
          "base_uri": "https://localhost:8080/",
          "height": 35
        },
        "id": "S0Bczvbm9W8P",
        "outputId": "8e0bd309-6f77-4b78-e070-b0cf44c5b034"
      },
      "execution_count": 8,
      "outputs": [
        {
          "output_type": "execute_result",
          "data": {
            "text/plain": [
              "'iris.csv'"
            ],
            "application/vnd.google.colaboratory.intrinsic+json": {
              "type": "string"
            }
          },
          "metadata": {},
          "execution_count": 8
        }
      ]
    },
    {
      "cell_type": "code",
      "source": [
        "data.frame"
      ],
      "metadata": {
        "id": "nTH0KQmn9XA-"
      },
      "execution_count": 9,
      "outputs": []
    },
    {
      "cell_type": "code",
      "source": [
        "data.target"
      ],
      "metadata": {
        "colab": {
          "base_uri": "https://localhost:8080/"
        },
        "id": "8EtzEMt69XGC",
        "outputId": "168d063e-db54-4135-c31d-e9ba01bd261f"
      },
      "execution_count": 10,
      "outputs": [
        {
          "output_type": "execute_result",
          "data": {
            "text/plain": [
              "array([0, 0, 0, 0, 0, 0, 0, 0, 0, 0, 0, 0, 0, 0, 0, 0, 0, 0, 0, 0, 0, 0,\n",
              "       0, 0, 0, 0, 0, 0, 0, 0, 0, 0, 0, 0, 0, 0, 0, 0, 0, 0, 0, 0, 0, 0,\n",
              "       0, 0, 0, 0, 0, 0, 1, 1, 1, 1, 1, 1, 1, 1, 1, 1, 1, 1, 1, 1, 1, 1,\n",
              "       1, 1, 1, 1, 1, 1, 1, 1, 1, 1, 1, 1, 1, 1, 1, 1, 1, 1, 1, 1, 1, 1,\n",
              "       1, 1, 1, 1, 1, 1, 1, 1, 1, 1, 1, 1, 2, 2, 2, 2, 2, 2, 2, 2, 2, 2,\n",
              "       2, 2, 2, 2, 2, 2, 2, 2, 2, 2, 2, 2, 2, 2, 2, 2, 2, 2, 2, 2, 2, 2,\n",
              "       2, 2, 2, 2, 2, 2, 2, 2, 2, 2, 2, 2, 2, 2, 2, 2, 2, 2])"
            ]
          },
          "metadata": {},
          "execution_count": 10
        }
      ]
    },
    {
      "cell_type": "code",
      "source": [
        "data.target_names"
      ],
      "metadata": {
        "colab": {
          "base_uri": "https://localhost:8080/"
        },
        "id": "qY_dh-GR9XKE",
        "outputId": "e1e1194c-8a28-40c6-a79c-fa354c0deb6a"
      },
      "execution_count": 11,
      "outputs": [
        {
          "output_type": "execute_result",
          "data": {
            "text/plain": [
              "array(['setosa', 'versicolor', 'virginica'], dtype='<U10')"
            ]
          },
          "metadata": {},
          "execution_count": 11
        }
      ]
    },
    {
      "cell_type": "markdown",
      "source": [
        "##### 참고. 머신러닝 Terminology\n",
        "    1. a row : observation/sample/instance/record\n",
        "    2. a column : feature/predictor/attribute/independent variable/input/regressor/covariate(공변량: 여러 변수가 공통적으로 공유하고 있는 변량)\n",
        "    3. a response : target/outcome/label/dependent variable\n",
        "        - if response == categorical : \n",
        "            ML problem = classification\n",
        "        - if response == ordered and continuous :  \n",
        "            ML problem = regression"
      ],
      "metadata": {
        "id": "o8UtTnIL9XND"
      }
    },
    {
      "cell_type": "markdown",
      "source": [
        "### 2-2. 데이터 정보 확인(shape/features/responses)"
      ],
      "metadata": {
        "id": "ZVqKZ8r_BT4c"
      }
    },
    {
      "cell_type": "code",
      "source": [
        "# bunch object : iris dataset과 attributes를 포함하고 있음\n",
        "data.data.shape, data.target.shape"
      ],
      "metadata": {
        "colab": {
          "base_uri": "https://localhost:8080/"
        },
        "id": "X69lFj_q87P-",
        "outputId": "33a6b75f-1f0e-4fef-b34c-90eb2e3cf15c"
      },
      "execution_count": 12,
      "outputs": [
        {
          "output_type": "execute_result",
          "data": {
            "text/plain": [
              "((150, 4), (150,))"
            ]
          },
          "metadata": {},
          "execution_count": 12
        }
      ]
    },
    {
      "cell_type": "code",
      "source": [
        "# data type\n",
        "type(data.data), type(data.target)"
      ],
      "metadata": {
        "colab": {
          "base_uri": "https://localhost:8080/"
        },
        "id": "whRE9Wn2DjUR",
        "outputId": "70446477-d8d0-462e-94e3-ffc8f8051cd1"
      },
      "execution_count": 13,
      "outputs": [
        {
          "output_type": "execute_result",
          "data": {
            "text/plain": [
              "(numpy.ndarray, numpy.ndarray)"
            ]
          },
          "metadata": {},
          "execution_count": 13
        }
      ]
    },
    {
      "cell_type": "code",
      "source": [
        "print(data.feature_names)"
      ],
      "metadata": {
        "colab": {
          "base_uri": "https://localhost:8080/"
        },
        "id": "RGQpjMMQ-4RG",
        "outputId": "edbc1207-4102-4acf-fab0-086645ea7b59"
      },
      "execution_count": 14,
      "outputs": [
        {
          "output_type": "stream",
          "name": "stdout",
          "text": [
            "['sepal length (cm)', 'sepal width (cm)', 'petal length (cm)', 'petal width (cm)']\n"
          ]
        }
      ]
    },
    {
      "cell_type": "code",
      "source": [
        "data.target_names.tolist()"
      ],
      "metadata": {
        "colab": {
          "base_uri": "https://localhost:8080/"
        },
        "id": "w_IrhIzz-4W7",
        "outputId": "77ac5c5a-dab3-40b0-9b71-20fe3b7d425e"
      },
      "execution_count": 15,
      "outputs": [
        {
          "output_type": "execute_result",
          "data": {
            "text/plain": [
              "['setosa', 'versicolor', 'virginica']"
            ]
          },
          "metadata": {},
          "execution_count": 15
        }
      ]
    },
    {
      "cell_type": "code",
      "source": [
        "print(set(data.target))\n",
        "display(pd.DataFrame(data.target).value_counts())"
      ],
      "metadata": {
        "colab": {
          "base_uri": "https://localhost:8080/",
          "height": 108
        },
        "id": "VBZfUiWN-4Z4",
        "outputId": "f1142289-6e2c-4e1f-c493-2501def3c888"
      },
      "execution_count": 16,
      "outputs": [
        {
          "output_type": "stream",
          "name": "stdout",
          "text": [
            "{0, 1, 2}\n"
          ]
        },
        {
          "output_type": "display_data",
          "data": {
            "text/plain": [
              "0    50\n",
              "1    50\n",
              "2    50\n",
              "dtype: int64"
            ]
          },
          "metadata": {}
        }
      ]
    },
    {
      "cell_type": "markdown",
      "source": [
        "### 2-3. Plotting"
      ],
      "metadata": {
        "id": "XsJhRaVg9XRR"
      }
    },
    {
      "cell_type": "markdown",
      "source": [
        "산점도 그리기 위해, features' value 뽑아내서 list에 저장해줌"
      ],
      "metadata": {
        "id": "xflIjvRhEDlR"
      }
    },
    {
      "cell_type": "code",
      "source": [
        "features = data.data[:, [0,1,2,3]] # data.data랑 그냥 같음. type도 np.arrays로 동일하지만, 필요할 경우 일부 컬럼만 뽑아쓸 수 있도록 컬럼 리스트를 지정해준 듯\n",
        "features.shape"
      ],
      "metadata": {
        "colab": {
          "base_uri": "https://localhost:8080/"
        },
        "id": "WjMczIVgEPSK",
        "outputId": "785e098a-5d7a-41bb-9c34-374f8d6538cf"
      },
      "execution_count": 17,
      "outputs": [
        {
          "output_type": "execute_result",
          "data": {
            "text/plain": [
              "(150, 4)"
            ]
          },
          "metadata": {},
          "execution_count": 17
        }
      ]
    },
    {
      "cell_type": "code",
      "source": [
        "targets = data.target\n",
        "targets.shape # (150,)\n",
        "\n",
        "targets.reshape(targets.shape[0], -1).shape # (150,1) # targets.reshape : Returns an array containing the same data with a new shape (예시: a.reshape(shape, order='C'))"
      ],
      "metadata": {
        "colab": {
          "base_uri": "https://localhost:8080/"
        },
        "id": "NZKmLDb6E2J5",
        "outputId": "a16fac10-4845-44ad-825b-f288e97f5b19"
      },
      "execution_count": 18,
      "outputs": [
        {
          "output_type": "execute_result",
          "data": {
            "text/plain": [
              "(150, 1)"
            ]
          },
          "metadata": {},
          "execution_count": 18
        }
      ]
    },
    {
      "cell_type": "markdown",
      "source": [
        "### 2-4. Target - Features 간 관계 시각화"
      ],
      "metadata": {
        "id": "uXwYRqbZHj0D"
      }
    },
    {
      "cell_type": "code",
      "source": [
        "# 꽃잎, 꽃받침 정보 모두 통합한, 일종의 파생변수 생성해줌\n",
        "list_features_sum = [ [sample[0] + sample[1] + sample[2] + sample[3]] for sample in features]\n",
        "list_features_sum[:5]"
      ],
      "metadata": {
        "colab": {
          "base_uri": "https://localhost:8080/"
        },
        "id": "tcevl3aeGtKG",
        "outputId": "03dabfeb-5c28-41a8-a0d9-7f179a461c10"
      },
      "execution_count": 19,
      "outputs": [
        {
          "output_type": "execute_result",
          "data": {
            "text/plain": [
              "[[10.2], [9.5], [9.4], [9.399999999999999], [10.2]]"
            ]
          },
          "metadata": {},
          "execution_count": 19
        }
      ]
    },
    {
      "cell_type": "code",
      "source": [
        "# scatterplot\n",
        "plt.scatter(x = list_features_sum, y = targets, color = 'red', alpha = 0.5) # y = 0 or 1 or 2\n",
        "plt.rcParams['figure.figsize'] = [8,4]\n",
        "plt.title('Iris dataset - scatter plot')\n",
        "plt.xlabel('Sum of Features')\n",
        "plt.ylabel('Targets - kinds of Iris (encoded)')\n"
      ],
      "metadata": {
        "colab": {
          "base_uri": "https://localhost:8080/",
          "height": 313
        },
        "id": "Np6IKzqnE8dC",
        "outputId": "1f48e2a4-acd9-4d50-b79d-b1e292f155b8"
      },
      "execution_count": 20,
      "outputs": [
        {
          "output_type": "execute_result",
          "data": {
            "text/plain": [
              "Text(0, 0.5, 'Targets - kinds of Iris (encoded)')"
            ]
          },
          "metadata": {},
          "execution_count": 20
        },
        {
          "output_type": "display_data",
          "data": {
            "text/plain": [
              "<Figure size 432x288 with 1 Axes>"
            ],
            "image/png": "[encoded data removed]"
          },
          "metadata": {
            "needs_background": "light"
          }
        }
      ]
    },
    {
      "cell_type": "markdown",
      "source": [
        "### 2-5. Feature - Feature 간 관계 시각화"
      ],
      "metadata": {
        "id": "TOWsH0Su9XXs"
      }
    },
    {
      "cell_type": "code",
      "source": [
        "feature_names = [ name[:-4].strip() for name in data.feature_names]\n",
        "feature_names"
      ],
      "metadata": {
        "colab": {
          "base_uri": "https://localhost:8080/"
        },
        "id": "QKzRUQGUJaiX",
        "outputId": "cd869ace-b111-451f-d2ff-dfba820e291d"
      },
      "execution_count": 21,
      "outputs": [
        {
          "output_type": "execute_result",
          "data": {
            "text/plain": [
              "['sepal length', 'sepal width', 'petal length', 'petal width']"
            ]
          },
          "metadata": {},
          "execution_count": 21
        }
      ]
    },
    {
      "cell_type": "code",
      "source": [
        "print(feature_names)\n",
        "display(features[:3])"
      ],
      "metadata": {
        "colab": {
          "base_uri": "https://localhost:8080/",
          "height": 90
        },
        "id": "ukZexECBJFUL",
        "outputId": "754db5c3-9e4d-4b21-9fcb-915cb568dafd"
      },
      "execution_count": 22,
      "outputs": [
        {
          "output_type": "stream",
          "name": "stdout",
          "text": [
            "['sepal length', 'sepal width', 'petal length', 'petal width']\n"
          ]
        },
        {
          "output_type": "display_data",
          "data": {
            "text/plain": [
              "array([[5.1, 3.5, 1.4, 0.2],\n",
              "       [4.9, 3. , 1.4, 0.2],\n",
              "       [4.7, 3.2, 1.3, 0.2]])"
            ]
          },
          "metadata": {}
        }
      ]
    },
    {
      "cell_type": "code",
      "source": [
        "# 각 feature 별 value 리스트에 담아줌\n",
        "sep_len = [value[0] for value in features]\n",
        "sep_wid = [value[1] for value in features]\n",
        "pet_len = [value[2] for value in features]\n",
        "pet_wid = [value[3] for value in features]\n",
        "len(sep_len), len(sep_wid),len(pet_len),len(pet_wid)"
      ],
      "metadata": {
        "colab": {
          "base_uri": "https://localhost:8080/"
        },
        "id": "ELFdYz4843t0",
        "outputId": "8e49c71b-4429-4467-8634-25fe17c4dd86"
      },
      "execution_count": 23,
      "outputs": [
        {
          "output_type": "execute_result",
          "data": {
            "text/plain": [
              "(150, 150, 150, 150)"
            ]
          },
          "metadata": {},
          "execution_count": 23
        }
      ]
    },
    {
      "cell_type": "markdown",
      "source": [
        "아래 셀에서 리스트 말고 튜플을 사용해줌 \n",
        "##### 불변의 값에 대해서, 튜플이 (1) 빠르고 (2) 메모리를 적게 잡아먹기 때문 :)"
      ],
      "metadata": {
        "id": "WiBKdWbqiV_x"
      }
    },
    {
      "cell_type": "code",
      "source": [
        "kinds = ('Iris-setosa','Iris-versicolor','Iris-virginica')\n",
        "colors = ('blue', 'green', 'red') # 종류 별로 다르게 색상 표현\n",
        "\n",
        "# Sepal Length - Sepal Width 관계\n",
        "iris_sep_lw = (\n",
        "    (sep_len[:50], sep_wid[:50]), \n",
        "    (sep_len[50:100], sep_wid[50:100]),\n",
        "    (sep_len[100:150], sep_wid[100:150]),\n",
        ")\n",
        "# Petal Length - Petal Width 관계\n",
        "iris_pet_lw = (\n",
        "    (pet_len[:50], pet_wid[:50]), \n",
        "    (pet_len[50:100], pet_wid[50:100]),\n",
        "    (pet_len[100:150], pet_wid[100:150]),\n",
        ")\n"
      ],
      "metadata": {
        "id": "Z4CUX6VOKjlF"
      },
      "execution_count": 24,
      "outputs": []
    },
    {
      "cell_type": "code",
      "source": [
        "# scatterplot \n",
        "# Sepal Length - Sepal Width 관계\n",
        "for kind, color, iris_data in zip(kinds, colors, iris_sep_lw):\n",
        "    sep_len, sep_wid = iris_data\n",
        "    plt.scatter(x = sep_len, y = sep_wid, color = color, alpha = 1, )\n",
        "    plt.title('Iris dataset - scatter plot')\n",
        "    plt.xlabel('Sepal Length')\n",
        "    plt.ylabel('Sepal Width')\n",
        "\n",
        "plt.show()\n",
        "\n",
        "# 범례 넣어주고 싶으면, plt.legend() 쓸 수 있는데. 여기서는 plt.scatter할 때 각각 지정해준 게 아니라서 안 되넹"
      ],
      "metadata": {
        "colab": {
          "base_uri": "https://localhost:8080/",
          "height": 295
        },
        "id": "USm7V-pqKGKX",
        "outputId": "7740cb09-b34e-439b-deb7-d01ed39f12f1"
      },
      "execution_count": 25,
      "outputs": [
        {
          "output_type": "display_data",
          "data": {
            "text/plain": [
              "<Figure size 576x288 with 1 Axes>"
            ],
            "image/png": "[encoded data removed]"
          },
          "metadata": {
            "needs_background": "light"
          }
        }
      ]
    },
    {
      "cell_type": "code",
      "source": [
        "# scatterplot \n",
        "# Petal Length - Petal Width 관계\n",
        "for kind, color, iris_data in zip(kinds, colors, iris_pet_lw):\n",
        "    sep_len, sep_wid = iris_data\n",
        "    plt.scatter(x = sep_len, y = sep_wid, color = color, alpha = 1)\n",
        "    plt.title('Iris dataset - scatter plot')\n",
        "    plt.xlabel('Petal Length')\n",
        "    plt.ylabel('Petal Width')\n",
        "\n",
        "plt.show()\n"
      ],
      "metadata": {
        "colab": {
          "base_uri": "https://localhost:8080/",
          "height": 295
        },
        "id": "5S1Hie0b43yo",
        "outputId": "90afbfc7-2e59-441d-cc85-6d8efb0e8cba"
      },
      "execution_count": 26,
      "outputs": [
        {
          "output_type": "display_data",
          "data": {
            "text/plain": [
              "<Figure size 576x288 with 1 Axes>"
            ],
            "image/png": "[encoded data removed]"
          },
          "metadata": {
            "needs_background": "light"
          }
        }
      ]
    },
    {
      "cell_type": "markdown",
      "source": [
        "# 3. Modeling, Training and Testing"
      ],
      "metadata": {
        "id": "3nvMhG73k9U-"
      }
    },
    {
      "cell_type": "markdown",
      "source": [
        "### 3-1. 알고리즘 불러오기"
      ],
      "metadata": {
        "id": "C8lmc3OZk9Zh"
      }
    },
    {
      "cell_type": "markdown",
      "source": [
        "#### 3-1-0. iris data (Bunch object) > DataFrame에 저장해줌 (df_iris)\n"
      ],
      "metadata": {
        "id": "q3KqiHzFmIXI"
      }
    },
    {
      "cell_type": "code",
      "source": [
        "df_iris = pd.DataFrame(data.data)\n",
        "df_iris.columns = feature_names\n",
        "df_iris['target_species'] = data.target\n",
        "df_iris.sample(3)"
      ],
      "metadata": {
        "colab": {
          "base_uri": "https://localhost:8080/",
          "height": 143
        },
        "id": "2aMY6NCmmH-r",
        "outputId": "1b311b04-46e2-4c3d-f5fc-91891908176e"
      },
      "execution_count": 27,
      "outputs": [
        {
          "output_type": "execute_result",
          "data": {
            "text/plain": [
              "    sepal length  sepal width  petal length  petal width  target_species\n",
              "73           6.1          2.8           4.7          1.2               1\n",
              "8            4.4          2.9           1.4          0.2               0\n",
              "47           4.6          3.2           1.4          0.2               0"
            ],
            "text/html": [
              "\n",
              "  <div id=\"df-0904fe79-7d21-42ec-a7aa-fdbe9437e973\">\n",
              "    <div class=\"colab-df-container\">\n",
              "      <div>\n",
              "<style scoped>\n",
              "    .dataframe tbody tr th:only-of-type {\n",
              "        vertical-align: middle;\n",
              "    }\n",
              "\n",
              "    .dataframe tbody tr th {\n",
              "        vertical-align: top;\n",
              "    }\n",
              "\n",
              "    .dataframe thead th {\n",
              "        text-align: right;\n",
              "    }\n",
              "</style>\n",
              "<table border=\"1\" class=\"dataframe\">\n",
              "  <thead>\n",
              "    <tr style=\"text-align: right;\">\n",
              "      <th></th>\n",
              "      <th>sepal length</th>\n",
              "      <th>sepal width</th>\n",
              "      <th>petal length</th>\n",
              "      <th>petal width</th>\n",
              "      <th>target_species</th>\n",
              "    </tr>\n",
              "  </thead>\n",
              "  <tbody>\n",
              "    <tr>\n",
              "      <th>73</th>\n",
              "      <td>6.1</td>\n",
              "      <td>2.8</td>\n",
              "      <td>4.7</td>\n",
              "      <td>1.2</td>\n",
              "      <td>1</td>\n",
              "    </tr>\n",
              "    <tr>\n",
              "      <th>8</th>\n",
              "      <td>4.4</td>\n",
              "      <td>2.9</td>\n",
              "      <td>1.4</td>\n",
              "      <td>0.2</td>\n",
              "      <td>0</td>\n",
              "    </tr>\n",
              "    <tr>\n",
              "      <th>47</th>\n",
              "      <td>4.6</td>\n",
              "      <td>3.2</td>\n",
              "      <td>1.4</td>\n",
              "      <td>0.2</td>\n",
              "      <td>0</td>\n",
              "    </tr>\n",
              "  </tbody>\n",
              "</table>\n",
              "</div>\n",
              "      <button class=\"colab-df-convert\" onclick=\"convertToInteractive('df-0904fe79-7d21-42ec-a7aa-fdbe9437e973')\"\n",
              "              title=\"Convert this dataframe to an interactive table.\"\n",
              "              style=\"display:none;\">\n",
              "        \n",
              "  <svg xmlns=\"http://www.w3.org/2000/svg\" height=\"24px\"viewBox=\"0 0 24 24\"\n",
              "       width=\"24px\">\n",
              "    <path d=\"M0 0h24v24H0V0z\" fill=\"none\"/>\n",
              "    <path d=\"M18.56 5.44l.94 2.06.94-2.06 2.06-.94-2.06-.94-.94-2.06-.94 2.06-2.06.94zm-11 1L8.5 8.5l.94-2.06 2.06-.94-2.06-.94L8.5 2.5l-.94 2.06-2.06.94zm10 10l.94 2.06.94-2.06 2.06-.94-2.06-.94-.94-2.06-.94 2.06-2.06.94z\"/><path d=\"M17.41 7.96l-1.37-1.37c-.4-.4-.92-.59-1.43-.59-.52 0-1.04.2-1.43.59L10.3 9.45l-7.72 7.72c-.78.78-.78 2.05 0 2.83L4 21.41c.39.39.9.59 1.41.59.51 0 1.02-.2 1.41-.59l7.78-7.78 2.81-2.81c.8-.78.8-2.07 0-2.86zM5.41 20L4 18.59l7.72-7.72 1.47 1.35L5.41 20z\"/>\n",
              "  </svg>\n",
              "      </button>\n",
              "      \n",
              "  <style>\n",
              "    .colab-df-container {\n",
              "      display:flex;\n",
              "      flex-wrap:wrap;\n",
              "      gap: 12px;\n",
              "    }\n",
              "\n",
              "    .colab-df-convert {\n",
              "      background-color: #E8F0FE;\n",
              "      border: none;\n",
              "      border-radius: 50%;\n",
              "      cursor: pointer;\n",
              "      display: none;\n",
              "      fill: #1967D2;\n",
              "      height: 32px;\n",
              "      padding: 0 0 0 0;\n",
              "      width: 32px;\n",
              "    }\n",
              "\n",
              "    .colab-df-convert:hover {\n",
              "      background-color: #E2EBFA;\n",
              "      box-shadow: 0px 1px 2px rgba(60, 64, 67, 0.3), 0px 1px 3px 1px rgba(60, 64, 67, 0.15);\n",
              "      fill: #174EA6;\n",
              "    }\n",
              "\n",
              "    [theme=dark] .colab-df-convert {\n",
              "      background-color: #3B4455;\n",
              "      fill: #D2E3FC;\n",
              "    }\n",
              "\n",
              "    [theme=dark] .colab-df-convert:hover {\n",
              "      background-color: #434B5C;\n",
              "      box-shadow: 0px 1px 3px 1px rgba(0, 0, 0, 0.15);\n",
              "      filter: drop-shadow(0px 1px 2px rgba(0, 0, 0, 0.3));\n",
              "      fill: #FFFFFF;\n",
              "    }\n",
              "  </style>\n",
              "\n",
              "      <script>\n",
              "        const buttonEl =\n",
              "          document.querySelector('#df-0904fe79-7d21-42ec-a7aa-fdbe9437e973 button.colab-df-convert');\n",
              "        buttonEl.style.display =\n",
              "          google.colab.kernel.accessAllowed ? 'block' : 'none';\n",
              "\n",
              "        async function convertToInteractive(key) {\n",
              "          const element = document.querySelector('#df-0904fe79-7d21-42ec-a7aa-fdbe9437e973');\n",
              "          const dataTable =\n",
              "            await google.colab.kernel.invokeFunction('convertToInteractive',\n",
              "                                                     [key], {});\n",
              "          if (!dataTable) return;\n",
              "\n",
              "          const docLinkHtml = 'Like what you see? Visit the ' +\n",
              "            '<a target=\"_blank\" href=https://colab.research.google.com/notebooks/data_table.ipynb>data table notebook</a>'\n",
              "            + ' to learn more about interactive tables.';\n",
              "          element.innerHTML = '';\n",
              "          dataTable['output_type'] = 'display_data';\n",
              "          await google.colab.output.renderOutput(dataTable, element);\n",
              "          const docLink = document.createElement('div');\n",
              "          docLink.innerHTML = docLinkHtml;\n",
              "          element.appendChild(docLink);\n",
              "        }\n",
              "      </script>\n",
              "    </div>\n",
              "  </div>\n",
              "  "
            ]
          },
          "metadata": {},
          "execution_count": 27
        }
      ]
    },
    {
      "cell_type": "code",
      "source": [
        "df_iris.describe()"
      ],
      "metadata": {
        "colab": {
          "base_uri": "https://localhost:8080/",
          "height": 300
        },
        "id": "77_dLFlQnqUh",
        "outputId": "bc150e95-9600-443c-f4ae-046012c0f30b"
      },
      "execution_count": 28,
      "outputs": [
        {
          "output_type": "execute_result",
          "data": {
            "text/plain": [
              "       sepal length  sepal width  petal length  petal width  target_species\n",
              "count    150.000000   150.000000    150.000000   150.000000      150.000000\n",
              "mean       5.843333     3.057333      3.758000     1.199333        1.000000\n",
              "std        0.828066     0.435866      1.765298     0.762238        0.819232\n",
              "min        4.300000     2.000000      1.000000     0.100000        0.000000\n",
              "25%        5.100000     2.800000      1.600000     0.300000        0.000000\n",
              "50%        5.800000     3.000000      4.350000     1.300000        1.000000\n",
              "75%        6.400000     3.300000      5.100000     1.800000        2.000000\n",
              "max        7.900000     4.400000      6.900000     2.500000        2.000000"
            ],
            "text/html": [
              "\n",
              "  <div id=\"df-201b8605-7f45-4a5d-8e7b-6953049246a2\">\n",
              "    <div class=\"colab-df-container\">\n",
              "      <div>\n",
              "<style scoped>\n",
              "    .dataframe tbody tr th:only-of-type {\n",
              "        vertical-align: middle;\n",
              "    }\n",
              "\n",
              "    .dataframe tbody tr th {\n",
              "        vertical-align: top;\n",
              "    }\n",
              "\n",
              "    .dataframe thead th {\n",
              "        text-align: right;\n",
              "    }\n",
              "</style>\n",
              "<table border=\"1\" class=\"dataframe\">\n",
              "  <thead>\n",
              "    <tr style=\"text-align: right;\">\n",
              "      <th></th>\n",
              "      <th>sepal length</th>\n",
              "      <th>sepal width</th>\n",
              "      <th>petal length</th>\n",
              "      <th>petal width</th>\n",
              "      <th>target_species</th>\n",
              "    </tr>\n",
              "  </thead>\n",
              "  <tbody>\n",
              "    <tr>\n",
              "      <th>count</th>\n",
              "      <td>150.000000</td>\n",
              "      <td>150.000000</td>\n",
              "      <td>150.000000</td>\n",
              "      <td>150.000000</td>\n",
              "      <td>150.000000</td>\n",
              "    </tr>\n",
              "    <tr>\n",
              "      <th>mean</th>\n",
              "      <td>5.843333</td>\n",
              "      <td>3.057333</td>\n",
              "      <td>3.758000</td>\n",
              "      <td>1.199333</td>\n",
              "      <td>1.000000</td>\n",
              "    </tr>\n",
              "    <tr>\n",
              "      <th>std</th>\n",
              "      <td>0.828066</td>\n",
              "      <td>0.435866</td>\n",
              "      <td>1.765298</td>\n",
              "      <td>0.762238</td>\n",
              "      <td>0.819232</td>\n",
              "    </tr>\n",
              "    <tr>\n",
              "      <th>min</th>\n",
              "      <td>4.300000</td>\n",
              "      <td>2.000000</td>\n",
              "      <td>1.000000</td>\n",
              "      <td>0.100000</td>\n",
              "      <td>0.000000</td>\n",
              "    </tr>\n",
              "    <tr>\n",
              "      <th>25%</th>\n",
              "      <td>5.100000</td>\n",
              "      <td>2.800000</td>\n",
              "      <td>1.600000</td>\n",
              "      <td>0.300000</td>\n",
              "      <td>0.000000</td>\n",
              "    </tr>\n",
              "    <tr>\n",
              "      <th>50%</th>\n",
              "      <td>5.800000</td>\n",
              "      <td>3.000000</td>\n",
              "      <td>4.350000</td>\n",
              "      <td>1.300000</td>\n",
              "      <td>1.000000</td>\n",
              "    </tr>\n",
              "    <tr>\n",
              "      <th>75%</th>\n",
              "      <td>6.400000</td>\n",
              "      <td>3.300000</td>\n",
              "      <td>5.100000</td>\n",
              "      <td>1.800000</td>\n",
              "      <td>2.000000</td>\n",
              "    </tr>\n",
              "    <tr>\n",
              "      <th>max</th>\n",
              "      <td>7.900000</td>\n",
              "      <td>4.400000</td>\n",
              "      <td>6.900000</td>\n",
              "      <td>2.500000</td>\n",
              "      <td>2.000000</td>\n",
              "    </tr>\n",
              "  </tbody>\n",
              "</table>\n",
              "</div>\n",
              "      <button class=\"colab-df-convert\" onclick=\"convertToInteractive('df-201b8605-7f45-4a5d-8e7b-6953049246a2')\"\n",
              "              title=\"Convert this dataframe to an interactive table.\"\n",
              "              style=\"display:none;\">\n",
              "        \n",
              "  <svg xmlns=\"http://www.w3.org/2000/svg\" height=\"24px\"viewBox=\"0 0 24 24\"\n",
              "       width=\"24px\">\n",
              "    <path d=\"M0 0h24v24H0V0z\" fill=\"none\"/>\n",
              "    <path d=\"M18.56 5.44l.94 2.06.94-2.06 2.06-.94-2.06-.94-.94-2.06-.94 2.06-2.06.94zm-11 1L8.5 8.5l.94-2.06 2.06-.94-2.06-.94L8.5 2.5l-.94 2.06-2.06.94zm10 10l.94 2.06.94-2.06 2.06-.94-2.06-.94-.94-2.06-.94 2.06-2.06.94z\"/><path d=\"M17.41 7.96l-1.37-1.37c-.4-.4-.92-.59-1.43-.59-.52 0-1.04.2-1.43.59L10.3 9.45l-7.72 7.72c-.78.78-.78 2.05 0 2.83L4 21.41c.39.39.9.59 1.41.59.51 0 1.02-.2 1.41-.59l7.78-7.78 2.81-2.81c.8-.78.8-2.07 0-2.86zM5.41 20L4 18.59l7.72-7.72 1.47 1.35L5.41 20z\"/>\n",
              "  </svg>\n",
              "      </button>\n",
              "      \n",
              "  <style>\n",
              "    .colab-df-container {\n",
              "      display:flex;\n",
              "      flex-wrap:wrap;\n",
              "      gap: 12px;\n",
              "    }\n",
              "\n",
              "    .colab-df-convert {\n",
              "      background-color: #E8F0FE;\n",
              "      border: none;\n",
              "      border-radius: 50%;\n",
              "      cursor: pointer;\n",
              "      display: none;\n",
              "      fill: #1967D2;\n",
              "      height: 32px;\n",
              "      padding: 0 0 0 0;\n",
              "      width: 32px;\n",
              "    }\n",
              "\n",
              "    .colab-df-convert:hover {\n",
              "      background-color: #E2EBFA;\n",
              "      box-shadow: 0px 1px 2px rgba(60, 64, 67, 0.3), 0px 1px 3px 1px rgba(60, 64, 67, 0.15);\n",
              "      fill: #174EA6;\n",
              "    }\n",
              "\n",
              "    [theme=dark] .colab-df-convert {\n",
              "      background-color: #3B4455;\n",
              "      fill: #D2E3FC;\n",
              "    }\n",
              "\n",
              "    [theme=dark] .colab-df-convert:hover {\n",
              "      background-color: #434B5C;\n",
              "      box-shadow: 0px 1px 3px 1px rgba(0, 0, 0, 0.15);\n",
              "      filter: drop-shadow(0px 1px 2px rgba(0, 0, 0, 0.3));\n",
              "      fill: #FFFFFF;\n",
              "    }\n",
              "  </style>\n",
              "\n",
              "      <script>\n",
              "        const buttonEl =\n",
              "          document.querySelector('#df-201b8605-7f45-4a5d-8e7b-6953049246a2 button.colab-df-convert');\n",
              "        buttonEl.style.display =\n",
              "          google.colab.kernel.accessAllowed ? 'block' : 'none';\n",
              "\n",
              "        async function convertToInteractive(key) {\n",
              "          const element = document.querySelector('#df-201b8605-7f45-4a5d-8e7b-6953049246a2');\n",
              "          const dataTable =\n",
              "            await google.colab.kernel.invokeFunction('convertToInteractive',\n",
              "                                                     [key], {});\n",
              "          if (!dataTable) return;\n",
              "\n",
              "          const docLinkHtml = 'Like what you see? Visit the ' +\n",
              "            '<a target=\"_blank\" href=https://colab.research.google.com/notebooks/data_table.ipynb>data table notebook</a>'\n",
              "            + ' to learn more about interactive tables.';\n",
              "          element.innerHTML = '';\n",
              "          dataTable['output_type'] = 'display_data';\n",
              "          await google.colab.output.renderOutput(dataTable, element);\n",
              "          const docLink = document.createElement('div');\n",
              "          docLink.innerHTML = docLinkHtml;\n",
              "          element.appendChild(docLink);\n",
              "        }\n",
              "      </script>\n",
              "    </div>\n",
              "  </div>\n",
              "  "
            ]
          },
          "metadata": {},
          "execution_count": 28
        }
      ]
    },
    {
      "cell_type": "markdown",
      "source": [
        "####  3-1-1. K - Nearest Neighbors (KNN)\n",
        "##### 지도/비지도 학습 모두에 사용 가능함\n",
        "    1) 지도학습\n",
        "        - classification for data with discrete labels\n",
        "        - regression for data with continuous labels\n",
        "    2) 비지도학습\n",
        "        - the foundation of many other learning methods\n",
        "            : notably manifold learningand spectral clustering."
      ],
      "metadata": {
        "id": "GxKsvC7Jk9d0"
      }
    },
    {
      "cell_type": "markdown",
      "source": [
        "##### KNeighborsClassifier parameter 설명\n",
        "    1. n_neighbors : 근접한 이웃의 개수 k\n",
        "    2. weights : 거리별 가중치\n",
        "        - 'uniform': 이웃의 거리가 멀고 가까운 것에 대한 가중치를 두지 않고 단순 거리 계산\n",
        "        - 'distance' : 거리 계산 시, 이웃의 거리가 가까우면 가중치를 더 줌\n",
        "         (가중치는 각 이웃 간 거리의 역수)\n",
        "        - p : 거리지표\n",
        "            - p = 1 : 맨하튼 거리\n",
        "            - p = 2 : 유클리드 거리\n",
        "            - 그 외 : 민코프스키 거리(Minkowski distance)의 공식을 적용"
      ],
      "metadata": {
        "id": "8qjJTHhmA5ov"
      }
    },
    {
      "cell_type": "markdown",
      "source": [
        "##### 참고. 회귀와 분류 - 성능평가 지표 차이\n",
        "지도학습 | 기준모델(Baseline) | 성능평가지표(Evaluation Metric)\n",
        "--|--|--\n",
        "회귀(Regression) | 오차(실제값-예측값) 평균| MAE, MSE, R-square\n",
        "분류(Classification) | 최빈값(Majority) | Confusion Matrix<br>Accuracy<br>Precision<br>Recall<br>F1 Score<br> ROC AUC"
      ],
      "metadata": {
        "id": "KyXgOpTijVCh"
      }
    },
    {
      "cell_type": "markdown",
      "source": [
        "1) Knn 모델 피팅"
      ],
      "metadata": {
        "id": "LyF1pMfWFwZe"
      }
    },
    {
      "cell_type": "code",
      "source": [
        "# from sklearn import neighbors, datasets\n",
        "# from matplotlib.colors import ListedColormap\n",
        "# from sklearn.metrics import confusion_matrix\n",
        "\n",
        "X_sepal = data.data[:, :2] # sepal length/width in arrays (data = datasets.load_iris())\n",
        "y_iris_kinds = data.target\n",
        "\n",
        "# Classifier 모델 구축\n",
        "clf = neighbors.KNeighborsClassifier(5)\n",
        "clf.fit(X_sepal,y_iris_kinds)\n",
        "# 분류 결과 예측\n",
        "y_pred = clf.predict(X_sepal)\n",
        "\n",
        "# 학습된 모델의 성능을 평가 \n",
        "confusion_matrix(y_iris_kinds,y_pred) "
      ],
      "metadata": {
        "colab": {
          "base_uri": "https://localhost:8080/"
        },
        "id": "T9mZuqhsFwRs",
        "outputId": "39188d52-8f14-4678-9723-cae2fb47b33a"
      },
      "execution_count": 29,
      "outputs": [
        {
          "output_type": "execute_result",
          "data": {
            "text/plain": [
              "array([[49,  1,  0],\n",
              "       [ 0, 37, 13],\n",
              "       [ 0, 10, 40]])"
            ]
          },
          "metadata": {},
          "execution_count": 29
        }
      ]
    },
    {
      "cell_type": "markdown",
      "source": [
        "##### 참고. Confusion Matrix \n",
        "분류 문제에 쓰이는 성능 평가 지표 중 하나로, 입력값 X에 따른 y의 예측값들을 행렬로 나타낸 것 \n",
        "##### 모델의 성능지표인 Accuracy, Precision, Recall, F1 Score 계산 가능\n",
        "    1. Accuracy = correct pred / all predictions\n",
        "    2. Precision = TP / all postive predictions(=TP+FP)\n",
        "    3. Recall = TP / all positive observations(=TP+FN) \n",
        "        - 민감도(Sensitivity), PR(True Positive Rate)라고 불리기도 함\n",
        "##### [참고]('https://gggggeun.tistory.com/17')"
      ],
      "metadata": {
        "id": "vV9Fh_mLlTjC"
      }
    },
    {
      "cell_type": "code",
      "source": [
        "clf"
      ],
      "metadata": {
        "colab": {
          "base_uri": "https://localhost:8080/"
        },
        "id": "5GIZ2WA-ZyO9",
        "outputId": "51820969-52be-454d-8ae1-5add23906998"
      },
      "execution_count": 30,
      "outputs": [
        {
          "output_type": "execute_result",
          "data": {
            "text/plain": [
              "KNeighborsClassifier()"
            ]
          },
          "metadata": {},
          "execution_count": 30
        }
      ]
    },
    {
      "cell_type": "code",
      "source": [
        "# from sklearn.metrics import classification_report\n",
        "print(classification_report(y_iris_kinds, y_pred, target_names=['Iris-setosa','Iris-versicolor','Iris-virginica']))\n"
      ],
      "metadata": {
        "colab": {
          "base_uri": "https://localhost:8080/"
        },
        "id": "kKqByoNzI1wp",
        "outputId": "57265972-9dbe-4788-cb94-ac8affeb9653"
      },
      "execution_count": 31,
      "outputs": [
        {
          "output_type": "stream",
          "name": "stdout",
          "text": [
            "                 precision    recall  f1-score   support\n",
            "\n",
            "    Iris-setosa       1.00      0.98      0.99        50\n",
            "Iris-versicolor       0.77      0.74      0.76        50\n",
            " Iris-virginica       0.75      0.80      0.78        50\n",
            "\n",
            "       accuracy                           0.84       150\n",
            "      macro avg       0.84      0.84      0.84       150\n",
            "   weighted avg       0.84      0.84      0.84       150\n",
            "\n"
          ]
        }
      ]
    },
    {
      "cell_type": "markdown",
      "source": [
        "Cross-validation을 통해 최적의 k를 찾아줄 수 있음 (얘는 링크한 블로그 내용 참고해서 추가함)\n",
        "[참고한 블로그](https://velog.io/@guns/%EB%A8%B8%EC%8B%A0%EB%9F%AC%EB%8B%9D-%EC%8A%A4%ED%84%B0%EB%94%94-3%EC%9D%BC%EC%B0%A8-K-NN-K-Nearest-Neighbor)"
      ],
      "metadata": {
        "id": "fvSS2AXMFwHj"
      }
    },
    {
      "cell_type": "code",
      "source": [
        "# from sklearn.model_selection import cross_val_score\n",
        "k_range = range(1,100)\n",
        "k_scores = []\n",
        "\n",
        "for k in k_range:\n",
        "    knn = neighbors.KNeighborsClassifier(k)\n",
        "    scores = cross_val_score(knn, X_sepal, y_iris_kinds, cv = 7, scoring='accuracy')\n",
        "    k_scores.append(scores.mean())\n",
        "\n",
        "plt.plot(k_range, k_scores)\n",
        "plt.xlabel('Value of K for KNN')\n",
        "plt.ylabel('Cross-validated accuracy')\n",
        "plt.show()"
      ],
      "metadata": {
        "colab": {
          "base_uri": "https://localhost:8080/",
          "height": 279
        },
        "id": "PzYdqU3bFwBG",
        "outputId": "f4483cea-afcf-4432-a51b-43c355f092ff"
      },
      "execution_count": 32,
      "outputs": [
        {
          "output_type": "display_data",
          "data": {
            "text/plain": [
              "<Figure size 576x288 with 1 Axes>"
            ],
            "image/png": "[encoded data removed]"
          },
          "metadata": {
            "needs_background": "light"
          }
        }
      ]
    },
    {
      "cell_type": "code",
      "source": [
        "df_bestk = pd.concat([(pd.Series(k_range)), pd.Series(k_scores)], axis = 1).\\\n",
        "rename({0:'k_value', 1:'cv_accuracy'}, axis = 1).sort_values(by = 'cv_accuracy', ascending = False)\n",
        "df_bestk.head(1)\n"
      ],
      "metadata": {
        "colab": {
          "base_uri": "https://localhost:8080/",
          "height": 81
        },
        "id": "Im3cOkarLMYz",
        "outputId": "90ea774b-33a6-4c0d-915f-6c6cba773335"
      },
      "execution_count": 33,
      "outputs": [
        {
          "output_type": "execute_result",
          "data": {
            "text/plain": [
              "    k_value  cv_accuracy\n",
              "39       40     0.827149"
            ],
            "text/html": [
              "\n",
              "  <div id=\"df-9eea9301-1457-4d14-9c46-829c572fea9a\">\n",
              "    <div class=\"colab-df-container\">\n",
              "      <div>\n",
              "<style scoped>\n",
              "    .dataframe tbody tr th:only-of-type {\n",
              "        vertical-align: middle;\n",
              "    }\n",
              "\n",
              "    .dataframe tbody tr th {\n",
              "        vertical-align: top;\n",
              "    }\n",
              "\n",
              "    .dataframe thead th {\n",
              "        text-align: right;\n",
              "    }\n",
              "</style>\n",
              "<table border=\"1\" class=\"dataframe\">\n",
              "  <thead>\n",
              "    <tr style=\"text-align: right;\">\n",
              "      <th></th>\n",
              "      <th>k_value</th>\n",
              "      <th>cv_accuracy</th>\n",
              "    </tr>\n",
              "  </thead>\n",
              "  <tbody>\n",
              "    <tr>\n",
              "      <th>39</th>\n",
              "      <td>40</td>\n",
              "      <td>0.827149</td>\n",
              "    </tr>\n",
              "  </tbody>\n",
              "</table>\n",
              "</div>\n",
              "      <button class=\"colab-df-convert\" onclick=\"convertToInteractive('df-9eea9301-1457-4d14-9c46-829c572fea9a')\"\n",
              "              title=\"Convert this dataframe to an interactive table.\"\n",
              "              style=\"display:none;\">\n",
              "        \n",
              "  <svg xmlns=\"http://www.w3.org/2000/svg\" height=\"24px\"viewBox=\"0 0 24 24\"\n",
              "       width=\"24px\">\n",
              "    <path d=\"M0 0h24v24H0V0z\" fill=\"none\"/>\n",
              "    <path d=\"M18.56 5.44l.94 2.06.94-2.06 2.06-.94-2.06-.94-.94-2.06-.94 2.06-2.06.94zm-11 1L8.5 8.5l.94-2.06 2.06-.94-2.06-.94L8.5 2.5l-.94 2.06-2.06.94zm10 10l.94 2.06.94-2.06 2.06-.94-2.06-.94-.94-2.06-.94 2.06-2.06.94z\"/><path d=\"M17.41 7.96l-1.37-1.37c-.4-.4-.92-.59-1.43-.59-.52 0-1.04.2-1.43.59L10.3 9.45l-7.72 7.72c-.78.78-.78 2.05 0 2.83L4 21.41c.39.39.9.59 1.41.59.51 0 1.02-.2 1.41-.59l7.78-7.78 2.81-2.81c.8-.78.8-2.07 0-2.86zM5.41 20L4 18.59l7.72-7.72 1.47 1.35L5.41 20z\"/>\n",
              "  </svg>\n",
              "      </button>\n",
              "      \n",
              "  <style>\n",
              "    .colab-df-container {\n",
              "      display:flex;\n",
              "      flex-wrap:wrap;\n",
              "      gap: 12px;\n",
              "    }\n",
              "\n",
              "    .colab-df-convert {\n",
              "      background-color: #E8F0FE;\n",
              "      border: none;\n",
              "      border-radius: 50%;\n",
              "      cursor: pointer;\n",
              "      display: none;\n",
              "      fill: #1967D2;\n",
              "      height: 32px;\n",
              "      padding: 0 0 0 0;\n",
              "      width: 32px;\n",
              "    }\n",
              "\n",
              "    .colab-df-convert:hover {\n",
              "      background-color: #E2EBFA;\n",
              "      box-shadow: 0px 1px 2px rgba(60, 64, 67, 0.3), 0px 1px 3px 1px rgba(60, 64, 67, 0.15);\n",
              "      fill: #174EA6;\n",
              "    }\n",
              "\n",
              "    [theme=dark] .colab-df-convert {\n",
              "      background-color: #3B4455;\n",
              "      fill: #D2E3FC;\n",
              "    }\n",
              "\n",
              "    [theme=dark] .colab-df-convert:hover {\n",
              "      background-color: #434B5C;\n",
              "      box-shadow: 0px 1px 3px 1px rgba(0, 0, 0, 0.15);\n",
              "      filter: drop-shadow(0px 1px 2px rgba(0, 0, 0, 0.3));\n",
              "      fill: #FFFFFF;\n",
              "    }\n",
              "  </style>\n",
              "\n",
              "      <script>\n",
              "        const buttonEl =\n",
              "          document.querySelector('#df-9eea9301-1457-4d14-9c46-829c572fea9a button.colab-df-convert');\n",
              "        buttonEl.style.display =\n",
              "          google.colab.kernel.accessAllowed ? 'block' : 'none';\n",
              "\n",
              "        async function convertToInteractive(key) {\n",
              "          const element = document.querySelector('#df-9eea9301-1457-4d14-9c46-829c572fea9a');\n",
              "          const dataTable =\n",
              "            await google.colab.kernel.invokeFunction('convertToInteractive',\n",
              "                                                     [key], {});\n",
              "          if (!dataTable) return;\n",
              "\n",
              "          const docLinkHtml = 'Like what you see? Visit the ' +\n",
              "            '<a target=\"_blank\" href=https://colab.research.google.com/notebooks/data_table.ipynb>data table notebook</a>'\n",
              "            + ' to learn more about interactive tables.';\n",
              "          element.innerHTML = '';\n",
              "          dataTable['output_type'] = 'display_data';\n",
              "          await google.colab.output.renderOutput(dataTable, element);\n",
              "          const docLink = document.createElement('div');\n",
              "          docLink.innerHTML = docLinkHtml;\n",
              "          element.appendChild(docLink);\n",
              "        }\n",
              "      </script>\n",
              "    </div>\n",
              "  </div>\n",
              "  "
            ]
          },
          "metadata": {},
          "execution_count": 33
        }
      ]
    },
    {
      "cell_type": "markdown",
      "source": [
        "##### Weight 여부에 따른 Knn 분류 결과 시각화\n",
        "    - K-최근접이웃 분류 결과 좌표평면에 시각화하기 위해서는 예측 변수를 2개까지만 사용 가능\n",
        "    - 앞에서 선언한 X_sepal, X_petal, y_iris_kinds (2차 배열) 그대로 이용"
      ],
      "metadata": {
        "id": "15rj1lCHFm7L"
      }
    },
    {
      "cell_type": "code",
      "source": [
        "# import numpy as np\n",
        "# import matplotlib.pyplot as plt\n",
        "# from matplotlib.colors import ListedColormap\n",
        "# from sklearn import neighbors, datasets\n",
        "\n",
        "n_neighbors = df_bestk.iloc[0, 0] # k\n",
        "\n",
        "\n",
        "# step size in the mesh\n",
        "h = .02  \n",
        "\n",
        "# 컬러맵 생성\n",
        "cmap_light = ListedColormap(['orange', 'cyan','cornflowerblue'])\n",
        "cmap_bold = ListedColormap(['darkorange', 'c', 'darkblue'])\n",
        "\n",
        "for weights in ['uniform', 'distance']:\n",
        "    # 파라미터 - 거리에 따른 weight 유무에 따라 모델링해줌\n",
        "    clf = neighbors.KNeighborsClassifier(n_neighbors, weights=weights)\n",
        "    clf.fit(X_sepal, y_iris_kinds)\n",
        "\n",
        "    # 분류 경계를 색으로 구분하기 위한 작업\n",
        "    # 각 point를 칠해줌 [x_min, x_max]x[y_min, y_max].\n",
        "    x_min, x_max = X_sepal[:, 0].min() - 1, X_sepal[:, 0].max() + 1\n",
        "    y_min, y_max = X_sepal[:, 1].min() - 1, X_sepal[:, 1].max() + 1\n",
        "    xx, yy = np.meshgrid(np.arange(x_min, x_max, h),\n",
        "                         np.arange(y_min, y_max, h)) # 좌표를 격자로 표현\n",
        "    Z = clf.predict(np.c_[xx.ravel(), yy.ravel()]) # 두 개 배열 붙여 하나로 만듦 (pd.concat 같이) : 결국 sepal 정보 기반으로 예측 의미\n",
        "\n",
        "    # 분류 경계 별 색칠하기\n",
        "    Z = Z.reshape(xx.shape)\n",
        "    plt.figure()\n",
        "    plt.pcolormesh(xx, yy, Z, cmap=cmap_light)\n",
        "\n",
        "    # 각 훈련값의 좌표들을 그린 산점도\n",
        "    plt.scatter(X_sepal[:, 0], X_sepal[:, 1], c=y_iris_kinds, cmap=cmap_bold,\n",
        "                edgecolor='k', s=20)\n",
        "    plt.xlim(xx.min(), xx.max())\n",
        "    plt.ylim(yy.min(), yy.max())\n",
        "    # 제목에 Knn 분류 파라미터와 표준 정확도 표기해줌\n",
        "    plt.title(\"3-Class classification (k = %i, weights = '%s')\"\n",
        "              % (n_neighbors, weights))\n",
        "\n",
        "\n",
        "plt.show()"
      ],
      "metadata": {
        "colab": {
          "base_uri": "https://localhost:8080/",
          "height": 545
        },
        "id": "WAoCu-W1k9ie",
        "outputId": "3a65573e-cb22-432d-d6df-4d70c6307a0a"
      },
      "execution_count": 34,
      "outputs": [
        {
          "output_type": "display_data",
          "data": {
            "text/plain": [
              "<Figure size 576x288 with 1 Axes>"
            ],
            "image/png": "[encoded data removed]"
          },
          "metadata": {
            "needs_background": "light"
          }
        },
        {
          "output_type": "display_data",
          "data": {
            "text/plain": [
              "<Figure size 576x288 with 1 Axes>"
            ],
            "image/png": "[encoded data removed]"
          },
          "metadata": {
            "needs_background": "light"
          }
        }
      ]
    },
    {
      "cell_type": "code",
      "source": [
        "# Petal에 대해서 반복\n",
        "X_petal = data.data[:,2:] # petal length/width in arrays (data = datasets.load_iris())\n",
        "y_iris_kinds = data.target\n",
        "\n",
        "# Classifier 모델 구축\n",
        "clfp = neighbors.KNeighborsClassifier(5)\n",
        "clfp.fit(X_petal,y_iris_kinds)\n",
        "# 분류 결과 예측\n",
        "y_pred_petal = clfp.predict(X_petal)\n",
        "\n",
        "# 학습된 모델의 성능을 평가 (입력값 X에 따른 y의 예측값들을 행렬로 나타낸 것 > 모델의 성능지표인 Accuracy, Precision, Recall, F1 Score 계산 가능)\n",
        "knncm = confusion_matrix(y_iris_kinds,y_pred_petal) \n",
        "knncm"
      ],
      "metadata": {
        "colab": {
          "base_uri": "https://localhost:8080/"
        },
        "id": "1WJtW-q8YZIr",
        "outputId": "77fafca4-73f9-4a9f-e1ce-7eb22c13f394"
      },
      "execution_count": 53,
      "outputs": [
        {
          "output_type": "execute_result",
          "data": {
            "text/plain": [
              "array([[50,  0,  0],\n",
              "       [ 0, 47,  3],\n",
              "       [ 0,  3, 47]])"
            ]
          },
          "metadata": {},
          "execution_count": 53
        }
      ]
    },
    {
      "cell_type": "code",
      "source": [
        "n_neighbors = df_bestk.iloc[0, 0] # k\n",
        "h = .02  \n",
        "\n",
        "# 컬러맵 생성\n",
        "cmap_light = ListedColormap(['#FFAAAA', '#AAFFAA', '#AAAAFF'])\n",
        "cmap_bold = ListedColormap(['#FF0000', '#00FF00', '#0000FF'])\n",
        "\n",
        "for weights in ['uniform', 'distance']:\n",
        "    # 파라미터 - 거리에 따른 weight 유무에 따라 모델링해줌\n",
        "    clfp = neighbors.KNeighborsClassifier(n_neighbors, weights=weights)\n",
        "    clfp.fit(X_petal, y_iris_kinds)\n",
        "\n",
        "    # 분류 경계를 색으로 구분하기 위한 작업\n",
        "    # 각 point를 칠해줌 [x_min, x_max]x[y_min, y_max].\n",
        "    x_min, x_max = X_petal[:, 0].min() - 1, X_petal[:, 0].max() + 1\n",
        "    y_min, y_max = X_petal[:, 1].min() - 1, X_petal[:, 1].max() + 1\n",
        "    xx, yy = np.meshgrid(np.arange(x_min, x_max, h),\n",
        "                         np.arange(y_min, y_max, h)) # 좌표를 격자로 표현\n",
        "    Z = clfp.predict(np.c_[xx.ravel(), yy.ravel()]) # 두 개 배열 붙여 하나로 만듦 (pd.concat 같이) : 결국 sepal 정보 기반으로 예측 의미\n",
        "\n",
        "    # 분류 경계 별 색칠하기\n",
        "    Z = Z.reshape(xx.shape)\n",
        "    plt.figure()\n",
        "    plt.pcolormesh(xx, yy, Z, cmap=cmap_light)\n",
        "\n",
        "    # 각 훈련값의 좌표들을 그린 산점도\n",
        "    plt.scatter(X_petal[:, 0], X_petal[:, 1], c=y_iris_kinds, cmap=cmap_bold,\n",
        "                edgecolor='k', s=20)\n",
        "    plt.xlim(xx.min(), xx.max())\n",
        "    plt.ylim(yy.min(), yy.max())\n",
        "    # 제목에 Knn 분류 파라미터와 표준 정확도 표기해줌\n",
        "    plt.title(\"3-Class classification (k = %i, weights = '%s')\"\n",
        "              % (n_neighbors, weights))\n",
        "\n",
        "plt.show()"
      ],
      "metadata": {
        "colab": {
          "base_uri": "https://localhost:8080/",
          "height": 545
        },
        "id": "NVd9pKJoX-17",
        "outputId": "4775f99f-c6e0-4fa3-af4e-9c85bdfae970"
      },
      "execution_count": 36,
      "outputs": [
        {
          "output_type": "display_data",
          "data": {
            "text/plain": [
              "<Figure size 576x288 with 1 Axes>"
            ],
            "image/png": "[encoded data removed]"
          },
          "metadata": {
            "needs_background": "light"
          }
        },
        {
          "output_type": "display_data",
          "data": {
            "text/plain": [
              "<Figure size 576x288 with 1 Axes>"
            ],
            "image/png": "[encoded data removed]"
          },
          "metadata": {
            "needs_background": "light"
          }
        }
      ]
    },
    {
      "cell_type": "markdown",
      "source": [
        "##### 참고. numpy array 형태 변환 및 메모리 관리 관련 메소드들\n",
        "    1. flatten() vs ravel()\n",
        "    : 비유하자면 f = copy(), r = view() 같은 거임\n",
        "      둘 다 n*m 행렬을 1*nm 행렬로 바꿔주는 함수지만, 값을 변경했을 떄 원본 행렬의 값에도 변화가 없냐 / 있냐의 차이\n",
        "    2. reshape() vs resize()\n",
        "        - np.reshape(a, a.new_shape), a.reshape(a.new_shape)\n",
        "            : 원소 갯수와 행렬 사이즈가 정확히 맞아야 함. if else : 에러\n",
        "        - resize : 비교적 더 관대함. 행렬 사이즈가 더 크면, 그냥 원소를 반복해서 넣어줌\n",
        "            1) 단, np.resize(a, a.new_shape) : 일종의 copy() and then work\n",
        "                원본 값에 영향 없음. 그냥 새로운 shape에 맞춰 결과값만 반환\n",
        "            2) 반면, a.resize(a.new_shape) : view() and work\n",
        "                원래 값 자체를 아예 변경해버림. 그리고 따로 값 자동 반환 안 함.\n",
        "                따라서 b = a.resize(a.new_shape), b 등으로 따로 명령해야 함\n",
        "[참고 블로그](https://yeko90.tistory.com/entry/%EB%84%98%ED%8C%8C%EC%9D%B4-%EA%B8%B0%EC%B4%88-flatten-VS-ravel-%EB%A9%94%EB%AA%A8%EB%A6%AC-%EA%B4%80%EB%A6%ACcopy-vs-view-base)"
      ],
      "metadata": {
        "id": "7WVsqdUck9ml"
      }
    },
    {
      "cell_type": "markdown",
      "source": [
        "### 참고. 분류는 아니지만 회귀 모델도 같이 써 봄\n",
        "##### Linear regression (y = ax + b)\n",
        "##### a = slope/기울기, b = intercept/절편\n"
      ],
      "metadata": {
        "id": "e5_B07GYk91B"
      }
    },
    {
      "cell_type": "code",
      "source": [
        "# 모델 선언\n",
        "# from sklearn.linear_model import LinearRegression\n",
        "\n",
        "model = LinearRegression(fit_intercept=True)\n",
        "model"
      ],
      "metadata": {
        "colab": {
          "base_uri": "https://localhost:8080/"
        },
        "id": "9RyqVcB3k94m",
        "outputId": "ab6b9bfd-9263-48c3-b465-516de5e1c97f"
      },
      "execution_count": 37,
      "outputs": [
        {
          "output_type": "execute_result",
          "data": {
            "text/plain": [
              "LinearRegression()"
            ]
          },
          "metadata": {},
          "execution_count": 37
        }
      ]
    },
    {
      "cell_type": "code",
      "source": [
        "np.asarray(list_features_sum).shape"
      ],
      "metadata": {
        "colab": {
          "base_uri": "https://localhost:8080/"
        },
        "id": "zwKvEzxYgJGM",
        "outputId": "b8663fd4-d39f-48df-958c-fef0fb89979c"
      },
      "execution_count": 38,
      "outputs": [
        {
          "output_type": "execute_result",
          "data": {
            "text/plain": [
              "(150, 1)"
            ]
          },
          "metadata": {},
          "execution_count": 38
        }
      ]
    },
    {
      "cell_type": "code",
      "source": [
        "X_lg = np.asarray(list_features_sum)\n",
        "X_lg.shape"
      ],
      "metadata": {
        "colab": {
          "base_uri": "https://localhost:8080/"
        },
        "id": "0LqiCkIBdOSG",
        "outputId": "c2506ef8-c93b-43b2-e432-c3b2b7a2871a"
      },
      "execution_count": 39,
      "outputs": [
        {
          "output_type": "execute_result",
          "data": {
            "text/plain": [
              "(150, 1)"
            ]
          },
          "metadata": {},
          "execution_count": 39
        }
      ]
    },
    {
      "cell_type": "code",
      "source": [
        "y_lg = data.target\n",
        "y_lg.shape"
      ],
      "metadata": {
        "colab": {
          "base_uri": "https://localhost:8080/"
        },
        "id": "MjWQ0yLLghuk",
        "outputId": "65441af7-f8f1-458f-b480-8479865edc53"
      },
      "execution_count": 40,
      "outputs": [
        {
          "output_type": "execute_result",
          "data": {
            "text/plain": [
              "(150,)"
            ]
          },
          "metadata": {},
          "execution_count": 40
        }
      ]
    },
    {
      "cell_type": "markdown",
      "source": [
        "##### 참고. np.axis를 통한 차원 변경\n",
        "    1. 1D array를 row vector나 column vector로 사용하고 싶을 경우 (i.g., (150,) -> (150,1))\n",
        "    2. numpy broadcasting이라고 shape이 다른 array간 연산\n",
        "    3. 2차원 이상의 고차원 array를 만들어냄\n",
        "        (i.g., In [126]: arr_5D = arr[np.newaxis, ..., np.newaxis, np.newaxis])\n",
        "        # promoting 2D array to a 5D array\n",
        "        # In [127]: arr_5D.shape\n",
        "        # Out[127]: (1, 5, 5, 1, 1)\n",
        "\n",
        "    - reshape는 변환전 차원의 합과 변환후 차원의 합이 같아야 함. \n",
        "        4개의 원소를 2by2로 재배열한다는 느낌\n",
        "        (4,1)을 (3,3)으로 바꿀 수는 없음\n",
        "\n",
        "\n"
      ],
      "metadata": {
        "id": "P8n14TKpd1rA"
      }
    },
    {
      "cell_type": "code",
      "source": [
        "# 원래 예시 (X_lg 선언 관련)\n",
        "# XX = np.asarray(list_features_sum) # XX.shape = (150,1)\n",
        "# X2 = XX[:, np.newaxis] # 존재하는 numpy array의 차원을 늘려준다\n",
        "# print(X2.shape)\n",
        "# X2[:5]"
      ],
      "metadata": {
        "id": "9U8boLTMg-VQ"
      },
      "execution_count": 41,
      "outputs": []
    },
    {
      "cell_type": "markdown",
      "source": [
        "##### 모델 피팅 및 학습, 예측\n"
      ],
      "metadata": {
        "id": "4Orbz2XXciul"
      }
    },
    {
      "cell_type": "code",
      "source": [
        "model.fit(X_lg, y_lg)\n"
      ],
      "metadata": {
        "colab": {
          "base_uri": "https://localhost:8080/"
        },
        "id": "lzm5ZQeOciyx",
        "outputId": "a6738d77-3f49-402f-942e-4d6364e3b2e1"
      },
      "execution_count": 42,
      "outputs": [
        {
          "output_type": "execute_result",
          "data": {
            "text/plain": [
              "LinearRegression()"
            ]
          },
          "metadata": {},
          "execution_count": 42
        }
      ]
    },
    {
      "cell_type": "code",
      "source": [
        "model.coef_, model.intercept_"
      ],
      "metadata": {
        "colab": {
          "base_uri": "https://localhost:8080/"
        },
        "id": "gylqfZZ8ci2r",
        "outputId": "8bee3ad7-9924-4d9a-9c1d-7a38247ec13b"
      },
      "execution_count": 43,
      "outputs": [
        {
          "output_type": "execute_result",
          "data": {
            "text/plain": [
              "(array([0.24065884]), -2.335050202713289)"
            ]
          },
          "metadata": {},
          "execution_count": 43
        }
      ]
    },
    {
      "cell_type": "code",
      "source": [
        "df_iris.head(3)"
      ],
      "metadata": {
        "colab": {
          "base_uri": "https://localhost:8080/",
          "height": 143
        },
        "id": "Msee5a0pci8K",
        "outputId": "33fa5ffe-b623-4b63-97a9-50a81e94caf2"
      },
      "execution_count": 44,
      "outputs": [
        {
          "output_type": "execute_result",
          "data": {
            "text/plain": [
              "   sepal length  sepal width  petal length  petal width  target_species\n",
              "0           5.1          3.5           1.4          0.2               0\n",
              "1           4.9          3.0           1.4          0.2               0\n",
              "2           4.7          3.2           1.3          0.2               0"
            ],
            "text/html": [
              "\n",
              "  <div id=\"df-1a17a960-590a-44f2-8851-65ccc7fcca60\">\n",
              "    <div class=\"colab-df-container\">\n",
              "      <div>\n",
              "<style scoped>\n",
              "    .dataframe tbody tr th:only-of-type {\n",
              "        vertical-align: middle;\n",
              "    }\n",
              "\n",
              "    .dataframe tbody tr th {\n",
              "        vertical-align: top;\n",
              "    }\n",
              "\n",
              "    .dataframe thead th {\n",
              "        text-align: right;\n",
              "    }\n",
              "</style>\n",
              "<table border=\"1\" class=\"dataframe\">\n",
              "  <thead>\n",
              "    <tr style=\"text-align: right;\">\n",
              "      <th></th>\n",
              "      <th>sepal length</th>\n",
              "      <th>sepal width</th>\n",
              "      <th>petal length</th>\n",
              "      <th>petal width</th>\n",
              "      <th>target_species</th>\n",
              "    </tr>\n",
              "  </thead>\n",
              "  <tbody>\n",
              "    <tr>\n",
              "      <th>0</th>\n",
              "      <td>5.1</td>\n",
              "      <td>3.5</td>\n",
              "      <td>1.4</td>\n",
              "      <td>0.2</td>\n",
              "      <td>0</td>\n",
              "    </tr>\n",
              "    <tr>\n",
              "      <th>1</th>\n",
              "      <td>4.9</td>\n",
              "      <td>3.0</td>\n",
              "      <td>1.4</td>\n",
              "      <td>0.2</td>\n",
              "      <td>0</td>\n",
              "    </tr>\n",
              "    <tr>\n",
              "      <th>2</th>\n",
              "      <td>4.7</td>\n",
              "      <td>3.2</td>\n",
              "      <td>1.3</td>\n",
              "      <td>0.2</td>\n",
              "      <td>0</td>\n",
              "    </tr>\n",
              "  </tbody>\n",
              "</table>\n",
              "</div>\n",
              "      <button class=\"colab-df-convert\" onclick=\"convertToInteractive('df-1a17a960-590a-44f2-8851-65ccc7fcca60')\"\n",
              "              title=\"Convert this dataframe to an interactive table.\"\n",
              "              style=\"display:none;\">\n",
              "        \n",
              "  <svg xmlns=\"http://www.w3.org/2000/svg\" height=\"24px\"viewBox=\"0 0 24 24\"\n",
              "       width=\"24px\">\n",
              "    <path d=\"M0 0h24v24H0V0z\" fill=\"none\"/>\n",
              "    <path d=\"M18.56 5.44l.94 2.06.94-2.06 2.06-.94-2.06-.94-.94-2.06-.94 2.06-2.06.94zm-11 1L8.5 8.5l.94-2.06 2.06-.94-2.06-.94L8.5 2.5l-.94 2.06-2.06.94zm10 10l.94 2.06.94-2.06 2.06-.94-2.06-.94-.94-2.06-.94 2.06-2.06.94z\"/><path d=\"M17.41 7.96l-1.37-1.37c-.4-.4-.92-.59-1.43-.59-.52 0-1.04.2-1.43.59L10.3 9.45l-7.72 7.72c-.78.78-.78 2.05 0 2.83L4 21.41c.39.39.9.59 1.41.59.51 0 1.02-.2 1.41-.59l7.78-7.78 2.81-2.81c.8-.78.8-2.07 0-2.86zM5.41 20L4 18.59l7.72-7.72 1.47 1.35L5.41 20z\"/>\n",
              "  </svg>\n",
              "      </button>\n",
              "      \n",
              "  <style>\n",
              "    .colab-df-container {\n",
              "      display:flex;\n",
              "      flex-wrap:wrap;\n",
              "      gap: 12px;\n",
              "    }\n",
              "\n",
              "    .colab-df-convert {\n",
              "      background-color: #E8F0FE;\n",
              "      border: none;\n",
              "      border-radius: 50%;\n",
              "      cursor: pointer;\n",
              "      display: none;\n",
              "      fill: #1967D2;\n",
              "      height: 32px;\n",
              "      padding: 0 0 0 0;\n",
              "      width: 32px;\n",
              "    }\n",
              "\n",
              "    .colab-df-convert:hover {\n",
              "      background-color: #E2EBFA;\n",
              "      box-shadow: 0px 1px 2px rgba(60, 64, 67, 0.3), 0px 1px 3px 1px rgba(60, 64, 67, 0.15);\n",
              "      fill: #174EA6;\n",
              "    }\n",
              "\n",
              "    [theme=dark] .colab-df-convert {\n",
              "      background-color: #3B4455;\n",
              "      fill: #D2E3FC;\n",
              "    }\n",
              "\n",
              "    [theme=dark] .colab-df-convert:hover {\n",
              "      background-color: #434B5C;\n",
              "      box-shadow: 0px 1px 3px 1px rgba(0, 0, 0, 0.15);\n",
              "      filter: drop-shadow(0px 1px 2px rgba(0, 0, 0, 0.3));\n",
              "      fill: #FFFFFF;\n",
              "    }\n",
              "  </style>\n",
              "\n",
              "      <script>\n",
              "        const buttonEl =\n",
              "          document.querySelector('#df-1a17a960-590a-44f2-8851-65ccc7fcca60 button.colab-df-convert');\n",
              "        buttonEl.style.display =\n",
              "          google.colab.kernel.accessAllowed ? 'block' : 'none';\n",
              "\n",
              "        async function convertToInteractive(key) {\n",
              "          const element = document.querySelector('#df-1a17a960-590a-44f2-8851-65ccc7fcca60');\n",
              "          const dataTable =\n",
              "            await google.colab.kernel.invokeFunction('convertToInteractive',\n",
              "                                                     [key], {});\n",
              "          if (!dataTable) return;\n",
              "\n",
              "          const docLinkHtml = 'Like what you see? Visit the ' +\n",
              "            '<a target=\"_blank\" href=https://colab.research.google.com/notebooks/data_table.ipynb>data table notebook</a>'\n",
              "            + ' to learn more about interactive tables.';\n",
              "          element.innerHTML = '';\n",
              "          dataTable['output_type'] = 'display_data';\n",
              "          await google.colab.output.renderOutput(dataTable, element);\n",
              "          const docLink = document.createElement('div');\n",
              "          docLink.innerHTML = docLinkHtml;\n",
              "          element.appendChild(docLink);\n",
              "        }\n",
              "      </script>\n",
              "    </div>\n",
              "  </div>\n",
              "  "
            ]
          },
          "metadata": {},
          "execution_count": 44
        }
      ]
    },
    {
      "cell_type": "code",
      "source": [
        "# histogram plot\n",
        "df_iris.hist(figsize = (10,7), bins = 30)"
      ],
      "metadata": {
        "colab": {
          "base_uri": "https://localhost:8080/",
          "height": 571
        },
        "id": "Jhbq9bSJcjAF",
        "outputId": "94d8cdf7-78c6-4c8d-e7fb-5a7c1a30b292"
      },
      "execution_count": 45,
      "outputs": [
        {
          "output_type": "execute_result",
          "data": {
            "text/plain": [
              "array([[<matplotlib.axes._subplots.AxesSubplot object at 0x7f4440484e10>,\n",
              "        <matplotlib.axes._subplots.AxesSubplot object at 0x7f4440424f90>],\n",
              "       [<matplotlib.axes._subplots.AxesSubplot object at 0x7f44403eaa50>,\n",
              "        <matplotlib.axes._subplots.AxesSubplot object at 0x7f4440396b90>],\n",
              "       [<matplotlib.axes._subplots.AxesSubplot object at 0x7f4440364650>,\n",
              "        <matplotlib.axes._subplots.AxesSubplot object at 0x7f444031ac50>]],\n",
              "      dtype=object)"
            ]
          },
          "metadata": {},
          "execution_count": 45
        },
        {
          "output_type": "display_data",
          "data": {
            "text/plain": [
              "<Figure size 720x504 with 6 Axes>"
            ],
            "image/png": "[encoded data removed]"
          },
          "metadata": {
            "needs_background": "light"
          }
        }
      ]
    },
    {
      "cell_type": "code",
      "source": [
        "# violinplot\n",
        "_ = sns.violinplot(data = df_iris, x = 'target_species', y = 'sepal length',)"
      ],
      "metadata": {
        "colab": {
          "base_uri": "https://localhost:8080/",
          "height": 280
        },
        "id": "QgIjgcyJcjD1",
        "outputId": "ff748378-d54a-43d3-954f-93bab61683db"
      },
      "execution_count": 47,
      "outputs": [
        {
          "output_type": "display_data",
          "data": {
            "text/plain": [
              "<Figure size 576x288 with 1 Axes>"
            ],
            "image/png": "[encoded data removed]"
          },
          "metadata": {
            "needs_background": "light"
          }
        }
      ]
    },
    {
      "cell_type": "code",
      "source": [
        "# violinplot\n",
        "_ = sns.violinplot(data = df_iris, x = 'target_species', y = 'sepal width',)"
      ],
      "metadata": {
        "colab": {
          "base_uri": "https://localhost:8080/",
          "height": 280
        },
        "id": "MCxqBgBqcjNr",
        "outputId": "b0542a7a-2f7a-4a5d-a0a1-847210335369"
      },
      "execution_count": 48,
      "outputs": [
        {
          "output_type": "display_data",
          "data": {
            "text/plain": [
              "<Figure size 576x288 with 1 Axes>"
            ],
            "image/png": "[encoded data removed]"
          },
          "metadata": {
            "needs_background": "light"
          }
        }
      ]
    },
    {
      "cell_type": "code",
      "source": [
        "# violinplot\n",
        "_ = sns.violinplot(data = df_iris, x = 'target_species', y = 'petal length',)"
      ],
      "metadata": {
        "colab": {
          "base_uri": "https://localhost:8080/",
          "height": 280
        },
        "id": "9eEjliMUxh4n",
        "outputId": "ccf4e00d-57de-40a3-f475-93cae34c7c66"
      },
      "execution_count": 49,
      "outputs": [
        {
          "output_type": "display_data",
          "data": {
            "text/plain": [
              "<Figure size 576x288 with 1 Axes>"
            ],
            "image/png": "[encoded data removed]"
          },
          "metadata": {
            "needs_background": "light"
          }
        }
      ]
    },
    {
      "cell_type": "code",
      "source": [
        "# violinplot\n",
        "_ = sns.violinplot(data = df_iris, x = 'target_species', y = 'petal width',)"
      ],
      "metadata": {
        "colab": {
          "base_uri": "https://localhost:8080/",
          "height": 280
        },
        "id": "18iL8KHSxh8i",
        "outputId": "fb0d4ad5-be88-4d09-ac0a-15565f5073a5"
      },
      "execution_count": 50,
      "outputs": [
        {
          "output_type": "display_data",
          "data": {
            "text/plain": [
              "<Figure size 576x288 with 1 Axes>"
            ],
            "image/png": "[encoded data removed]"
          },
          "metadata": {
            "needs_background": "light"
          }
        }
      ]
    },
    {
      "cell_type": "markdown",
      "source": [
        "#### 상관관계 분석"
      ],
      "metadata": {
        "id": "BhxA5jEqxiFZ"
      }
    },
    {
      "cell_type": "markdown",
      "source": [
        "상관관계가 높은 feature를 모두 가지고 모델 학습을 시키는 건 오히려 정확도를 감소시킬 수 있고, 따라서 feature selection이 매우 중요함."
      ],
      "metadata": {
        "id": "6iPiUcTwxiB5"
      }
    },
    {
      "cell_type": "code",
      "source": [
        "corr = df_iris.corr()\n",
        "corr"
      ],
      "metadata": {
        "colab": {
          "base_uri": "https://localhost:8080/",
          "height": 206
        },
        "id": "wkRG0lksxiI5",
        "outputId": "14f9e35a-a350-4b85-976f-f5122990013e"
      },
      "execution_count": 51,
      "outputs": [
        {
          "output_type": "execute_result",
          "data": {
            "text/plain": [
              "                sepal length  sepal width  petal length  petal width  \\\n",
              "sepal length        1.000000    -0.117570      0.871754     0.817941   \n",
              "sepal width        -0.117570     1.000000     -0.428440    -0.366126   \n",
              "petal length        0.871754    -0.428440      1.000000     0.962865   \n",
              "petal width         0.817941    -0.366126      0.962865     1.000000   \n",
              "target_species      0.782561    -0.426658      0.949035     0.956547   \n",
              "\n",
              "                target_species  \n",
              "sepal length          0.782561  \n",
              "sepal width          -0.426658  \n",
              "petal length          0.949035  \n",
              "petal width           0.956547  \n",
              "target_species        1.000000  "
            ],
            "text/html": [
              "\n",
              "  <div id=\"df-c743b20c-cbe6-4ebd-a306-f7748faaa99d\">\n",
              "    <div class=\"colab-df-container\">\n",
              "      <div>\n",
              "<style scoped>\n",
              "    .dataframe tbody tr th:only-of-type {\n",
              "        vertical-align: middle;\n",
              "    }\n",
              "\n",
              "    .dataframe tbody tr th {\n",
              "        vertical-align: top;\n",
              "    }\n",
              "\n",
              "    .dataframe thead th {\n",
              "        text-align: right;\n",
              "    }\n",
              "</style>\n",
              "<table border=\"1\" class=\"dataframe\">\n",
              "  <thead>\n",
              "    <tr style=\"text-align: right;\">\n",
              "      <th></th>\n",
              "      <th>sepal length</th>\n",
              "      <th>sepal width</th>\n",
              "      <th>petal length</th>\n",
              "      <th>petal width</th>\n",
              "      <th>target_species</th>\n",
              "    </tr>\n",
              "  </thead>\n",
              "  <tbody>\n",
              "    <tr>\n",
              "      <th>sepal length</th>\n",
              "      <td>1.000000</td>\n",
              "      <td>-0.117570</td>\n",
              "      <td>0.871754</td>\n",
              "      <td>0.817941</td>\n",
              "      <td>0.782561</td>\n",
              "    </tr>\n",
              "    <tr>\n",
              "      <th>sepal width</th>\n",
              "      <td>-0.117570</td>\n",
              "      <td>1.000000</td>\n",
              "      <td>-0.428440</td>\n",
              "      <td>-0.366126</td>\n",
              "      <td>-0.426658</td>\n",
              "    </tr>\n",
              "    <tr>\n",
              "      <th>petal length</th>\n",
              "      <td>0.871754</td>\n",
              "      <td>-0.428440</td>\n",
              "      <td>1.000000</td>\n",
              "      <td>0.962865</td>\n",
              "      <td>0.949035</td>\n",
              "    </tr>\n",
              "    <tr>\n",
              "      <th>petal width</th>\n",
              "      <td>0.817941</td>\n",
              "      <td>-0.366126</td>\n",
              "      <td>0.962865</td>\n",
              "      <td>1.000000</td>\n",
              "      <td>0.956547</td>\n",
              "    </tr>\n",
              "    <tr>\n",
              "      <th>target_species</th>\n",
              "      <td>0.782561</td>\n",
              "      <td>-0.426658</td>\n",
              "      <td>0.949035</td>\n",
              "      <td>0.956547</td>\n",
              "      <td>1.000000</td>\n",
              "    </tr>\n",
              "  </tbody>\n",
              "</table>\n",
              "</div>\n",
              "      <button class=\"colab-df-convert\" onclick=\"convertToInteractive('df-c743b20c-cbe6-4ebd-a306-f7748faaa99d')\"\n",
              "              title=\"Convert this dataframe to an interactive table.\"\n",
              "              style=\"display:none;\">\n",
              "        \n",
              "  <svg xmlns=\"http://www.w3.org/2000/svg\" height=\"24px\"viewBox=\"0 0 24 24\"\n",
              "       width=\"24px\">\n",
              "    <path d=\"M0 0h24v24H0V0z\" fill=\"none\"/>\n",
              "    <path d=\"M18.56 5.44l.94 2.06.94-2.06 2.06-.94-2.06-.94-.94-2.06-.94 2.06-2.06.94zm-11 1L8.5 8.5l.94-2.06 2.06-.94-2.06-.94L8.5 2.5l-.94 2.06-2.06.94zm10 10l.94 2.06.94-2.06 2.06-.94-2.06-.94-.94-2.06-.94 2.06-2.06.94z\"/><path d=\"M17.41 7.96l-1.37-1.37c-.4-.4-.92-.59-1.43-.59-.52 0-1.04.2-1.43.59L10.3 9.45l-7.72 7.72c-.78.78-.78 2.05 0 2.83L4 21.41c.39.39.9.59 1.41.59.51 0 1.02-.2 1.41-.59l7.78-7.78 2.81-2.81c.8-.78.8-2.07 0-2.86zM5.41 20L4 18.59l7.72-7.72 1.47 1.35L5.41 20z\"/>\n",
              "  </svg>\n",
              "      </button>\n",
              "      \n",
              "  <style>\n",
              "    .colab-df-container {\n",
              "      display:flex;\n",
              "      flex-wrap:wrap;\n",
              "      gap: 12px;\n",
              "    }\n",
              "\n",
              "    .colab-df-convert {\n",
              "      background-color: #E8F0FE;\n",
              "      border: none;\n",
              "      border-radius: 50%;\n",
              "      cursor: pointer;\n",
              "      display: none;\n",
              "      fill: #1967D2;\n",
              "      height: 32px;\n",
              "      padding: 0 0 0 0;\n",
              "      width: 32px;\n",
              "    }\n",
              "\n",
              "    .colab-df-convert:hover {\n",
              "      background-color: #E2EBFA;\n",
              "      box-shadow: 0px 1px 2px rgba(60, 64, 67, 0.3), 0px 1px 3px 1px rgba(60, 64, 67, 0.15);\n",
              "      fill: #174EA6;\n",
              "    }\n",
              "\n",
              "    [theme=dark] .colab-df-convert {\n",
              "      background-color: #3B4455;\n",
              "      fill: #D2E3FC;\n",
              "    }\n",
              "\n",
              "    [theme=dark] .colab-df-convert:hover {\n",
              "      background-color: #434B5C;\n",
              "      box-shadow: 0px 1px 3px 1px rgba(0, 0, 0, 0.15);\n",
              "      filter: drop-shadow(0px 1px 2px rgba(0, 0, 0, 0.3));\n",
              "      fill: #FFFFFF;\n",
              "    }\n",
              "  </style>\n",
              "\n",
              "      <script>\n",
              "        const buttonEl =\n",
              "          document.querySelector('#df-c743b20c-cbe6-4ebd-a306-f7748faaa99d button.colab-df-convert');\n",
              "        buttonEl.style.display =\n",
              "          google.colab.kernel.accessAllowed ? 'block' : 'none';\n",
              "\n",
              "        async function convertToInteractive(key) {\n",
              "          const element = document.querySelector('#df-c743b20c-cbe6-4ebd-a306-f7748faaa99d');\n",
              "          const dataTable =\n",
              "            await google.colab.kernel.invokeFunction('convertToInteractive',\n",
              "                                                     [key], {});\n",
              "          if (!dataTable) return;\n",
              "\n",
              "          const docLinkHtml = 'Like what you see? Visit the ' +\n",
              "            '<a target=\"_blank\" href=https://colab.research.google.com/notebooks/data_table.ipynb>data table notebook</a>'\n",
              "            + ' to learn more about interactive tables.';\n",
              "          element.innerHTML = '';\n",
              "          dataTable['output_type'] = 'display_data';\n",
              "          await google.colab.output.renderOutput(dataTable, element);\n",
              "          const docLink = document.createElement('div');\n",
              "          docLink.innerHTML = docLinkHtml;\n",
              "          element.appendChild(docLink);\n",
              "        }\n",
              "      </script>\n",
              "    </div>\n",
              "  </div>\n",
              "  "
            ]
          },
          "metadata": {},
          "execution_count": 51
        }
      ]
    },
    {
      "cell_type": "code",
      "source": [
        "plt.figure(figsize=(10,8)) \n",
        "sns.heatmap(corr, \n",
        "            xticklabels=corr.columns.values, # 눈금이름\n",
        "            yticklabels=corr.columns.values,\n",
        "           cmap='summer_r', annot=True)\n",
        "plt.show()"
      ],
      "metadata": {
        "colab": {
          "base_uri": "https://localhost:8080/",
          "height": 488
        },
        "id": "amMc8Du5cjRd",
        "outputId": "51d618a8-b949-40bb-dca1-f9193024735d"
      },
      "execution_count": 52,
      "outputs": [
        {
          "output_type": "display_data",
          "data": {
            "text/plain": [
              "<Figure size 720x576 with 2 Axes>"
            ],
            "image/png": "[encoded data removed]"
          },
          "metadata": {
            "needs_background": "light"
          }
        }
      ]
    },
    {
      "cell_type": "markdown",
      "source": [
        "위를 보면, sepal length-width는 의외로 상관관계가 없어 보임<br>\n",
        "반면 petal lengh-width는 거의 양의 기울기를 갖는 상관관계를 가지며<br>\n",
        "target_species, 즉 아이리스 품종과 관계가 있는 feature는 sepal length와 petal length/width 세 가지라고 생각할 수 있음\n"
      ],
      "metadata": {
        "id": "1yzEZjE3sInH"
      }
    },
    {
      "cell_type": "markdown",
      "source": [
        "[matplotlib 그래프 그리기 - 상세](https://rfriend.tistory.com/710)"
      ],
      "metadata": {
        "id": "u0yD_7sPq4mm"
      }
    },
    {
      "cell_type": "markdown",
      "source": [
        "# 4. 성능 평가"
      ],
      "metadata": {
        "id": "a0f8VACzyt-5"
      }
    },
    {
      "cell_type": "code",
      "source": [
        "# knn\n",
        "display(df_bestk.head(1))\n",
        "print(\"_\"*100)\n",
        "print(classification_report(y_iris_kinds, y_pred, target_names=['Iris-setosa','Iris-versicolor','Iris-virginica']))"
      ],
      "metadata": {
        "id": "HphYjOhnyuIN",
        "colab": {
          "base_uri": "https://localhost:8080/",
          "height": 280
        },
        "outputId": "4e9800d2-00ca-406a-bcf5-c6111d832415"
      },
      "execution_count": 61,
      "outputs": [
        {
          "output_type": "display_data",
          "data": {
            "text/plain": [
              "    k_value  cv_accuracy\n",
              "39       40     0.827149"
            ],
            "text/html": [
              "\n",
              "  <div id=\"df-19e5e977-7389-4da5-8efc-cfa049f5df1e\">\n",
              "    <div class=\"colab-df-container\">\n",
              "      <div>\n",
              "<style scoped>\n",
              "    .dataframe tbody tr th:only-of-type {\n",
              "        vertical-align: middle;\n",
              "    }\n",
              "\n",
              "    .dataframe tbody tr th {\n",
              "        vertical-align: top;\n",
              "    }\n",
              "\n",
              "    .dataframe thead th {\n",
              "        text-align: right;\n",
              "    }\n",
              "</style>\n",
              "<table border=\"1\" class=\"dataframe\">\n",
              "  <thead>\n",
              "    <tr style=\"text-align: right;\">\n",
              "      <th></th>\n",
              "      <th>k_value</th>\n",
              "      <th>cv_accuracy</th>\n",
              "    </tr>\n",
              "  </thead>\n",
              "  <tbody>\n",
              "    <tr>\n",
              "      <th>39</th>\n",
              "      <td>40</td>\n",
              "      <td>0.827149</td>\n",
              "    </tr>\n",
              "  </tbody>\n",
              "</table>\n",
              "</div>\n",
              "      <button class=\"colab-df-convert\" onclick=\"convertToInteractive('df-19e5e977-7389-4da5-8efc-cfa049f5df1e')\"\n",
              "              title=\"Convert this dataframe to an interactive table.\"\n",
              "              style=\"display:none;\">\n",
              "        \n",
              "  <svg xmlns=\"http://www.w3.org/2000/svg\" height=\"24px\"viewBox=\"0 0 24 24\"\n",
              "       width=\"24px\">\n",
              "    <path d=\"M0 0h24v24H0V0z\" fill=\"none\"/>\n",
              "    <path d=\"M18.56 5.44l.94 2.06.94-2.06 2.06-.94-2.06-.94-.94-2.06-.94 2.06-2.06.94zm-11 1L8.5 8.5l.94-2.06 2.06-.94-2.06-.94L8.5 2.5l-.94 2.06-2.06.94zm10 10l.94 2.06.94-2.06 2.06-.94-2.06-.94-.94-2.06-.94 2.06-2.06.94z\"/><path d=\"M17.41 7.96l-1.37-1.37c-.4-.4-.92-.59-1.43-.59-.52 0-1.04.2-1.43.59L10.3 9.45l-7.72 7.72c-.78.78-.78 2.05 0 2.83L4 21.41c.39.39.9.59 1.41.59.51 0 1.02-.2 1.41-.59l7.78-7.78 2.81-2.81c.8-.78.8-2.07 0-2.86zM5.41 20L4 18.59l7.72-7.72 1.47 1.35L5.41 20z\"/>\n",
              "  </svg>\n",
              "      </button>\n",
              "      \n",
              "  <style>\n",
              "    .colab-df-container {\n",
              "      display:flex;\n",
              "      flex-wrap:wrap;\n",
              "      gap: 12px;\n",
              "    }\n",
              "\n",
              "    .colab-df-convert {\n",
              "      background-color: #E8F0FE;\n",
              "      border: none;\n",
              "      border-radius: 50%;\n",
              "      cursor: pointer;\n",
              "      display: none;\n",
              "      fill: #1967D2;\n",
              "      height: 32px;\n",
              "      padding: 0 0 0 0;\n",
              "      width: 32px;\n",
              "    }\n",
              "\n",
              "    .colab-df-convert:hover {\n",
              "      background-color: #E2EBFA;\n",
              "      box-shadow: 0px 1px 2px rgba(60, 64, 67, 0.3), 0px 1px 3px 1px rgba(60, 64, 67, 0.15);\n",
              "      fill: #174EA6;\n",
              "    }\n",
              "\n",
              "    [theme=dark] .colab-df-convert {\n",
              "      background-color: #3B4455;\n",
              "      fill: #D2E3FC;\n",
              "    }\n",
              "\n",
              "    [theme=dark] .colab-df-convert:hover {\n",
              "      background-color: #434B5C;\n",
              "      box-shadow: 0px 1px 3px 1px rgba(0, 0, 0, 0.15);\n",
              "      filter: drop-shadow(0px 1px 2px rgba(0, 0, 0, 0.3));\n",
              "      fill: #FFFFFF;\n",
              "    }\n",
              "  </style>\n",
              "\n",
              "      <script>\n",
              "        const buttonEl =\n",
              "          document.querySelector('#df-19e5e977-7389-4da5-8efc-cfa049f5df1e button.colab-df-convert');\n",
              "        buttonEl.style.display =\n",
              "          google.colab.kernel.accessAllowed ? 'block' : 'none';\n",
              "\n",
              "        async function convertToInteractive(key) {\n",
              "          const element = document.querySelector('#df-19e5e977-7389-4da5-8efc-cfa049f5df1e');\n",
              "          const dataTable =\n",
              "            await google.colab.kernel.invokeFunction('convertToInteractive',\n",
              "                                                     [key], {});\n",
              "          if (!dataTable) return;\n",
              "\n",
              "          const docLinkHtml = 'Like what you see? Visit the ' +\n",
              "            '<a target=\"_blank\" href=https://colab.research.google.com/notebooks/data_table.ipynb>data table notebook</a>'\n",
              "            + ' to learn more about interactive tables.';\n",
              "          element.innerHTML = '';\n",
              "          dataTable['output_type'] = 'display_data';\n",
              "          await google.colab.output.renderOutput(dataTable, element);\n",
              "          const docLink = document.createElement('div');\n",
              "          docLink.innerHTML = docLinkHtml;\n",
              "          element.appendChild(docLink);\n",
              "        }\n",
              "      </script>\n",
              "    </div>\n",
              "  </div>\n",
              "  "
            ]
          },
          "metadata": {}
        },
        {
          "output_type": "stream",
          "name": "stdout",
          "text": [
            "____________________________________________________________________________________________________\n",
            "                 precision    recall  f1-score   support\n",
            "\n",
            "    Iris-setosa       1.00      0.98      0.99        50\n",
            "Iris-versicolor       0.77      0.74      0.76        50\n",
            " Iris-virginica       0.75      0.80      0.78        50\n",
            "\n",
            "       accuracy                           0.84       150\n",
            "      macro avg       0.84      0.84      0.84       150\n",
            "   weighted avg       0.84      0.84      0.84       150\n",
            "\n"
          ]
        }
      ]
    },
    {
      "cell_type": "markdown",
      "source": [
        "# 5. 이번 필사 과정에서 배운 점, 한계점과 향후 보완점\n",
        "    1. 배운 점 : Scikit-learn built-in 데이터의 특성 (csv 파일로 저장되어 있지만, 실제로는 dictionary 형식과 비슷한 Bunch 구조를 가짐) \n",
        "        - sklearn 모듈을 이용하여 데이터 불러오기\n",
        "        - NumPy.arrays 데이터 가지고 분석하기 (처음으로 차원 등을 고려해 봄)\n",
        "        - 속도, 메모리 관점에서 리스트 대신 튜플을 써 봄\n",
        "        - matplotlib을 이용해서 원하는 대로 그래프 그려보기\n",
        "    \n",
        "    2. 한계점 및 향후 보완점\n",
        "        - iris 데이터 feature가 모두 수치형에, 컬럼 수가 많지 않아 다각도로 분석해 볼 여지가 많지는 않았던 듯\n",
        "        - 이 노트북은 개인적으로 시각화 위주, \n",
        "        모델에 따른 성능 평가 및 해석 부분이 충분히 설명되지 않은 느낌이 듦\n",
        "            -> 보완점 \n",
        "                (1) Knn과 선형회귀 알고리즘 이론 추가 공부\n",
        "                (2) 성능 평가 및 개선 관련해서 추가 분석해보기"
      ],
      "metadata": {
        "id": "irdb9vaCyuSS"
      }
    },
    {
      "cell_type": "code",
      "source": [
        ""
      ],
      "metadata": {
        "id": "fc-7UE1nNHla"
      },
      "execution_count": null,
      "outputs": []
    },
    {
      "cell_type": "code",
      "source": [
        ""
      ],
      "metadata": {
        "id": "Pz9EgGj4NHqf"
      },
      "execution_count": null,
      "outputs": []
    },
    {
      "cell_type": "code",
      "source": [
        ""
      ],
      "metadata": {
        "id": "Z13oN42eNHvE"
      },
      "execution_count": null,
      "outputs": []
    },
    {
      "cell_type": "code",
      "source": [
        ""
      ],
      "metadata": {
        "id": "MdnSdLyONHy3"
      },
      "execution_count": null,
      "outputs": []
    }
  ]
}