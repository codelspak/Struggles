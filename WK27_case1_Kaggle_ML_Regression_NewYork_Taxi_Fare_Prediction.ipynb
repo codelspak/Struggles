{
  "nbformat": 4,
  "nbformat_minor": 0,
  "metadata": {
    "colab": {
      "name": "WK27_case1_Kaggle_ML_Regression_NewYork Taxi Fare Prediction",
      "provenance": [],
      "collapsed_sections": [],
      "include_colab_link": true
    },
    "kernelspec": {
      "name": "python3",
      "display_name": "Python 3"
    },
    "language_info": {
      "name": "python"
    }
  },
  "cells": [
    {
      "cell_type": "markdown",
      "metadata": {
        "id": "view-in-github",
        "colab_type": "text"
      },
      "source": [
        "<a href=\"https://colab.research.google.com/github/codelspak/Struggles/blob/main/WK27_case1_Kaggle_ML_Regression_NewYork_Taxi_Fare_Prediction.ipynb\" target=\"_parent\"><img src=\"https://colab.research.google.com/assets/colab-badge.svg\" alt=\"Open In Colab\"/></a>"
      ]
    },
    {
      "cell_type": "markdown",
      "source": [
        "# NewYork Taxi Fare Prediction 필사 프로젝트 #3 뉴욕 시내 탑승/하차지에 따른 택시 요금(톨게이트 비 포함) 예측\n",
        "[Kaggle 노트북 출처](https://www.kaggle.com/code/madhurisivalenka/cleansing-eda-modelling-lgbm-xgboost-starters)"
      ],
      "metadata": {
        "id": "9wv3pGTIo8fl"
      }
    },
    {
      "cell_type": "markdown",
      "source": [
        "    1) ID - 각 샘플이 갖는 고유 Key (pickup_datetime + a unique integer)\n",
        "        * Cross-validation에서 submission file 시뮬레이션 할 때 쓰이므로, 삭제X\n",
        "    2) Features \n",
        "        - pickup_datetime -  승차시간\n",
        "        - pickup_longitude - 승차지 위도\n",
        "        - pickup_latitude - 승차지 경도\n",
        "        - dropoff_longitude - 하차지 위도\n",
        "        - dropoff_latitude - 하차지 경도\n",
        "        - passenger_count - 택시 승객 수\n",
        "    3) Target\n",
        "        - fare_amount - 택시 요금($USD)\n"
      ],
      "metadata": {
        "id": "ArWE65x58_zr"
      }
    },
    {
      "cell_type": "markdown",
      "source": [
        "# 1. 필요한 라이브러리 및 데이터 불러오기"
      ],
      "metadata": {
        "id": "cjj2-AB7rJ-e"
      }
    },
    {
      "cell_type": "code",
      "source": [
        "import numpy as np # 선형대수\n",
        "import pandas as pd\n",
        "import seaborn as sns\n",
        "import matplotlib.pyplot as plt\n",
        "\n",
        "import sklearn\n",
        "\n",
        "import os"
      ],
      "metadata": {
        "id": "pkNvf635rKI4"
      },
      "execution_count": 1,
      "outputs": []
    },
    {
      "cell_type": "code",
      "source": [
        "# chunksize = 10**3\n",
        "# for cnt, chunk in enumerate(pd.read_csv('/content/drive/MyDrive/2. Kaggle Struggle/WK27_뉴욕택시가격예측_신용카드사기적발/new-york-city-taxi-fare-prediction/train.csv', chunksize = chunksize)) :\n",
        "#     do_something(chunk)"
      ],
      "metadata": {
        "id": "lvjzKB0fQhzM"
      },
      "execution_count": 2,
      "outputs": []
    },
    {
      "cell_type": "code",
      "source": [
        "from google.colab import drive\n",
        "drive.mount('/content/drive')"
      ],
      "metadata": {
        "colab": {
          "base_uri": "https://localhost:8080/"
        },
        "id": "nJJUkol1XOnq",
        "outputId": "a88ba227-34ff-44ff-ca5a-582f4c557fe7"
      },
      "execution_count": 3,
      "outputs": [
        {
          "output_type": "stream",
          "name": "stdout",
          "text": [
            "Drive already mounted at /content/drive; to attempt to forcibly remount, call drive.mount(\"/content/drive\", force_remount=True).\n"
          ]
        }
      ]
    },
    {
      "cell_type": "code",
      "source": [
        "train1 = pd.read_csv('/content/drive/MyDrive/2. Kaggle Struggle/WK27_뉴욕택시가격예측_신용카드사기적발/train1.csv')\n",
        "train2 = pd.read_csv('/content/drive/MyDrive/2. Kaggle Struggle/WK27_뉴욕택시가격예측_신용카드사기적발/train2.csv')\n"
      ],
      "metadata": {
        "id": "Wmrpp8mGrKLc",
        "colab": {
          "base_uri": "https://localhost:8080/"
        },
        "outputId": "4c4f93b6-5d0f-4cac-d770-8adb81fd0850"
      },
      "execution_count": 4,
      "outputs": [
        {
          "output_type": "stream",
          "name": "stderr",
          "text": [
            "/usr/local/lib/python3.7/dist-packages/IPython/core/interactiveshell.py:2882: DtypeWarning: Columns (0,2) have mixed types.Specify dtype option on import or set low_memory=False.\n",
            "  exec(code_obj, self.user_global_ns, self.user_ns)\n"
          ]
        }
      ]
    },
    {
      "cell_type": "code",
      "source": [
        "train = pd.concat([train1, train2])\n",
        "test = pd.read_csv('/content/drive/MyDrive/2. Kaggle Struggle/WK27_뉴욕택시가격예측_신용카드사기적발/new-york-city-taxi-fare-prediction/test.csv')"
      ],
      "metadata": {
        "id": "pN_wE7WtY3lV"
      },
      "execution_count": 5,
      "outputs": []
    },
    {
      "cell_type": "markdown",
      "source": [
        "# 2. Data Cleansing / EDA\n",
        "    - train/test dataset shape 확인\n",
        "    - 결측치 확인 후 drop (if any)\n",
        "    - 이상치 확인 후 drop (if any)\n",
        "    - Type conversion of relevant fields"
      ],
      "metadata": {
        "id": "y9PQc75DrKPj"
      }
    },
    {
      "cell_type": "markdown",
      "source": [
        "### 2.1. train/test dataset shape 확인"
      ],
      "metadata": {
        "id": "VZsZZwQTMlS9"
      }
    },
    {
      "cell_type": "code",
      "source": [
        "train.duplicated()"
      ],
      "metadata": {
        "colab": {
          "base_uri": "https://localhost:8080/"
        },
        "id": "o8agZfD1ZHd9",
        "outputId": "412fb379-6f77-40b7-a15c-d611276e4461"
      },
      "execution_count": 6,
      "outputs": [
        {
          "output_type": "execute_result",
          "data": {
            "text/plain": [
              "0         False\n",
              "1         False\n",
              "2         False\n",
              "3         False\n",
              "4         False\n",
              "          ...  \n",
              "483473    False\n",
              "483474    False\n",
              "483475    False\n",
              "483476    False\n",
              "483477    False\n",
              "Length: 1532053, dtype: bool"
            ]
          },
          "metadata": {},
          "execution_count": 6
        }
      ]
    },
    {
      "cell_type": "code",
      "source": [
        "train = train.drop_duplicates()"
      ],
      "metadata": {
        "id": "k1mJ3vRVZnfJ"
      },
      "execution_count": 7,
      "outputs": []
    },
    {
      "cell_type": "code",
      "source": [
        "print(train.shape)\n",
        "train.head()"
      ],
      "metadata": {
        "id": "pDN9RKigKjsP",
        "colab": {
          "base_uri": "https://localhost:8080/",
          "height": 224
        },
        "outputId": "b93f56ef-f02a-419f-b8eb-3048df28c62a"
      },
      "execution_count": 8,
      "outputs": [
        {
          "output_type": "stream",
          "name": "stdout",
          "text": [
            "(1048576, 8)\n"
          ]
        },
        {
          "output_type": "execute_result",
          "data": {
            "text/plain": [
              "       key  fare_amount          pickup_datetime  pickup_longitude  \\\n",
              "0  26:21.0          4.5  2009-06-15 17:26:21 UTC        -73.844311   \n",
              "1  52:16.0         16.9  2010-01-05 16:52:16 UTC        -74.016048   \n",
              "2  35:00.0          5.7  2011-08-18 00:35:00 UTC        -73.982738   \n",
              "3  30:42.0          7.7  2012-04-21 04:30:42 UTC        -73.987130   \n",
              "4  51:00.0          5.3  2010-03-09 07:51:00 UTC        -73.968095   \n",
              "\n",
              "   pickup_latitude  dropoff_longitude  dropoff_latitude  passenger_count  \n",
              "0        40.721319         -73.841610         40.712278              1.0  \n",
              "1        40.711303         -73.979268         40.782004              1.0  \n",
              "2        40.761270         -73.991242         40.750562              2.0  \n",
              "3        40.733143         -73.991567         40.758092              1.0  \n",
              "4        40.768008         -73.956655         40.783762              1.0  "
            ],
            "text/html": [
              "\n",
              "  <div id=\"df-a37101e3-8068-422e-befb-80e76323583c\">\n",
              "    <div class=\"colab-df-container\">\n",
              "      <div>\n",
              "<style scoped>\n",
              "    .dataframe tbody tr th:only-of-type {\n",
              "        vertical-align: middle;\n",
              "    }\n",
              "\n",
              "    .dataframe tbody tr th {\n",
              "        vertical-align: top;\n",
              "    }\n",
              "\n",
              "    .dataframe thead th {\n",
              "        text-align: right;\n",
              "    }\n",
              "</style>\n",
              "<table border=\"1\" class=\"dataframe\">\n",
              "  <thead>\n",
              "    <tr style=\"text-align: right;\">\n",
              "      <th></th>\n",
              "      <th>key</th>\n",
              "      <th>fare_amount</th>\n",
              "      <th>pickup_datetime</th>\n",
              "      <th>pickup_longitude</th>\n",
              "      <th>pickup_latitude</th>\n",
              "      <th>dropoff_longitude</th>\n",
              "      <th>dropoff_latitude</th>\n",
              "      <th>passenger_count</th>\n",
              "    </tr>\n",
              "  </thead>\n",
              "  <tbody>\n",
              "    <tr>\n",
              "      <th>0</th>\n",
              "      <td>26:21.0</td>\n",
              "      <td>4.5</td>\n",
              "      <td>2009-06-15 17:26:21 UTC</td>\n",
              "      <td>-73.844311</td>\n",
              "      <td>40.721319</td>\n",
              "      <td>-73.841610</td>\n",
              "      <td>40.712278</td>\n",
              "      <td>1.0</td>\n",
              "    </tr>\n",
              "    <tr>\n",
              "      <th>1</th>\n",
              "      <td>52:16.0</td>\n",
              "      <td>16.9</td>\n",
              "      <td>2010-01-05 16:52:16 UTC</td>\n",
              "      <td>-74.016048</td>\n",
              "      <td>40.711303</td>\n",
              "      <td>-73.979268</td>\n",
              "      <td>40.782004</td>\n",
              "      <td>1.0</td>\n",
              "    </tr>\n",
              "    <tr>\n",
              "      <th>2</th>\n",
              "      <td>35:00.0</td>\n",
              "      <td>5.7</td>\n",
              "      <td>2011-08-18 00:35:00 UTC</td>\n",
              "      <td>-73.982738</td>\n",
              "      <td>40.761270</td>\n",
              "      <td>-73.991242</td>\n",
              "      <td>40.750562</td>\n",
              "      <td>2.0</td>\n",
              "    </tr>\n",
              "    <tr>\n",
              "      <th>3</th>\n",
              "      <td>30:42.0</td>\n",
              "      <td>7.7</td>\n",
              "      <td>2012-04-21 04:30:42 UTC</td>\n",
              "      <td>-73.987130</td>\n",
              "      <td>40.733143</td>\n",
              "      <td>-73.991567</td>\n",
              "      <td>40.758092</td>\n",
              "      <td>1.0</td>\n",
              "    </tr>\n",
              "    <tr>\n",
              "      <th>4</th>\n",
              "      <td>51:00.0</td>\n",
              "      <td>5.3</td>\n",
              "      <td>2010-03-09 07:51:00 UTC</td>\n",
              "      <td>-73.968095</td>\n",
              "      <td>40.768008</td>\n",
              "      <td>-73.956655</td>\n",
              "      <td>40.783762</td>\n",
              "      <td>1.0</td>\n",
              "    </tr>\n",
              "  </tbody>\n",
              "</table>\n",
              "</div>\n",
              "      <button class=\"colab-df-convert\" onclick=\"convertToInteractive('df-a37101e3-8068-422e-befb-80e76323583c')\"\n",
              "              title=\"Convert this dataframe to an interactive table.\"\n",
              "              style=\"display:none;\">\n",
              "        \n",
              "  <svg xmlns=\"http://www.w3.org/2000/svg\" height=\"24px\"viewBox=\"0 0 24 24\"\n",
              "       width=\"24px\">\n",
              "    <path d=\"M0 0h24v24H0V0z\" fill=\"none\"/>\n",
              "    <path d=\"M18.56 5.44l.94 2.06.94-2.06 2.06-.94-2.06-.94-.94-2.06-.94 2.06-2.06.94zm-11 1L8.5 8.5l.94-2.06 2.06-.94-2.06-.94L8.5 2.5l-.94 2.06-2.06.94zm10 10l.94 2.06.94-2.06 2.06-.94-2.06-.94-.94-2.06-.94 2.06-2.06.94z\"/><path d=\"M17.41 7.96l-1.37-1.37c-.4-.4-.92-.59-1.43-.59-.52 0-1.04.2-1.43.59L10.3 9.45l-7.72 7.72c-.78.78-.78 2.05 0 2.83L4 21.41c.39.39.9.59 1.41.59.51 0 1.02-.2 1.41-.59l7.78-7.78 2.81-2.81c.8-.78.8-2.07 0-2.86zM5.41 20L4 18.59l7.72-7.72 1.47 1.35L5.41 20z\"/>\n",
              "  </svg>\n",
              "      </button>\n",
              "      \n",
              "  <style>\n",
              "    .colab-df-container {\n",
              "      display:flex;\n",
              "      flex-wrap:wrap;\n",
              "      gap: 12px;\n",
              "    }\n",
              "\n",
              "    .colab-df-convert {\n",
              "      background-color: #E8F0FE;\n",
              "      border: none;\n",
              "      border-radius: 50%;\n",
              "      cursor: pointer;\n",
              "      display: none;\n",
              "      fill: #1967D2;\n",
              "      height: 32px;\n",
              "      padding: 0 0 0 0;\n",
              "      width: 32px;\n",
              "    }\n",
              "\n",
              "    .colab-df-convert:hover {\n",
              "      background-color: #E2EBFA;\n",
              "      box-shadow: 0px 1px 2px rgba(60, 64, 67, 0.3), 0px 1px 3px 1px rgba(60, 64, 67, 0.15);\n",
              "      fill: #174EA6;\n",
              "    }\n",
              "\n",
              "    [theme=dark] .colab-df-convert {\n",
              "      background-color: #3B4455;\n",
              "      fill: #D2E3FC;\n",
              "    }\n",
              "\n",
              "    [theme=dark] .colab-df-convert:hover {\n",
              "      background-color: #434B5C;\n",
              "      box-shadow: 0px 1px 3px 1px rgba(0, 0, 0, 0.15);\n",
              "      filter: drop-shadow(0px 1px 2px rgba(0, 0, 0, 0.3));\n",
              "      fill: #FFFFFF;\n",
              "    }\n",
              "  </style>\n",
              "\n",
              "      <script>\n",
              "        const buttonEl =\n",
              "          document.querySelector('#df-a37101e3-8068-422e-befb-80e76323583c button.colab-df-convert');\n",
              "        buttonEl.style.display =\n",
              "          google.colab.kernel.accessAllowed ? 'block' : 'none';\n",
              "\n",
              "        async function convertToInteractive(key) {\n",
              "          const element = document.querySelector('#df-a37101e3-8068-422e-befb-80e76323583c');\n",
              "          const dataTable =\n",
              "            await google.colab.kernel.invokeFunction('convertToInteractive',\n",
              "                                                     [key], {});\n",
              "          if (!dataTable) return;\n",
              "\n",
              "          const docLinkHtml = 'Like what you see? Visit the ' +\n",
              "            '<a target=\"_blank\" href=https://colab.research.google.com/notebooks/data_table.ipynb>data table notebook</a>'\n",
              "            + ' to learn more about interactive tables.';\n",
              "          element.innerHTML = '';\n",
              "          dataTable['output_type'] = 'display_data';\n",
              "          await google.colab.output.renderOutput(dataTable, element);\n",
              "          const docLink = document.createElement('div');\n",
              "          docLink.innerHTML = docLinkHtml;\n",
              "          element.appendChild(docLink);\n",
              "        }\n",
              "      </script>\n",
              "    </div>\n",
              "  </div>\n",
              "  "
            ]
          },
          "metadata": {},
          "execution_count": 8
        }
      ]
    },
    {
      "cell_type": "code",
      "source": [
        "pd.options.display.float_format = '{:.5f}'.format\n",
        "# 다시 과학적 표기법으로 나타내고 싶을 땐 :   pd.reset_option('display.float_format')\n",
        "train.describe()"
      ],
      "metadata": {
        "colab": {
          "base_uri": "https://localhost:8080/",
          "height": 300
        },
        "id": "hnbtv1g1aHsM",
        "outputId": "246e6221-70a7-4cb9-e269-1b08fce6279c"
      },
      "execution_count": 9,
      "outputs": [
        {
          "output_type": "execute_result",
          "data": {
            "text/plain": [
              "        fare_amount  pickup_longitude  pickup_latitude  dropoff_longitude  \\\n",
              "count 1048575.00000     1048575.00000    1048575.00000      1048565.00000   \n",
              "mean       11.34548         -72.52724         39.93094          -72.52750   \n",
              "std         9.82007          12.00798          7.72581           11.41154   \n",
              "min       -44.90000       -3377.68093      -3116.28538        -3383.29661   \n",
              "25%         6.00000         -73.99207         40.73496          -73.99138   \n",
              "50%         8.50000         -73.98180         40.75267          -73.98014   \n",
              "75%        12.50000         -73.96711         40.76714          -73.96367   \n",
              "max       500.00000        2522.27133       2621.62843         1717.00340   \n",
              "\n",
              "       dropoff_latitude  passenger_count  \n",
              "count     1048565.00000    1048575.00000  \n",
              "mean           39.92496          1.68490  \n",
              "std             8.52959          1.32315  \n",
              "min         -3114.33857          0.00000  \n",
              "25%            40.73406          1.00000  \n",
              "50%            40.75318          1.00000  \n",
              "75%            40.76812          2.00000  \n",
              "max          1989.72808        208.00000  "
            ],
            "text/html": [
              "\n",
              "  <div id=\"df-3b8cc1e5-15bc-4075-8f07-02c8249f3b2f\">\n",
              "    <div class=\"colab-df-container\">\n",
              "      <div>\n",
              "<style scoped>\n",
              "    .dataframe tbody tr th:only-of-type {\n",
              "        vertical-align: middle;\n",
              "    }\n",
              "\n",
              "    .dataframe tbody tr th {\n",
              "        vertical-align: top;\n",
              "    }\n",
              "\n",
              "    .dataframe thead th {\n",
              "        text-align: right;\n",
              "    }\n",
              "</style>\n",
              "<table border=\"1\" class=\"dataframe\">\n",
              "  <thead>\n",
              "    <tr style=\"text-align: right;\">\n",
              "      <th></th>\n",
              "      <th>fare_amount</th>\n",
              "      <th>pickup_longitude</th>\n",
              "      <th>pickup_latitude</th>\n",
              "      <th>dropoff_longitude</th>\n",
              "      <th>dropoff_latitude</th>\n",
              "      <th>passenger_count</th>\n",
              "    </tr>\n",
              "  </thead>\n",
              "  <tbody>\n",
              "    <tr>\n",
              "      <th>count</th>\n",
              "      <td>1048575.00000</td>\n",
              "      <td>1048575.00000</td>\n",
              "      <td>1048575.00000</td>\n",
              "      <td>1048565.00000</td>\n",
              "      <td>1048565.00000</td>\n",
              "      <td>1048575.00000</td>\n",
              "    </tr>\n",
              "    <tr>\n",
              "      <th>mean</th>\n",
              "      <td>11.34548</td>\n",
              "      <td>-72.52724</td>\n",
              "      <td>39.93094</td>\n",
              "      <td>-72.52750</td>\n",
              "      <td>39.92496</td>\n",
              "      <td>1.68490</td>\n",
              "    </tr>\n",
              "    <tr>\n",
              "      <th>std</th>\n",
              "      <td>9.82007</td>\n",
              "      <td>12.00798</td>\n",
              "      <td>7.72581</td>\n",
              "      <td>11.41154</td>\n",
              "      <td>8.52959</td>\n",
              "      <td>1.32315</td>\n",
              "    </tr>\n",
              "    <tr>\n",
              "      <th>min</th>\n",
              "      <td>-44.90000</td>\n",
              "      <td>-3377.68093</td>\n",
              "      <td>-3116.28538</td>\n",
              "      <td>-3383.29661</td>\n",
              "      <td>-3114.33857</td>\n",
              "      <td>0.00000</td>\n",
              "    </tr>\n",
              "    <tr>\n",
              "      <th>25%</th>\n",
              "      <td>6.00000</td>\n",
              "      <td>-73.99207</td>\n",
              "      <td>40.73496</td>\n",
              "      <td>-73.99138</td>\n",
              "      <td>40.73406</td>\n",
              "      <td>1.00000</td>\n",
              "    </tr>\n",
              "    <tr>\n",
              "      <th>50%</th>\n",
              "      <td>8.50000</td>\n",
              "      <td>-73.98180</td>\n",
              "      <td>40.75267</td>\n",
              "      <td>-73.98014</td>\n",
              "      <td>40.75318</td>\n",
              "      <td>1.00000</td>\n",
              "    </tr>\n",
              "    <tr>\n",
              "      <th>75%</th>\n",
              "      <td>12.50000</td>\n",
              "      <td>-73.96711</td>\n",
              "      <td>40.76714</td>\n",
              "      <td>-73.96367</td>\n",
              "      <td>40.76812</td>\n",
              "      <td>2.00000</td>\n",
              "    </tr>\n",
              "    <tr>\n",
              "      <th>max</th>\n",
              "      <td>500.00000</td>\n",
              "      <td>2522.27133</td>\n",
              "      <td>2621.62843</td>\n",
              "      <td>1717.00340</td>\n",
              "      <td>1989.72808</td>\n",
              "      <td>208.00000</td>\n",
              "    </tr>\n",
              "  </tbody>\n",
              "</table>\n",
              "</div>\n",
              "      <button class=\"colab-df-convert\" onclick=\"convertToInteractive('df-3b8cc1e5-15bc-4075-8f07-02c8249f3b2f')\"\n",
              "              title=\"Convert this dataframe to an interactive table.\"\n",
              "              style=\"display:none;\">\n",
              "        \n",
              "  <svg xmlns=\"http://www.w3.org/2000/svg\" height=\"24px\"viewBox=\"0 0 24 24\"\n",
              "       width=\"24px\">\n",
              "    <path d=\"M0 0h24v24H0V0z\" fill=\"none\"/>\n",
              "    <path d=\"M18.56 5.44l.94 2.06.94-2.06 2.06-.94-2.06-.94-.94-2.06-.94 2.06-2.06.94zm-11 1L8.5 8.5l.94-2.06 2.06-.94-2.06-.94L8.5 2.5l-.94 2.06-2.06.94zm10 10l.94 2.06.94-2.06 2.06-.94-2.06-.94-.94-2.06-.94 2.06-2.06.94z\"/><path d=\"M17.41 7.96l-1.37-1.37c-.4-.4-.92-.59-1.43-.59-.52 0-1.04.2-1.43.59L10.3 9.45l-7.72 7.72c-.78.78-.78 2.05 0 2.83L4 21.41c.39.39.9.59 1.41.59.51 0 1.02-.2 1.41-.59l7.78-7.78 2.81-2.81c.8-.78.8-2.07 0-2.86zM5.41 20L4 18.59l7.72-7.72 1.47 1.35L5.41 20z\"/>\n",
              "  </svg>\n",
              "      </button>\n",
              "      \n",
              "  <style>\n",
              "    .colab-df-container {\n",
              "      display:flex;\n",
              "      flex-wrap:wrap;\n",
              "      gap: 12px;\n",
              "    }\n",
              "\n",
              "    .colab-df-convert {\n",
              "      background-color: #E8F0FE;\n",
              "      border: none;\n",
              "      border-radius: 50%;\n",
              "      cursor: pointer;\n",
              "      display: none;\n",
              "      fill: #1967D2;\n",
              "      height: 32px;\n",
              "      padding: 0 0 0 0;\n",
              "      width: 32px;\n",
              "    }\n",
              "\n",
              "    .colab-df-convert:hover {\n",
              "      background-color: #E2EBFA;\n",
              "      box-shadow: 0px 1px 2px rgba(60, 64, 67, 0.3), 0px 1px 3px 1px rgba(60, 64, 67, 0.15);\n",
              "      fill: #174EA6;\n",
              "    }\n",
              "\n",
              "    [theme=dark] .colab-df-convert {\n",
              "      background-color: #3B4455;\n",
              "      fill: #D2E3FC;\n",
              "    }\n",
              "\n",
              "    [theme=dark] .colab-df-convert:hover {\n",
              "      background-color: #434B5C;\n",
              "      box-shadow: 0px 1px 3px 1px rgba(0, 0, 0, 0.15);\n",
              "      filter: drop-shadow(0px 1px 2px rgba(0, 0, 0, 0.3));\n",
              "      fill: #FFFFFF;\n",
              "    }\n",
              "  </style>\n",
              "\n",
              "      <script>\n",
              "        const buttonEl =\n",
              "          document.querySelector('#df-3b8cc1e5-15bc-4075-8f07-02c8249f3b2f button.colab-df-convert');\n",
              "        buttonEl.style.display =\n",
              "          google.colab.kernel.accessAllowed ? 'block' : 'none';\n",
              "\n",
              "        async function convertToInteractive(key) {\n",
              "          const element = document.querySelector('#df-3b8cc1e5-15bc-4075-8f07-02c8249f3b2f');\n",
              "          const dataTable =\n",
              "            await google.colab.kernel.invokeFunction('convertToInteractive',\n",
              "                                                     [key], {});\n",
              "          if (!dataTable) return;\n",
              "\n",
              "          const docLinkHtml = 'Like what you see? Visit the ' +\n",
              "            '<a target=\"_blank\" href=https://colab.research.google.com/notebooks/data_table.ipynb>data table notebook</a>'\n",
              "            + ' to learn more about interactive tables.';\n",
              "          element.innerHTML = '';\n",
              "          dataTable['output_type'] = 'display_data';\n",
              "          await google.colab.output.renderOutput(dataTable, element);\n",
              "          const docLink = document.createElement('div');\n",
              "          docLink.innerHTML = docLinkHtml;\n",
              "          element.appendChild(docLink);\n",
              "        }\n",
              "      </script>\n",
              "    </div>\n",
              "  </div>\n",
              "  "
            ]
          },
          "metadata": {},
          "execution_count": 9
        }
      ]
    },
    {
      "cell_type": "markdown",
      "source": [
        "위의 기술통계 값을 보았을 때, 탐색적 데이터 분석 및 전처리가 필요한 포인트를 도출 가능함<br>\n",
        "1. fare_amount : 택시요금은 음수가 존재할 수 없음 / 3사분위 이후 값 편차가 너무 큼\n",
        "2. pickup_longtitude / pickup_latitude / dropoff_longtitude / dropoff_latitude : <br> 얘 역시 뉴욕시 위도/경도의 범위에서 벗어난 값이 있으면 처리해줘야 함 <br>\n",
        "    - Latitudes : (-90, 90)\n",
        "    - Longitudes : (-180, 180)\n",
        "3. passenger_count : 버스 등을 감안해도 최대 탑승 가능 승객 수는 50여 명 예상<br> max값 208명에 주의해서 분포 확인\n"
      ],
      "metadata": {
        "id": "d1lKLWfbaGyh"
      }
    },
    {
      "cell_type": "markdown",
      "source": [
        "### 2.2 데이터 cleansing"
      ],
      "metadata": {
        "id": "oQs69Y-8eAnJ"
      }
    },
    {
      "cell_type": "markdown",
      "source": [
        "#### 결측치 확인 후 drop (if any)"
      ],
      "metadata": {
        "id": "KC3LOplvKjzZ"
      }
    },
    {
      "cell_type": "code",
      "source": [
        "# train \n",
        "train.isnull().sum().sort_values(ascending = False)"
      ],
      "metadata": {
        "id": "-zKYgCO-Kj3R",
        "colab": {
          "base_uri": "https://localhost:8080/"
        },
        "outputId": "369b762b-bba7-47a6-f345-9cd325ac7079"
      },
      "execution_count": 10,
      "outputs": [
        {
          "output_type": "execute_result",
          "data": {
            "text/plain": [
              "dropoff_longitude    11\n",
              "dropoff_latitude     11\n",
              "key                   1\n",
              "fare_amount           1\n",
              "pickup_datetime       1\n",
              "pickup_longitude      1\n",
              "pickup_latitude       1\n",
              "passenger_count       1\n",
              "dtype: int64"
            ]
          },
          "metadata": {},
          "execution_count": 10
        }
      ]
    },
    {
      "cell_type": "code",
      "source": [
        "# train - null - drop\n",
        "train = train.drop(train[train.isnull().any(1)].index, axis = 0)\n",
        "train.shape"
      ],
      "metadata": {
        "id": "8sl_7pw1M2xu",
        "colab": {
          "base_uri": "https://localhost:8080/"
        },
        "outputId": "c965941b-6624-4b34-e9b1-ad4f5253b49c"
      },
      "execution_count": 11,
      "outputs": [
        {
          "output_type": "execute_result",
          "data": {
            "text/plain": [
              "(1048556, 8)"
            ]
          },
          "metadata": {},
          "execution_count": 11
        }
      ]
    },
    {
      "cell_type": "markdown",
      "source": [
        "#### 이상치 확인 후 drop (if any)\n",
        "이상치는 데이터가 분포한 주요 구간 외에 위치한 것 외에 feature 정의 상 존재할 수 없는 값도 포함됨 <br>\n"
      ],
      "metadata": {
        "id": "Q3qed9V3KkCi"
      }
    },
    {
      "cell_type": "markdown",
      "source": [
        "##### fare_amount"
      ],
      "metadata": {
        "id": "VHnClY48hjDP"
      }
    },
    {
      "cell_type": "code",
      "source": [
        "train['fare_amount'].describe()"
      ],
      "metadata": {
        "colab": {
          "base_uri": "https://localhost:8080/"
        },
        "id": "Z5bnnZHHeeQp",
        "outputId": "c4c9a0e2-4727-44a8-b8a6-d37088d922ad"
      },
      "execution_count": 12,
      "outputs": [
        {
          "output_type": "execute_result",
          "data": {
            "text/plain": [
              "count   1048556.00000\n",
              "mean         11.34540\n",
              "std           9.81982\n",
              "min         -44.90000\n",
              "25%           6.00000\n",
              "50%           8.50000\n",
              "75%          12.50000\n",
              "max         500.00000\n",
              "Name: fare_amount, dtype: float64"
            ]
          },
          "metadata": {},
          "execution_count": 12
        }
      ]
    },
    {
      "cell_type": "markdown",
      "source": [
        "fare_amount의 경우, (1) 음의 값과 (2) 3사분위 수 대비 과도하게 큰 값(500)을 확인 후 처리해주겠음<br>\n",
        "(참고) 아래 함수를 이용해서, 조건에 해당하는 데이터 수를 쉽게 카운트할 수 있음<br>\n",
        "[collections.Counter 함수 사용법](https://www.daleseo.com/python-collections-counter/)"
      ],
      "metadata": {
        "id": "NelOpSGGfdj5"
      }
    },
    {
      "cell_type": "code",
      "source": [
        "from collections import Counter\n",
        "\n",
        "# 택시 요금이 음의 값인 데이터 수 확인\n",
        "Counter(train['fare_amount']<0)"
      ],
      "metadata": {
        "id": "CxpmFLgkKkG0",
        "colab": {
          "base_uri": "https://localhost:8080/"
        },
        "outputId": "d53dae05-40f6-4380-b809-056f5ba715d8"
      },
      "execution_count": 13,
      "outputs": [
        {
          "output_type": "execute_result",
          "data": {
            "text/plain": [
              "Counter({False: 1048516, True: 40})"
            ]
          },
          "metadata": {},
          "execution_count": 13
        }
      ]
    },
    {
      "cell_type": "code",
      "source": [
        "# 음의 값을 갖는 요금 데이터 제거 \n",
        "train = train.drop(train[train['fare_amount']<0].index, axis = 0)\n",
        "train.shape"
      ],
      "metadata": {
        "id": "6dYeeR95KkKM",
        "colab": {
          "base_uri": "https://localhost:8080/"
        },
        "outputId": "2f435c07-9fde-427c-8fd8-43ebce61dc32"
      },
      "execution_count": 14,
      "outputs": [
        {
          "output_type": "execute_result",
          "data": {
            "text/plain": [
              "(1048480, 8)"
            ]
          },
          "metadata": {},
          "execution_count": 14
        }
      ]
    },
    {
      "cell_type": "code",
      "source": [
        "train['fare_amount'].describe()"
      ],
      "metadata": {
        "colab": {
          "base_uri": "https://localhost:8080/"
        },
        "id": "2eevc-2HedE7",
        "outputId": "64e048a9-9a3e-4b71-e7a1-539eac22c70c"
      },
      "execution_count": 15,
      "outputs": [
        {
          "output_type": "execute_result",
          "data": {
            "text/plain": [
              "count   1048480.00000\n",
              "mean         11.34602\n",
              "std           9.81929\n",
              "min           0.00000\n",
              "25%           6.00000\n",
              "50%           8.50000\n",
              "75%          12.50000\n",
              "max         500.00000\n",
              "Name: fare_amount, dtype: float64"
            ]
          },
          "metadata": {},
          "execution_count": 15
        }
      ]
    },
    {
      "cell_type": "code",
      "source": [
        "# 과도하게 큰 값을 갖는 데이터 확인\n",
        "train['fare_amount'].sort_values(ascending = False).head(10)"
      ],
      "metadata": {
        "colab": {
          "base_uri": "https://localhost:8080/"
        },
        "id": "WVqUZc7dedJN",
        "outputId": "7d51ccf3-46cb-41c0-95e2-d3d87d17f90c"
      },
      "execution_count": 16,
      "outputs": [
        {
          "output_type": "execute_result",
          "data": {
            "text/plain": [
              "101885   500.00000\n",
              "247671   495.00000\n",
              "329010   450.00000\n",
              "233874   450.00000\n",
              "287638   450.00000\n",
              "361793   400.00000\n",
              "451974   400.00000\n",
              "386713   347.54000\n",
              "439178   325.00000\n",
              "13822    287.08000\n",
              "Name: fare_amount, dtype: float64"
            ]
          },
          "metadata": {},
          "execution_count": 16
        }
      ]
    },
    {
      "cell_type": "markdown",
      "source": [
        "##### pickup/droppoff longtitude/latitude\n",
        "(기준) 뉴욕 시 위도 경도 범위<br>\n",
        "    - Latitudes (-90, 90)<br>\n",
        "    - Longtitudes (-180,180)\n"
      ],
      "metadata": {
        "id": "_BE9vdezedOB"
      }
    },
    {
      "cell_type": "code",
      "source": [
        "train['pickup_latitude'].describe()"
      ],
      "metadata": {
        "colab": {
          "base_uri": "https://localhost:8080/"
        },
        "id": "u7nZ2Mvqho3C",
        "outputId": "6cc2dec0-7d29-4115-f0bd-9bbc83ba6f3d"
      },
      "execution_count": 17,
      "outputs": [
        {
          "output_type": "execute_result",
          "data": {
            "text/plain": [
              "count   1048480.00000\n",
              "mean         39.93094\n",
              "std           7.72596\n",
              "min       -3116.28538\n",
              "25%          40.73496\n",
              "50%          40.75267\n",
              "75%          40.76714\n",
              "max        2621.62843\n",
              "Name: pickup_latitude, dtype: float64"
            ]
          },
          "metadata": {},
          "execution_count": 17
        }
      ]
    },
    {
      "cell_type": "code",
      "source": [
        "# 데이터 정의에서 벗어나는 -90 미만, 90 초과 데이터 확인\n",
        "display(train[train['pickup_latitude']<-90])\n",
        "print('-'*160)\n",
        "display(train[train['pickup_latitude']>90])\n"
      ],
      "metadata": {
        "colab": {
          "base_uri": "https://localhost:8080/",
          "height": 507
        },
        "id": "v3EqGMVUi0Pc",
        "outputId": "cd89111d-5279-4f4e-c8f5-10339632548e"
      },
      "execution_count": 18,
      "outputs": [
        {
          "output_type": "display_data",
          "data": {
            "text/plain": [
              "            key  fare_amount          pickup_datetime  pickup_longitude  \\\n",
              "150559  43:00.0     25.30000  2012-08-03 07:43:00 UTC           0.00000   \n",
              "436233  56:00.0      4.10000  2012-03-11 01:56:00 UTC       -2986.24249   \n",
              "543001  53:00.0      5.30000  2011-10-28 13:53:00 UTC       -3377.68093   \n",
              "\n",
              "        pickup_latitude  dropoff_longitude  dropoff_latitude  passenger_count  \n",
              "150559      -3116.28538          -73.95360          40.78800          1.00000  \n",
              "436233       -880.62743        -3383.29661       -2559.74891          1.00000  \n",
              "543001       -113.01950         -554.91869         314.79418          1.00000  "
            ],
            "text/html": [
              "\n",
              "  <div id=\"df-475ca3e6-7a05-4de2-a9bf-6ea744e7da70\">\n",
              "    <div class=\"colab-df-container\">\n",
              "      <div>\n",
              "<style scoped>\n",
              "    .dataframe tbody tr th:only-of-type {\n",
              "        vertical-align: middle;\n",
              "    }\n",
              "\n",
              "    .dataframe tbody tr th {\n",
              "        vertical-align: top;\n",
              "    }\n",
              "\n",
              "    .dataframe thead th {\n",
              "        text-align: right;\n",
              "    }\n",
              "</style>\n",
              "<table border=\"1\" class=\"dataframe\">\n",
              "  <thead>\n",
              "    <tr style=\"text-align: right;\">\n",
              "      <th></th>\n",
              "      <th>key</th>\n",
              "      <th>fare_amount</th>\n",
              "      <th>pickup_datetime</th>\n",
              "      <th>pickup_longitude</th>\n",
              "      <th>pickup_latitude</th>\n",
              "      <th>dropoff_longitude</th>\n",
              "      <th>dropoff_latitude</th>\n",
              "      <th>passenger_count</th>\n",
              "    </tr>\n",
              "  </thead>\n",
              "  <tbody>\n",
              "    <tr>\n",
              "      <th>150559</th>\n",
              "      <td>43:00.0</td>\n",
              "      <td>25.30000</td>\n",
              "      <td>2012-08-03 07:43:00 UTC</td>\n",
              "      <td>0.00000</td>\n",
              "      <td>-3116.28538</td>\n",
              "      <td>-73.95360</td>\n",
              "      <td>40.78800</td>\n",
              "      <td>1.00000</td>\n",
              "    </tr>\n",
              "    <tr>\n",
              "      <th>436233</th>\n",
              "      <td>56:00.0</td>\n",
              "      <td>4.10000</td>\n",
              "      <td>2012-03-11 01:56:00 UTC</td>\n",
              "      <td>-2986.24249</td>\n",
              "      <td>-880.62743</td>\n",
              "      <td>-3383.29661</td>\n",
              "      <td>-2559.74891</td>\n",
              "      <td>1.00000</td>\n",
              "    </tr>\n",
              "    <tr>\n",
              "      <th>543001</th>\n",
              "      <td>53:00.0</td>\n",
              "      <td>5.30000</td>\n",
              "      <td>2011-10-28 13:53:00 UTC</td>\n",
              "      <td>-3377.68093</td>\n",
              "      <td>-113.01950</td>\n",
              "      <td>-554.91869</td>\n",
              "      <td>314.79418</td>\n",
              "      <td>1.00000</td>\n",
              "    </tr>\n",
              "  </tbody>\n",
              "</table>\n",
              "</div>\n",
              "      <button class=\"colab-df-convert\" onclick=\"convertToInteractive('df-475ca3e6-7a05-4de2-a9bf-6ea744e7da70')\"\n",
              "              title=\"Convert this dataframe to an interactive table.\"\n",
              "              style=\"display:none;\">\n",
              "        \n",
              "  <svg xmlns=\"http://www.w3.org/2000/svg\" height=\"24px\"viewBox=\"0 0 24 24\"\n",
              "       width=\"24px\">\n",
              "    <path d=\"M0 0h24v24H0V0z\" fill=\"none\"/>\n",
              "    <path d=\"M18.56 5.44l.94 2.06.94-2.06 2.06-.94-2.06-.94-.94-2.06-.94 2.06-2.06.94zm-11 1L8.5 8.5l.94-2.06 2.06-.94-2.06-.94L8.5 2.5l-.94 2.06-2.06.94zm10 10l.94 2.06.94-2.06 2.06-.94-2.06-.94-.94-2.06-.94 2.06-2.06.94z\"/><path d=\"M17.41 7.96l-1.37-1.37c-.4-.4-.92-.59-1.43-.59-.52 0-1.04.2-1.43.59L10.3 9.45l-7.72 7.72c-.78.78-.78 2.05 0 2.83L4 21.41c.39.39.9.59 1.41.59.51 0 1.02-.2 1.41-.59l7.78-7.78 2.81-2.81c.8-.78.8-2.07 0-2.86zM5.41 20L4 18.59l7.72-7.72 1.47 1.35L5.41 20z\"/>\n",
              "  </svg>\n",
              "      </button>\n",
              "      \n",
              "  <style>\n",
              "    .colab-df-container {\n",
              "      display:flex;\n",
              "      flex-wrap:wrap;\n",
              "      gap: 12px;\n",
              "    }\n",
              "\n",
              "    .colab-df-convert {\n",
              "      background-color: #E8F0FE;\n",
              "      border: none;\n",
              "      border-radius: 50%;\n",
              "      cursor: pointer;\n",
              "      display: none;\n",
              "      fill: #1967D2;\n",
              "      height: 32px;\n",
              "      padding: 0 0 0 0;\n",
              "      width: 32px;\n",
              "    }\n",
              "\n",
              "    .colab-df-convert:hover {\n",
              "      background-color: #E2EBFA;\n",
              "      box-shadow: 0px 1px 2px rgba(60, 64, 67, 0.3), 0px 1px 3px 1px rgba(60, 64, 67, 0.15);\n",
              "      fill: #174EA6;\n",
              "    }\n",
              "\n",
              "    [theme=dark] .colab-df-convert {\n",
              "      background-color: #3B4455;\n",
              "      fill: #D2E3FC;\n",
              "    }\n",
              "\n",
              "    [theme=dark] .colab-df-convert:hover {\n",
              "      background-color: #434B5C;\n",
              "      box-shadow: 0px 1px 3px 1px rgba(0, 0, 0, 0.15);\n",
              "      filter: drop-shadow(0px 1px 2px rgba(0, 0, 0, 0.3));\n",
              "      fill: #FFFFFF;\n",
              "    }\n",
              "  </style>\n",
              "\n",
              "      <script>\n",
              "        const buttonEl =\n",
              "          document.querySelector('#df-475ca3e6-7a05-4de2-a9bf-6ea744e7da70 button.colab-df-convert');\n",
              "        buttonEl.style.display =\n",
              "          google.colab.kernel.accessAllowed ? 'block' : 'none';\n",
              "\n",
              "        async function convertToInteractive(key) {\n",
              "          const element = document.querySelector('#df-475ca3e6-7a05-4de2-a9bf-6ea744e7da70');\n",
              "          const dataTable =\n",
              "            await google.colab.kernel.invokeFunction('convertToInteractive',\n",
              "                                                     [key], {});\n",
              "          if (!dataTable) return;\n",
              "\n",
              "          const docLinkHtml = 'Like what you see? Visit the ' +\n",
              "            '<a target=\"_blank\" href=https://colab.research.google.com/notebooks/data_table.ipynb>data table notebook</a>'\n",
              "            + ' to learn more about interactive tables.';\n",
              "          element.innerHTML = '';\n",
              "          dataTable['output_type'] = 'display_data';\n",
              "          await google.colab.output.renderOutput(dataTable, element);\n",
              "          const docLink = document.createElement('div');\n",
              "          docLink.innerHTML = docLinkHtml;\n",
              "          element.appendChild(docLink);\n",
              "        }\n",
              "      </script>\n",
              "    </div>\n",
              "  </div>\n",
              "  "
            ]
          },
          "metadata": {}
        },
        {
          "output_type": "stream",
          "name": "stdout",
          "text": [
            "----------------------------------------------------------------------------------------------------------------------------------------------------------------\n"
          ]
        },
        {
          "output_type": "display_data",
          "data": {
            "text/plain": [
              "            key  fare_amount          pickup_datetime  pickup_longitude  \\\n",
              "5686    15:00.0      3.30000  2011-07-30 11:15:00 UTC         -73.94724   \n",
              "174356  36:00.0      9.70000  2011-11-21 21:36:00 UTC        2140.60116   \n",
              "272439  55:00.0      9.30000  2011-04-23 02:55:00 UTC         -74.00250   \n",
              "464025  58:00.0      6.90000  2012-03-05 20:58:00 UTC         -73.99427   \n",
              "505229  08:00.0      9.30000  2012-03-05 21:08:00 UTC         -73.99427   \n",
              "505583  13:00.0      8.50000  2012-03-16 08:13:00 UTC         -73.99428   \n",
              "123588  40:00.0     17.30000  2012-03-22 21:40:00 UTC        2522.27133   \n",
              "142962  44:00.0      5.30000  2012-05-24 22:44:00 UTC         -73.98919   \n",
              "405171  31:00.0      5.70000  2012-04-12 07:31:00 UTC         -73.95709   \n",
              "454771  34:00.0      7.70000  2011-05-19 00:34:00 UTC         351.05252   \n",
              "\n",
              "        pickup_latitude  dropoff_longitude  dropoff_latitude  passenger_count  \n",
              "5686          401.08333          -73.95139          40.77893          1.00000  \n",
              "174356       1703.09277        -1251.19589       -1189.61544          1.00000  \n",
              "272439        405.35000          -73.97860          40.73996          1.00000  \n",
              "464025        404.96667          -73.97386          40.75546          1.00000  \n",
              "505229        404.96667          -73.98639          40.77690          1.00000  \n",
              "505583        405.13333          -73.95676          40.78374          1.00000  \n",
              "123588       2621.62843        -1718.11765       -2864.47100          1.00000  \n",
              "142962         91.26667          -73.98236          40.76311          1.00000  \n",
              "405171        424.08333          -73.96831          40.76512          1.00000  \n",
              "454771       1669.58204         1717.00340        1989.72808          1.00000  "
            ],
            "text/html": [
              "\n",
              "  <div id=\"df-0271064f-ae46-4662-9779-4696c7210b9e\">\n",
              "    <div class=\"colab-df-container\">\n",
              "      <div>\n",
              "<style scoped>\n",
              "    .dataframe tbody tr th:only-of-type {\n",
              "        vertical-align: middle;\n",
              "    }\n",
              "\n",
              "    .dataframe tbody tr th {\n",
              "        vertical-align: top;\n",
              "    }\n",
              "\n",
              "    .dataframe thead th {\n",
              "        text-align: right;\n",
              "    }\n",
              "</style>\n",
              "<table border=\"1\" class=\"dataframe\">\n",
              "  <thead>\n",
              "    <tr style=\"text-align: right;\">\n",
              "      <th></th>\n",
              "      <th>key</th>\n",
              "      <th>fare_amount</th>\n",
              "      <th>pickup_datetime</th>\n",
              "      <th>pickup_longitude</th>\n",
              "      <th>pickup_latitude</th>\n",
              "      <th>dropoff_longitude</th>\n",
              "      <th>dropoff_latitude</th>\n",
              "      <th>passenger_count</th>\n",
              "    </tr>\n",
              "  </thead>\n",
              "  <tbody>\n",
              "    <tr>\n",
              "      <th>5686</th>\n",
              "      <td>15:00.0</td>\n",
              "      <td>3.30000</td>\n",
              "      <td>2011-07-30 11:15:00 UTC</td>\n",
              "      <td>-73.94724</td>\n",
              "      <td>401.08333</td>\n",
              "      <td>-73.95139</td>\n",
              "      <td>40.77893</td>\n",
              "      <td>1.00000</td>\n",
              "    </tr>\n",
              "    <tr>\n",
              "      <th>174356</th>\n",
              "      <td>36:00.0</td>\n",
              "      <td>9.70000</td>\n",
              "      <td>2011-11-21 21:36:00 UTC</td>\n",
              "      <td>2140.60116</td>\n",
              "      <td>1703.09277</td>\n",
              "      <td>-1251.19589</td>\n",
              "      <td>-1189.61544</td>\n",
              "      <td>1.00000</td>\n",
              "    </tr>\n",
              "    <tr>\n",
              "      <th>272439</th>\n",
              "      <td>55:00.0</td>\n",
              "      <td>9.30000</td>\n",
              "      <td>2011-04-23 02:55:00 UTC</td>\n",
              "      <td>-74.00250</td>\n",
              "      <td>405.35000</td>\n",
              "      <td>-73.97860</td>\n",
              "      <td>40.73996</td>\n",
              "      <td>1.00000</td>\n",
              "    </tr>\n",
              "    <tr>\n",
              "      <th>464025</th>\n",
              "      <td>58:00.0</td>\n",
              "      <td>6.90000</td>\n",
              "      <td>2012-03-05 20:58:00 UTC</td>\n",
              "      <td>-73.99427</td>\n",
              "      <td>404.96667</td>\n",
              "      <td>-73.97386</td>\n",
              "      <td>40.75546</td>\n",
              "      <td>1.00000</td>\n",
              "    </tr>\n",
              "    <tr>\n",
              "      <th>505229</th>\n",
              "      <td>08:00.0</td>\n",
              "      <td>9.30000</td>\n",
              "      <td>2012-03-05 21:08:00 UTC</td>\n",
              "      <td>-73.99427</td>\n",
              "      <td>404.96667</td>\n",
              "      <td>-73.98639</td>\n",
              "      <td>40.77690</td>\n",
              "      <td>1.00000</td>\n",
              "    </tr>\n",
              "    <tr>\n",
              "      <th>505583</th>\n",
              "      <td>13:00.0</td>\n",
              "      <td>8.50000</td>\n",
              "      <td>2012-03-16 08:13:00 UTC</td>\n",
              "      <td>-73.99428</td>\n",
              "      <td>405.13333</td>\n",
              "      <td>-73.95676</td>\n",
              "      <td>40.78374</td>\n",
              "      <td>1.00000</td>\n",
              "    </tr>\n",
              "    <tr>\n",
              "      <th>123588</th>\n",
              "      <td>40:00.0</td>\n",
              "      <td>17.30000</td>\n",
              "      <td>2012-03-22 21:40:00 UTC</td>\n",
              "      <td>2522.27133</td>\n",
              "      <td>2621.62843</td>\n",
              "      <td>-1718.11765</td>\n",
              "      <td>-2864.47100</td>\n",
              "      <td>1.00000</td>\n",
              "    </tr>\n",
              "    <tr>\n",
              "      <th>142962</th>\n",
              "      <td>44:00.0</td>\n",
              "      <td>5.30000</td>\n",
              "      <td>2012-05-24 22:44:00 UTC</td>\n",
              "      <td>-73.98919</td>\n",
              "      <td>91.26667</td>\n",
              "      <td>-73.98236</td>\n",
              "      <td>40.76311</td>\n",
              "      <td>1.00000</td>\n",
              "    </tr>\n",
              "    <tr>\n",
              "      <th>405171</th>\n",
              "      <td>31:00.0</td>\n",
              "      <td>5.70000</td>\n",
              "      <td>2012-04-12 07:31:00 UTC</td>\n",
              "      <td>-73.95709</td>\n",
              "      <td>424.08333</td>\n",
              "      <td>-73.96831</td>\n",
              "      <td>40.76512</td>\n",
              "      <td>1.00000</td>\n",
              "    </tr>\n",
              "    <tr>\n",
              "      <th>454771</th>\n",
              "      <td>34:00.0</td>\n",
              "      <td>7.70000</td>\n",
              "      <td>2011-05-19 00:34:00 UTC</td>\n",
              "      <td>351.05252</td>\n",
              "      <td>1669.58204</td>\n",
              "      <td>1717.00340</td>\n",
              "      <td>1989.72808</td>\n",
              "      <td>1.00000</td>\n",
              "    </tr>\n",
              "  </tbody>\n",
              "</table>\n",
              "</div>\n",
              "      <button class=\"colab-df-convert\" onclick=\"convertToInteractive('df-0271064f-ae46-4662-9779-4696c7210b9e')\"\n",
              "              title=\"Convert this dataframe to an interactive table.\"\n",
              "              style=\"display:none;\">\n",
              "        \n",
              "  <svg xmlns=\"http://www.w3.org/2000/svg\" height=\"24px\"viewBox=\"0 0 24 24\"\n",
              "       width=\"24px\">\n",
              "    <path d=\"M0 0h24v24H0V0z\" fill=\"none\"/>\n",
              "    <path d=\"M18.56 5.44l.94 2.06.94-2.06 2.06-.94-2.06-.94-.94-2.06-.94 2.06-2.06.94zm-11 1L8.5 8.5l.94-2.06 2.06-.94-2.06-.94L8.5 2.5l-.94 2.06-2.06.94zm10 10l.94 2.06.94-2.06 2.06-.94-2.06-.94-.94-2.06-.94 2.06-2.06.94z\"/><path d=\"M17.41 7.96l-1.37-1.37c-.4-.4-.92-.59-1.43-.59-.52 0-1.04.2-1.43.59L10.3 9.45l-7.72 7.72c-.78.78-.78 2.05 0 2.83L4 21.41c.39.39.9.59 1.41.59.51 0 1.02-.2 1.41-.59l7.78-7.78 2.81-2.81c.8-.78.8-2.07 0-2.86zM5.41 20L4 18.59l7.72-7.72 1.47 1.35L5.41 20z\"/>\n",
              "  </svg>\n",
              "      </button>\n",
              "      \n",
              "  <style>\n",
              "    .colab-df-container {\n",
              "      display:flex;\n",
              "      flex-wrap:wrap;\n",
              "      gap: 12px;\n",
              "    }\n",
              "\n",
              "    .colab-df-convert {\n",
              "      background-color: #E8F0FE;\n",
              "      border: none;\n",
              "      border-radius: 50%;\n",
              "      cursor: pointer;\n",
              "      display: none;\n",
              "      fill: #1967D2;\n",
              "      height: 32px;\n",
              "      padding: 0 0 0 0;\n",
              "      width: 32px;\n",
              "    }\n",
              "\n",
              "    .colab-df-convert:hover {\n",
              "      background-color: #E2EBFA;\n",
              "      box-shadow: 0px 1px 2px rgba(60, 64, 67, 0.3), 0px 1px 3px 1px rgba(60, 64, 67, 0.15);\n",
              "      fill: #174EA6;\n",
              "    }\n",
              "\n",
              "    [theme=dark] .colab-df-convert {\n",
              "      background-color: #3B4455;\n",
              "      fill: #D2E3FC;\n",
              "    }\n",
              "\n",
              "    [theme=dark] .colab-df-convert:hover {\n",
              "      background-color: #434B5C;\n",
              "      box-shadow: 0px 1px 3px 1px rgba(0, 0, 0, 0.15);\n",
              "      filter: drop-shadow(0px 1px 2px rgba(0, 0, 0, 0.3));\n",
              "      fill: #FFFFFF;\n",
              "    }\n",
              "  </style>\n",
              "\n",
              "      <script>\n",
              "        const buttonEl =\n",
              "          document.querySelector('#df-0271064f-ae46-4662-9779-4696c7210b9e button.colab-df-convert');\n",
              "        buttonEl.style.display =\n",
              "          google.colab.kernel.accessAllowed ? 'block' : 'none';\n",
              "\n",
              "        async function convertToInteractive(key) {\n",
              "          const element = document.querySelector('#df-0271064f-ae46-4662-9779-4696c7210b9e');\n",
              "          const dataTable =\n",
              "            await google.colab.kernel.invokeFunction('convertToInteractive',\n",
              "                                                     [key], {});\n",
              "          if (!dataTable) return;\n",
              "\n",
              "          const docLinkHtml = 'Like what you see? Visit the ' +\n",
              "            '<a target=\"_blank\" href=https://colab.research.google.com/notebooks/data_table.ipynb>data table notebook</a>'\n",
              "            + ' to learn more about interactive tables.';\n",
              "          element.innerHTML = '';\n",
              "          dataTable['output_type'] = 'display_data';\n",
              "          await google.colab.output.renderOutput(dataTable, element);\n",
              "          const docLink = document.createElement('div');\n",
              "          docLink.innerHTML = docLinkHtml;\n",
              "          element.appendChild(docLink);\n",
              "        }\n",
              "      </script>\n",
              "    </div>\n",
              "  </div>\n",
              "  "
            ]
          },
          "metadata": {}
        }
      ]
    },
    {
      "cell_type": "code",
      "source": [
        "# 위 범위 밖 데이터drop\n",
        "train = train.drop( train[(train['pickup_latitude']<-90) | (train['pickup_latitude']>90)].index, axis = 0 )\n",
        "train.shape"
      ],
      "metadata": {
        "colab": {
          "base_uri": "https://localhost:8080/"
        },
        "id": "d947YUAqi0Ts",
        "outputId": "0139f85c-9288-43a7-ac53-c2e998293cbc"
      },
      "execution_count": 19,
      "outputs": [
        {
          "output_type": "execute_result",
          "data": {
            "text/plain": [
              "(1048457, 8)"
            ]
          },
          "metadata": {},
          "execution_count": 19
        }
      ]
    },
    {
      "cell_type": "code",
      "source": [
        "train['pickup_latitude'].describe()"
      ],
      "metadata": {
        "colab": {
          "base_uri": "https://localhost:8080/"
        },
        "id": "TZ_OMDhesQND",
        "outputId": "31ed1129-ca3b-40de-e7b0-627c97304493"
      },
      "execution_count": 20,
      "outputs": [
        {
          "output_type": "execute_result",
          "data": {
            "text/plain": [
              "count   1048457.00000\n",
              "mean         39.92725\n",
              "std           6.08715\n",
              "min         -74.01659\n",
              "25%          40.73496\n",
              "50%          40.75267\n",
              "75%          40.76714\n",
              "max          69.40000\n",
              "Name: pickup_latitude, dtype: float64"
            ]
          },
          "metadata": {},
          "execution_count": 20
        }
      ]
    },
    {
      "cell_type": "code",
      "source": [
        "train['pickup_longitude'].describe()"
      ],
      "metadata": {
        "colab": {
          "base_uri": "https://localhost:8080/"
        },
        "id": "YhqYiWB8i0Xt",
        "outputId": "2fc1f3d7-79bf-436e-b761-5b01aab92040"
      },
      "execution_count": 21,
      "outputs": [
        {
          "output_type": "execute_result",
          "data": {
            "text/plain": [
              "count   1048457.00000\n",
              "mean        -72.52642\n",
              "std          10.69610\n",
              "min       -1452.98833\n",
              "25%         -73.99207\n",
              "50%         -73.98180\n",
              "75%         -73.96711\n",
              "max          40.85036\n",
              "Name: pickup_longitude, dtype: float64"
            ]
          },
          "metadata": {},
          "execution_count": 21
        }
      ]
    },
    {
      "cell_type": "code",
      "source": [
        "# 데이터 정의에서 벗어나는 -180 미만, 180 초과 데이터 확인\n",
        "display(train[train['pickup_longitude']<-180])\n"
      ],
      "metadata": {
        "colab": {
          "base_uri": "https://localhost:8080/",
          "height": 426
        },
        "id": "MIdThc6ii0bz",
        "outputId": "7d1f8eac-a13b-43f1-d99d-ff0136d1bcfc"
      },
      "execution_count": 22,
      "outputs": [
        {
          "output_type": "display_data",
          "data": {
            "text/plain": [
              "            key  fare_amount          pickup_datetime  pickup_longitude  \\\n",
              "60442   36:00.0      4.90000  2012-01-12 13:36:00 UTC        -736.55000   \n",
              "217355  21:00.0      6.10000  2012-06-03 23:21:00 UTC        -740.00000   \n",
              "243342  38:00.0      7.30000  2012-08-02 10:38:00 UTC        -736.33333   \n",
              "351119  53:00.0      4.10000  2012-02-03 07:53:00 UTC        -736.48333   \n",
              "370663  19:00.0      6.10000  2012-05-04 23:19:00 UTC        -736.51667   \n",
              "416859  23:00.0      6.50000  2012-07-21 15:23:00 UTC        -736.41666   \n",
              "3733    23:00.0     11.50000  2013-05-23 15:23:00 UTC        -735.88833   \n",
              "110403  53:00.0     16.90000  2011-10-28 10:53:00 UTC       -1452.98833   \n",
              "272522  38:00.0     39.70000  2012-07-17 08:38:00 UTC        -736.00000   \n",
              "349338  10:00.0     11.70000  2012-03-04 00:10:00 UTC        -736.25000   \n",
              "356661  57:00.0     10.10000  2012-05-21 10:57:00 UTC        -736.65000   \n",
              "478072  11:00.0     36.83000  2013-03-15 11:11:00 UTC        -736.33333   \n",
              "\n",
              "        pickup_latitude  dropoff_longitude  dropoff_latitude  passenger_count  \n",
              "60442          40.73823          -73.98874          40.74885          1.00000  \n",
              "217355         40.74762            0.00000           0.00000          6.00000  \n",
              "243342         40.76648          -73.98793          40.75174          3.00000  \n",
              "351119         40.76651          -73.98199          40.77167          1.00000  \n",
              "370663         40.71910          -74.00395          40.72986          1.00000  \n",
              "416859         40.75229          -73.99256          40.74269          1.00000  \n",
              "3733           40.76086          -73.98983          40.73844          5.00000  \n",
              "110403         40.77600          -73.98949          40.74067          2.00000  \n",
              "272522         40.75851            0.00000           0.00000          5.00000  \n",
              "349338         40.78803          -73.99081          40.75094          1.00000  \n",
              "356661         40.76107            0.00000           0.00000          1.00000  \n",
              "478072         40.75592          -73.87150          40.77420          1.00000  "
            ],
            "text/html": [
              "\n",
              "  <div id=\"df-baeba27d-b5e4-4c4f-a355-ec6cdbec6ceb\">\n",
              "    <div class=\"colab-df-container\">\n",
              "      <div>\n",
              "<style scoped>\n",
              "    .dataframe tbody tr th:only-of-type {\n",
              "        vertical-align: middle;\n",
              "    }\n",
              "\n",
              "    .dataframe tbody tr th {\n",
              "        vertical-align: top;\n",
              "    }\n",
              "\n",
              "    .dataframe thead th {\n",
              "        text-align: right;\n",
              "    }\n",
              "</style>\n",
              "<table border=\"1\" class=\"dataframe\">\n",
              "  <thead>\n",
              "    <tr style=\"text-align: right;\">\n",
              "      <th></th>\n",
              "      <th>key</th>\n",
              "      <th>fare_amount</th>\n",
              "      <th>pickup_datetime</th>\n",
              "      <th>pickup_longitude</th>\n",
              "      <th>pickup_latitude</th>\n",
              "      <th>dropoff_longitude</th>\n",
              "      <th>dropoff_latitude</th>\n",
              "      <th>passenger_count</th>\n",
              "    </tr>\n",
              "  </thead>\n",
              "  <tbody>\n",
              "    <tr>\n",
              "      <th>60442</th>\n",
              "      <td>36:00.0</td>\n",
              "      <td>4.90000</td>\n",
              "      <td>2012-01-12 13:36:00 UTC</td>\n",
              "      <td>-736.55000</td>\n",
              "      <td>40.73823</td>\n",
              "      <td>-73.98874</td>\n",
              "      <td>40.74885</td>\n",
              "      <td>1.00000</td>\n",
              "    </tr>\n",
              "    <tr>\n",
              "      <th>217355</th>\n",
              "      <td>21:00.0</td>\n",
              "      <td>6.10000</td>\n",
              "      <td>2012-06-03 23:21:00 UTC</td>\n",
              "      <td>-740.00000</td>\n",
              "      <td>40.74762</td>\n",
              "      <td>0.00000</td>\n",
              "      <td>0.00000</td>\n",
              "      <td>6.00000</td>\n",
              "    </tr>\n",
              "    <tr>\n",
              "      <th>243342</th>\n",
              "      <td>38:00.0</td>\n",
              "      <td>7.30000</td>\n",
              "      <td>2012-08-02 10:38:00 UTC</td>\n",
              "      <td>-736.33333</td>\n",
              "      <td>40.76648</td>\n",
              "      <td>-73.98793</td>\n",
              "      <td>40.75174</td>\n",
              "      <td>3.00000</td>\n",
              "    </tr>\n",
              "    <tr>\n",
              "      <th>351119</th>\n",
              "      <td>53:00.0</td>\n",
              "      <td>4.10000</td>\n",
              "      <td>2012-02-03 07:53:00 UTC</td>\n",
              "      <td>-736.48333</td>\n",
              "      <td>40.76651</td>\n",
              "      <td>-73.98199</td>\n",
              "      <td>40.77167</td>\n",
              "      <td>1.00000</td>\n",
              "    </tr>\n",
              "    <tr>\n",
              "      <th>370663</th>\n",
              "      <td>19:00.0</td>\n",
              "      <td>6.10000</td>\n",
              "      <td>2012-05-04 23:19:00 UTC</td>\n",
              "      <td>-736.51667</td>\n",
              "      <td>40.71910</td>\n",
              "      <td>-74.00395</td>\n",
              "      <td>40.72986</td>\n",
              "      <td>1.00000</td>\n",
              "    </tr>\n",
              "    <tr>\n",
              "      <th>416859</th>\n",
              "      <td>23:00.0</td>\n",
              "      <td>6.50000</td>\n",
              "      <td>2012-07-21 15:23:00 UTC</td>\n",
              "      <td>-736.41666</td>\n",
              "      <td>40.75229</td>\n",
              "      <td>-73.99256</td>\n",
              "      <td>40.74269</td>\n",
              "      <td>1.00000</td>\n",
              "    </tr>\n",
              "    <tr>\n",
              "      <th>3733</th>\n",
              "      <td>23:00.0</td>\n",
              "      <td>11.50000</td>\n",
              "      <td>2013-05-23 15:23:00 UTC</td>\n",
              "      <td>-735.88833</td>\n",
              "      <td>40.76086</td>\n",
              "      <td>-73.98983</td>\n",
              "      <td>40.73844</td>\n",
              "      <td>5.00000</td>\n",
              "    </tr>\n",
              "    <tr>\n",
              "      <th>110403</th>\n",
              "      <td>53:00.0</td>\n",
              "      <td>16.90000</td>\n",
              "      <td>2011-10-28 10:53:00 UTC</td>\n",
              "      <td>-1452.98833</td>\n",
              "      <td>40.77600</td>\n",
              "      <td>-73.98949</td>\n",
              "      <td>40.74067</td>\n",
              "      <td>2.00000</td>\n",
              "    </tr>\n",
              "    <tr>\n",
              "      <th>272522</th>\n",
              "      <td>38:00.0</td>\n",
              "      <td>39.70000</td>\n",
              "      <td>2012-07-17 08:38:00 UTC</td>\n",
              "      <td>-736.00000</td>\n",
              "      <td>40.75851</td>\n",
              "      <td>0.00000</td>\n",
              "      <td>0.00000</td>\n",
              "      <td>5.00000</td>\n",
              "    </tr>\n",
              "    <tr>\n",
              "      <th>349338</th>\n",
              "      <td>10:00.0</td>\n",
              "      <td>11.70000</td>\n",
              "      <td>2012-03-04 00:10:00 UTC</td>\n",
              "      <td>-736.25000</td>\n",
              "      <td>40.78803</td>\n",
              "      <td>-73.99081</td>\n",
              "      <td>40.75094</td>\n",
              "      <td>1.00000</td>\n",
              "    </tr>\n",
              "    <tr>\n",
              "      <th>356661</th>\n",
              "      <td>57:00.0</td>\n",
              "      <td>10.10000</td>\n",
              "      <td>2012-05-21 10:57:00 UTC</td>\n",
              "      <td>-736.65000</td>\n",
              "      <td>40.76107</td>\n",
              "      <td>0.00000</td>\n",
              "      <td>0.00000</td>\n",
              "      <td>1.00000</td>\n",
              "    </tr>\n",
              "    <tr>\n",
              "      <th>478072</th>\n",
              "      <td>11:00.0</td>\n",
              "      <td>36.83000</td>\n",
              "      <td>2013-03-15 11:11:00 UTC</td>\n",
              "      <td>-736.33333</td>\n",
              "      <td>40.75592</td>\n",
              "      <td>-73.87150</td>\n",
              "      <td>40.77420</td>\n",
              "      <td>1.00000</td>\n",
              "    </tr>\n",
              "  </tbody>\n",
              "</table>\n",
              "</div>\n",
              "      <button class=\"colab-df-convert\" onclick=\"convertToInteractive('df-baeba27d-b5e4-4c4f-a355-ec6cdbec6ceb')\"\n",
              "              title=\"Convert this dataframe to an interactive table.\"\n",
              "              style=\"display:none;\">\n",
              "        \n",
              "  <svg xmlns=\"http://www.w3.org/2000/svg\" height=\"24px\"viewBox=\"0 0 24 24\"\n",
              "       width=\"24px\">\n",
              "    <path d=\"M0 0h24v24H0V0z\" fill=\"none\"/>\n",
              "    <path d=\"M18.56 5.44l.94 2.06.94-2.06 2.06-.94-2.06-.94-.94-2.06-.94 2.06-2.06.94zm-11 1L8.5 8.5l.94-2.06 2.06-.94-2.06-.94L8.5 2.5l-.94 2.06-2.06.94zm10 10l.94 2.06.94-2.06 2.06-.94-2.06-.94-.94-2.06-.94 2.06-2.06.94z\"/><path d=\"M17.41 7.96l-1.37-1.37c-.4-.4-.92-.59-1.43-.59-.52 0-1.04.2-1.43.59L10.3 9.45l-7.72 7.72c-.78.78-.78 2.05 0 2.83L4 21.41c.39.39.9.59 1.41.59.51 0 1.02-.2 1.41-.59l7.78-7.78 2.81-2.81c.8-.78.8-2.07 0-2.86zM5.41 20L4 18.59l7.72-7.72 1.47 1.35L5.41 20z\"/>\n",
              "  </svg>\n",
              "      </button>\n",
              "      \n",
              "  <style>\n",
              "    .colab-df-container {\n",
              "      display:flex;\n",
              "      flex-wrap:wrap;\n",
              "      gap: 12px;\n",
              "    }\n",
              "\n",
              "    .colab-df-convert {\n",
              "      background-color: #E8F0FE;\n",
              "      border: none;\n",
              "      border-radius: 50%;\n",
              "      cursor: pointer;\n",
              "      display: none;\n",
              "      fill: #1967D2;\n",
              "      height: 32px;\n",
              "      padding: 0 0 0 0;\n",
              "      width: 32px;\n",
              "    }\n",
              "\n",
              "    .colab-df-convert:hover {\n",
              "      background-color: #E2EBFA;\n",
              "      box-shadow: 0px 1px 2px rgba(60, 64, 67, 0.3), 0px 1px 3px 1px rgba(60, 64, 67, 0.15);\n",
              "      fill: #174EA6;\n",
              "    }\n",
              "\n",
              "    [theme=dark] .colab-df-convert {\n",
              "      background-color: #3B4455;\n",
              "      fill: #D2E3FC;\n",
              "    }\n",
              "\n",
              "    [theme=dark] .colab-df-convert:hover {\n",
              "      background-color: #434B5C;\n",
              "      box-shadow: 0px 1px 3px 1px rgba(0, 0, 0, 0.15);\n",
              "      filter: drop-shadow(0px 1px 2px rgba(0, 0, 0, 0.3));\n",
              "      fill: #FFFFFF;\n",
              "    }\n",
              "  </style>\n",
              "\n",
              "      <script>\n",
              "        const buttonEl =\n",
              "          document.querySelector('#df-baeba27d-b5e4-4c4f-a355-ec6cdbec6ceb button.colab-df-convert');\n",
              "        buttonEl.style.display =\n",
              "          google.colab.kernel.accessAllowed ? 'block' : 'none';\n",
              "\n",
              "        async function convertToInteractive(key) {\n",
              "          const element = document.querySelector('#df-baeba27d-b5e4-4c4f-a355-ec6cdbec6ceb');\n",
              "          const dataTable =\n",
              "            await google.colab.kernel.invokeFunction('convertToInteractive',\n",
              "                                                     [key], {});\n",
              "          if (!dataTable) return;\n",
              "\n",
              "          const docLinkHtml = 'Like what you see? Visit the ' +\n",
              "            '<a target=\"_blank\" href=https://colab.research.google.com/notebooks/data_table.ipynb>data table notebook</a>'\n",
              "            + ' to learn more about interactive tables.';\n",
              "          element.innerHTML = '';\n",
              "          dataTable['output_type'] = 'display_data';\n",
              "          await google.colab.output.renderOutput(dataTable, element);\n",
              "          const docLink = document.createElement('div');\n",
              "          docLink.innerHTML = docLinkHtml;\n",
              "          element.appendChild(docLink);\n",
              "        }\n",
              "      </script>\n",
              "    </div>\n",
              "  </div>\n",
              "  "
            ]
          },
          "metadata": {}
        }
      ]
    },
    {
      "cell_type": "code",
      "source": [
        "# 위 범위 밖 데이터drop\n",
        "train = train.drop( train[train['pickup_longitude']<-180].index, axis = 0 )\n",
        "train.shape"
      ],
      "metadata": {
        "colab": {
          "base_uri": "https://localhost:8080/"
        },
        "id": "Qk1u3-IQi0fp",
        "outputId": "659b34d7-554f-4cab-ff2f-306e111aa4e5"
      },
      "execution_count": 23,
      "outputs": [
        {
          "output_type": "execute_result",
          "data": {
            "text/plain": [
              "(1048433, 8)"
            ]
          },
          "metadata": {},
          "execution_count": 23
        }
      ]
    },
    {
      "cell_type": "code",
      "source": [
        "train['pickup_longitude'].describe()"
      ],
      "metadata": {
        "colab": {
          "base_uri": "https://localhost:8080/"
        },
        "id": "uwQpMqKxsTQu",
        "outputId": "baba3c74-e6c0-4229-ff3a-cca4f55befe8"
      },
      "execution_count": 24,
      "outputs": [
        {
          "output_type": "execute_result",
          "data": {
            "text/plain": [
              "count   1048433.00000\n",
              "mean        -72.51812\n",
              "std          10.39055\n",
              "min        -128.17595\n",
              "25%         -73.99207\n",
              "50%         -73.98180\n",
              "75%         -73.96711\n",
              "max          40.85036\n",
              "Name: pickup_longitude, dtype: float64"
            ]
          },
          "metadata": {},
          "execution_count": 24
        }
      ]
    },
    {
      "cell_type": "code",
      "source": [
        "train['dropoff_latitude'].describe()"
      ],
      "metadata": {
        "colab": {
          "base_uri": "https://localhost:8080/"
        },
        "id": "hoC2q4ADi0kM",
        "outputId": "d3ff786f-9962-4d51-b7c0-f2384cef6591"
      },
      "execution_count": 25,
      "outputs": [
        {
          "output_type": "execute_result",
          "data": {
            "text/plain": [
              "count   1048433.00000\n",
              "mean         39.92947\n",
              "std           7.28826\n",
              "min       -3114.33857\n",
              "25%          40.73406\n",
              "50%          40.75318\n",
              "75%          40.76812\n",
              "max        1903.11157\n",
              "Name: dropoff_latitude, dtype: float64"
            ]
          },
          "metadata": {},
          "execution_count": 25
        }
      ]
    },
    {
      "cell_type": "code",
      "source": [
        "# 데이터 정의에서 벗어나는 -90 미만, 90 초과 데이터 확인\n",
        "display(train[train['dropoff_latitude']<-90])\n",
        "print('-'*160)\n",
        "display(train[train['dropoff_latitude']>90])\n"
      ],
      "metadata": {
        "colab": {
          "base_uri": "https://localhost:8080/",
          "height": 382
        },
        "id": "h2X9wUyxi0nx",
        "outputId": "0bbc9416-9753-4768-8a52-6d35a20de6e1"
      },
      "execution_count": 26,
      "outputs": [
        {
          "output_type": "display_data",
          "data": {
            "text/plain": [
              "           key  fare_amount          pickup_datetime  pickup_longitude  \\\n",
              "14804  23:00.0     18.00000  2013-08-14 20:23:00 UTC         -73.99919   \n",
              "\n",
              "       pickup_latitude  dropoff_longitude  dropoff_latitude  passenger_count  \n",
              "14804         40.72020           -0.36000       -3114.33857          1.00000  "
            ],
            "text/html": [
              "\n",
              "  <div id=\"df-86f41798-432a-4f4d-ae10-6a2e1fcfc781\">\n",
              "    <div class=\"colab-df-container\">\n",
              "      <div>\n",
              "<style scoped>\n",
              "    .dataframe tbody tr th:only-of-type {\n",
              "        vertical-align: middle;\n",
              "    }\n",
              "\n",
              "    .dataframe tbody tr th {\n",
              "        vertical-align: top;\n",
              "    }\n",
              "\n",
              "    .dataframe thead th {\n",
              "        text-align: right;\n",
              "    }\n",
              "</style>\n",
              "<table border=\"1\" class=\"dataframe\">\n",
              "  <thead>\n",
              "    <tr style=\"text-align: right;\">\n",
              "      <th></th>\n",
              "      <th>key</th>\n",
              "      <th>fare_amount</th>\n",
              "      <th>pickup_datetime</th>\n",
              "      <th>pickup_longitude</th>\n",
              "      <th>pickup_latitude</th>\n",
              "      <th>dropoff_longitude</th>\n",
              "      <th>dropoff_latitude</th>\n",
              "      <th>passenger_count</th>\n",
              "    </tr>\n",
              "  </thead>\n",
              "  <tbody>\n",
              "    <tr>\n",
              "      <th>14804</th>\n",
              "      <td>23:00.0</td>\n",
              "      <td>18.00000</td>\n",
              "      <td>2013-08-14 20:23:00 UTC</td>\n",
              "      <td>-73.99919</td>\n",
              "      <td>40.72020</td>\n",
              "      <td>-0.36000</td>\n",
              "      <td>-3114.33857</td>\n",
              "      <td>1.00000</td>\n",
              "    </tr>\n",
              "  </tbody>\n",
              "</table>\n",
              "</div>\n",
              "      <button class=\"colab-df-convert\" onclick=\"convertToInteractive('df-86f41798-432a-4f4d-ae10-6a2e1fcfc781')\"\n",
              "              title=\"Convert this dataframe to an interactive table.\"\n",
              "              style=\"display:none;\">\n",
              "        \n",
              "  <svg xmlns=\"http://www.w3.org/2000/svg\" height=\"24px\"viewBox=\"0 0 24 24\"\n",
              "       width=\"24px\">\n",
              "    <path d=\"M0 0h24v24H0V0z\" fill=\"none\"/>\n",
              "    <path d=\"M18.56 5.44l.94 2.06.94-2.06 2.06-.94-2.06-.94-.94-2.06-.94 2.06-2.06.94zm-11 1L8.5 8.5l.94-2.06 2.06-.94-2.06-.94L8.5 2.5l-.94 2.06-2.06.94zm10 10l.94 2.06.94-2.06 2.06-.94-2.06-.94-.94-2.06-.94 2.06-2.06.94z\"/><path d=\"M17.41 7.96l-1.37-1.37c-.4-.4-.92-.59-1.43-.59-.52 0-1.04.2-1.43.59L10.3 9.45l-7.72 7.72c-.78.78-.78 2.05 0 2.83L4 21.41c.39.39.9.59 1.41.59.51 0 1.02-.2 1.41-.59l7.78-7.78 2.81-2.81c.8-.78.8-2.07 0-2.86zM5.41 20L4 18.59l7.72-7.72 1.47 1.35L5.41 20z\"/>\n",
              "  </svg>\n",
              "      </button>\n",
              "      \n",
              "  <style>\n",
              "    .colab-df-container {\n",
              "      display:flex;\n",
              "      flex-wrap:wrap;\n",
              "      gap: 12px;\n",
              "    }\n",
              "\n",
              "    .colab-df-convert {\n",
              "      background-color: #E8F0FE;\n",
              "      border: none;\n",
              "      border-radius: 50%;\n",
              "      cursor: pointer;\n",
              "      display: none;\n",
              "      fill: #1967D2;\n",
              "      height: 32px;\n",
              "      padding: 0 0 0 0;\n",
              "      width: 32px;\n",
              "    }\n",
              "\n",
              "    .colab-df-convert:hover {\n",
              "      background-color: #E2EBFA;\n",
              "      box-shadow: 0px 1px 2px rgba(60, 64, 67, 0.3), 0px 1px 3px 1px rgba(60, 64, 67, 0.15);\n",
              "      fill: #174EA6;\n",
              "    }\n",
              "\n",
              "    [theme=dark] .colab-df-convert {\n",
              "      background-color: #3B4455;\n",
              "      fill: #D2E3FC;\n",
              "    }\n",
              "\n",
              "    [theme=dark] .colab-df-convert:hover {\n",
              "      background-color: #434B5C;\n",
              "      box-shadow: 0px 1px 3px 1px rgba(0, 0, 0, 0.15);\n",
              "      filter: drop-shadow(0px 1px 2px rgba(0, 0, 0, 0.3));\n",
              "      fill: #FFFFFF;\n",
              "    }\n",
              "  </style>\n",
              "\n",
              "      <script>\n",
              "        const buttonEl =\n",
              "          document.querySelector('#df-86f41798-432a-4f4d-ae10-6a2e1fcfc781 button.colab-df-convert');\n",
              "        buttonEl.style.display =\n",
              "          google.colab.kernel.accessAllowed ? 'block' : 'none';\n",
              "\n",
              "        async function convertToInteractive(key) {\n",
              "          const element = document.querySelector('#df-86f41798-432a-4f4d-ae10-6a2e1fcfc781');\n",
              "          const dataTable =\n",
              "            await google.colab.kernel.invokeFunction('convertToInteractive',\n",
              "                                                     [key], {});\n",
              "          if (!dataTable) return;\n",
              "\n",
              "          const docLinkHtml = 'Like what you see? Visit the ' +\n",
              "            '<a target=\"_blank\" href=https://colab.research.google.com/notebooks/data_table.ipynb>data table notebook</a>'\n",
              "            + ' to learn more about interactive tables.';\n",
              "          element.innerHTML = '';\n",
              "          dataTable['output_type'] = 'display_data';\n",
              "          await google.colab.output.renderOutput(dataTable, element);\n",
              "          const docLink = document.createElement('div');\n",
              "          docLink.innerHTML = docLinkHtml;\n",
              "          element.appendChild(docLink);\n",
              "        }\n",
              "      </script>\n",
              "    </div>\n",
              "  </div>\n",
              "  "
            ]
          },
          "metadata": {}
        },
        {
          "output_type": "stream",
          "name": "stdout",
          "text": [
            "----------------------------------------------------------------------------------------------------------------------------------------------------------------\n"
          ]
        },
        {
          "output_type": "display_data",
          "data": {
            "text/plain": [
              "            key  fare_amount          pickup_datetime  pickup_longitude  \\\n",
              "92310   54:00.0     28.90000  2011-09-27 11:54:00 UTC         -74.01459   \n",
              "181973  04:00.0      6.50000  2012-01-03 09:04:00 UTC         -74.00892   \n",
              "335675  25:00.0     19.30000  2012-02-26 00:25:00 UTC         -74.00646   \n",
              "561910  42:59.0      4.50000  2010-08-14 03:42:59 UTC         -73.97764   \n",
              "17013   20:00.0     30.50000  2012-05-02 14:20:00 UTC         -73.87087   \n",
              "183367  33:00.0     15.00000  2013-01-02 11:33:00 UTC         -74.01520   \n",
              "324607  15:00.0     15.30000  2012-05-21 12:15:00 UTC         -74.00129   \n",
              "476418  36:00.0     14.90000  2012-06-11 14:36:00 UTC         -73.94987   \n",
              "\n",
              "        pickup_latitude  dropoff_longitude  dropoff_latitude  passenger_count  \n",
              "92310          40.68188          -73.97331         404.61667          1.00000  \n",
              "181973         40.71783          -74.00086         404.13333          1.00000  \n",
              "335675         40.74386          -73.98128         404.13333          1.00000  \n",
              "561910         40.75469          -73.87043         405.65000          1.00000  \n",
              "17013          40.77379          -73.97779         404.71667          1.00000  \n",
              "183367         40.70967          -40.71930        1651.55343          5.00000  \n",
              "324607         40.72756          -73.95305         404.46667          1.00000  \n",
              "476418         40.82220            0.00000        1903.11157          1.00000  "
            ],
            "text/html": [
              "\n",
              "  <div id=\"df-de4bdd57-7440-4679-9c71-37207a702e84\">\n",
              "    <div class=\"colab-df-container\">\n",
              "      <div>\n",
              "<style scoped>\n",
              "    .dataframe tbody tr th:only-of-type {\n",
              "        vertical-align: middle;\n",
              "    }\n",
              "\n",
              "    .dataframe tbody tr th {\n",
              "        vertical-align: top;\n",
              "    }\n",
              "\n",
              "    .dataframe thead th {\n",
              "        text-align: right;\n",
              "    }\n",
              "</style>\n",
              "<table border=\"1\" class=\"dataframe\">\n",
              "  <thead>\n",
              "    <tr style=\"text-align: right;\">\n",
              "      <th></th>\n",
              "      <th>key</th>\n",
              "      <th>fare_amount</th>\n",
              "      <th>pickup_datetime</th>\n",
              "      <th>pickup_longitude</th>\n",
              "      <th>pickup_latitude</th>\n",
              "      <th>dropoff_longitude</th>\n",
              "      <th>dropoff_latitude</th>\n",
              "      <th>passenger_count</th>\n",
              "    </tr>\n",
              "  </thead>\n",
              "  <tbody>\n",
              "    <tr>\n",
              "      <th>92310</th>\n",
              "      <td>54:00.0</td>\n",
              "      <td>28.90000</td>\n",
              "      <td>2011-09-27 11:54:00 UTC</td>\n",
              "      <td>-74.01459</td>\n",
              "      <td>40.68188</td>\n",
              "      <td>-73.97331</td>\n",
              "      <td>404.61667</td>\n",
              "      <td>1.00000</td>\n",
              "    </tr>\n",
              "    <tr>\n",
              "      <th>181973</th>\n",
              "      <td>04:00.0</td>\n",
              "      <td>6.50000</td>\n",
              "      <td>2012-01-03 09:04:00 UTC</td>\n",
              "      <td>-74.00892</td>\n",
              "      <td>40.71783</td>\n",
              "      <td>-74.00086</td>\n",
              "      <td>404.13333</td>\n",
              "      <td>1.00000</td>\n",
              "    </tr>\n",
              "    <tr>\n",
              "      <th>335675</th>\n",
              "      <td>25:00.0</td>\n",
              "      <td>19.30000</td>\n",
              "      <td>2012-02-26 00:25:00 UTC</td>\n",
              "      <td>-74.00646</td>\n",
              "      <td>40.74386</td>\n",
              "      <td>-73.98128</td>\n",
              "      <td>404.13333</td>\n",
              "      <td>1.00000</td>\n",
              "    </tr>\n",
              "    <tr>\n",
              "      <th>561910</th>\n",
              "      <td>42:59.0</td>\n",
              "      <td>4.50000</td>\n",
              "      <td>2010-08-14 03:42:59 UTC</td>\n",
              "      <td>-73.97764</td>\n",
              "      <td>40.75469</td>\n",
              "      <td>-73.87043</td>\n",
              "      <td>405.65000</td>\n",
              "      <td>1.00000</td>\n",
              "    </tr>\n",
              "    <tr>\n",
              "      <th>17013</th>\n",
              "      <td>20:00.0</td>\n",
              "      <td>30.50000</td>\n",
              "      <td>2012-05-02 14:20:00 UTC</td>\n",
              "      <td>-73.87087</td>\n",
              "      <td>40.77379</td>\n",
              "      <td>-73.97779</td>\n",
              "      <td>404.71667</td>\n",
              "      <td>1.00000</td>\n",
              "    </tr>\n",
              "    <tr>\n",
              "      <th>183367</th>\n",
              "      <td>33:00.0</td>\n",
              "      <td>15.00000</td>\n",
              "      <td>2013-01-02 11:33:00 UTC</td>\n",
              "      <td>-74.01520</td>\n",
              "      <td>40.70967</td>\n",
              "      <td>-40.71930</td>\n",
              "      <td>1651.55343</td>\n",
              "      <td>5.00000</td>\n",
              "    </tr>\n",
              "    <tr>\n",
              "      <th>324607</th>\n",
              "      <td>15:00.0</td>\n",
              "      <td>15.30000</td>\n",
              "      <td>2012-05-21 12:15:00 UTC</td>\n",
              "      <td>-74.00129</td>\n",
              "      <td>40.72756</td>\n",
              "      <td>-73.95305</td>\n",
              "      <td>404.46667</td>\n",
              "      <td>1.00000</td>\n",
              "    </tr>\n",
              "    <tr>\n",
              "      <th>476418</th>\n",
              "      <td>36:00.0</td>\n",
              "      <td>14.90000</td>\n",
              "      <td>2012-06-11 14:36:00 UTC</td>\n",
              "      <td>-73.94987</td>\n",
              "      <td>40.82220</td>\n",
              "      <td>0.00000</td>\n",
              "      <td>1903.11157</td>\n",
              "      <td>1.00000</td>\n",
              "    </tr>\n",
              "  </tbody>\n",
              "</table>\n",
              "</div>\n",
              "      <button class=\"colab-df-convert\" onclick=\"convertToInteractive('df-de4bdd57-7440-4679-9c71-37207a702e84')\"\n",
              "              title=\"Convert this dataframe to an interactive table.\"\n",
              "              style=\"display:none;\">\n",
              "        \n",
              "  <svg xmlns=\"http://www.w3.org/2000/svg\" height=\"24px\"viewBox=\"0 0 24 24\"\n",
              "       width=\"24px\">\n",
              "    <path d=\"M0 0h24v24H0V0z\" fill=\"none\"/>\n",
              "    <path d=\"M18.56 5.44l.94 2.06.94-2.06 2.06-.94-2.06-.94-.94-2.06-.94 2.06-2.06.94zm-11 1L8.5 8.5l.94-2.06 2.06-.94-2.06-.94L8.5 2.5l-.94 2.06-2.06.94zm10 10l.94 2.06.94-2.06 2.06-.94-2.06-.94-.94-2.06-.94 2.06-2.06.94z\"/><path d=\"M17.41 7.96l-1.37-1.37c-.4-.4-.92-.59-1.43-.59-.52 0-1.04.2-1.43.59L10.3 9.45l-7.72 7.72c-.78.78-.78 2.05 0 2.83L4 21.41c.39.39.9.59 1.41.59.51 0 1.02-.2 1.41-.59l7.78-7.78 2.81-2.81c.8-.78.8-2.07 0-2.86zM5.41 20L4 18.59l7.72-7.72 1.47 1.35L5.41 20z\"/>\n",
              "  </svg>\n",
              "      </button>\n",
              "      \n",
              "  <style>\n",
              "    .colab-df-container {\n",
              "      display:flex;\n",
              "      flex-wrap:wrap;\n",
              "      gap: 12px;\n",
              "    }\n",
              "\n",
              "    .colab-df-convert {\n",
              "      background-color: #E8F0FE;\n",
              "      border: none;\n",
              "      border-radius: 50%;\n",
              "      cursor: pointer;\n",
              "      display: none;\n",
              "      fill: #1967D2;\n",
              "      height: 32px;\n",
              "      padding: 0 0 0 0;\n",
              "      width: 32px;\n",
              "    }\n",
              "\n",
              "    .colab-df-convert:hover {\n",
              "      background-color: #E2EBFA;\n",
              "      box-shadow: 0px 1px 2px rgba(60, 64, 67, 0.3), 0px 1px 3px 1px rgba(60, 64, 67, 0.15);\n",
              "      fill: #174EA6;\n",
              "    }\n",
              "\n",
              "    [theme=dark] .colab-df-convert {\n",
              "      background-color: #3B4455;\n",
              "      fill: #D2E3FC;\n",
              "    }\n",
              "\n",
              "    [theme=dark] .colab-df-convert:hover {\n",
              "      background-color: #434B5C;\n",
              "      box-shadow: 0px 1px 3px 1px rgba(0, 0, 0, 0.15);\n",
              "      filter: drop-shadow(0px 1px 2px rgba(0, 0, 0, 0.3));\n",
              "      fill: #FFFFFF;\n",
              "    }\n",
              "  </style>\n",
              "\n",
              "      <script>\n",
              "        const buttonEl =\n",
              "          document.querySelector('#df-de4bdd57-7440-4679-9c71-37207a702e84 button.colab-df-convert');\n",
              "        buttonEl.style.display =\n",
              "          google.colab.kernel.accessAllowed ? 'block' : 'none';\n",
              "\n",
              "        async function convertToInteractive(key) {\n",
              "          const element = document.querySelector('#df-de4bdd57-7440-4679-9c71-37207a702e84');\n",
              "          const dataTable =\n",
              "            await google.colab.kernel.invokeFunction('convertToInteractive',\n",
              "                                                     [key], {});\n",
              "          if (!dataTable) return;\n",
              "\n",
              "          const docLinkHtml = 'Like what you see? Visit the ' +\n",
              "            '<a target=\"_blank\" href=https://colab.research.google.com/notebooks/data_table.ipynb>data table notebook</a>'\n",
              "            + ' to learn more about interactive tables.';\n",
              "          element.innerHTML = '';\n",
              "          dataTable['output_type'] = 'display_data';\n",
              "          await google.colab.output.renderOutput(dataTable, element);\n",
              "          const docLink = document.createElement('div');\n",
              "          docLink.innerHTML = docLinkHtml;\n",
              "          element.appendChild(docLink);\n",
              "        }\n",
              "      </script>\n",
              "    </div>\n",
              "  </div>\n",
              "  "
            ]
          },
          "metadata": {}
        }
      ]
    },
    {
      "cell_type": "code",
      "source": [
        "# 위 범위 밖 데이터drop\n",
        "train = train.drop( train[(train['dropoff_latitude']<-90) | (train['dropoff_latitude']>90)].index, axis = 0 )\n",
        "train.shape"
      ],
      "metadata": {
        "colab": {
          "base_uri": "https://localhost:8080/"
        },
        "id": "JMFqpQwhho6b",
        "outputId": "98d15f20-9500-4139-82f6-7d076e49c9fa"
      },
      "execution_count": 27,
      "outputs": [
        {
          "output_type": "execute_result",
          "data": {
            "text/plain": [
              "(1048416, 8)"
            ]
          },
          "metadata": {},
          "execution_count": 27
        }
      ]
    },
    {
      "cell_type": "code",
      "source": [
        "train['dropoff_latitude'].describe()"
      ],
      "metadata": {
        "colab": {
          "base_uri": "https://localhost:8080/"
        },
        "id": "G1x3s0CFho_M",
        "outputId": "a3bb4bff-2fea-4bab-b983-c90d3fc31756"
      },
      "execution_count": 28,
      "outputs": [
        {
          "output_type": "execute_result",
          "data": {
            "text/plain": [
              "count   1048416.00000\n",
              "mean         39.92707\n",
              "std           6.08933\n",
              "min         -74.03520\n",
              "25%          40.73406\n",
              "50%          40.75318\n",
              "75%          40.76812\n",
              "max          81.51018\n",
              "Name: dropoff_latitude, dtype: float64"
            ]
          },
          "metadata": {},
          "execution_count": 28
        }
      ]
    },
    {
      "cell_type": "code",
      "source": [
        "train['dropoff_longitude'].describe()"
      ],
      "metadata": {
        "colab": {
          "base_uri": "https://localhost:8080/"
        },
        "id": "ZswP7LIUfHok",
        "outputId": "f088b414-0865-4708-aefe-399efe7a9404"
      },
      "execution_count": 29,
      "outputs": [
        {
          "output_type": "execute_result",
          "data": {
            "text/plain": [
              "count   1048416.00000\n",
              "mean        -72.52343\n",
              "std          10.60900\n",
              "min       -1329.62133\n",
              "25%         -73.99138\n",
              "50%         -73.98014\n",
              "75%         -73.96367\n",
              "max          45.58162\n",
              "Name: dropoff_longitude, dtype: float64"
            ]
          },
          "metadata": {},
          "execution_count": 29
        }
      ]
    },
    {
      "cell_type": "code",
      "source": [
        "# 데이터 정의에서 벗어나는 -180 미만, 180 초과 데이터 확인\n",
        "display(train[train['dropoff_longitude']<-180])\n",
        "print('-'*160)\n",
        "display(train[train['dropoff_longitude']>180])\n"
      ],
      "metadata": {
        "colab": {
          "base_uri": "https://localhost:8080/",
          "height": 382
        },
        "id": "-nmKyyeBmsaC",
        "outputId": "003dd61c-31fa-4dfc-c596-849f5447215d"
      },
      "execution_count": 30,
      "outputs": [
        {
          "output_type": "display_data",
          "data": {
            "text/plain": [
              "            key  fare_amount          pickup_datetime  pickup_longitude  \\\n",
              "269695  00:00.0     17.70000  2012-05-24 09:00:00 UTC         -73.99757   \n",
              "282374  09:00.0      5.70000  2011-04-25 13:09:00 UTC         -73.98710   \n",
              "449263  51:00.0      6.90000  2012-01-28 16:51:00 UTC         -73.98314   \n",
              "472273  42:00.0     49.80000  2012-02-09 17:42:00 UTC         -73.93717   \n",
              "101255  02:00.0      4.90000  2012-03-16 22:02:00 UTC         -73.99260   \n",
              "191906  45:00.0      3.30000  2012-04-29 20:45:00 UTC         -73.99067   \n",
              "293663  41:00.0      6.10000  2012-06-19 07:41:00 UTC         -73.98247   \n",
              "342695  22:00.0      8.10000  2012-02-18 00:22:00 UTC         -73.99121   \n",
              "402065  42:00.0      5.70000  2012-02-09 17:42:00 UTC         -74.00639   \n",
              "\n",
              "        pickup_latitude  dropoff_longitude  dropoff_latitude  passenger_count  \n",
              "269695         40.72095        -1329.62133          40.77372          1.00000  \n",
              "282374         40.75573         -732.60000          40.74483          1.00000  \n",
              "449263         40.74199         -736.50000          40.75525          1.00000  \n",
              "472273         40.75811         -736.08333          40.75811          6.00000  \n",
              "101255         40.72682         -472.26667          40.73333          1.00000  \n",
              "191906         40.76104         -736.55000          40.76018          5.00000  \n",
              "293663         40.77161         -736.41666          40.76431          1.00000  \n",
              "342695         40.75073         -740.00000          40.72662          1.00000  \n",
              "402065         40.73955         -740.06667          40.72479          1.00000  "
            ],
            "text/html": [
              "\n",
              "  <div id=\"df-2088feee-d4c1-46ff-ac67-87e0624a2303\">\n",
              "    <div class=\"colab-df-container\">\n",
              "      <div>\n",
              "<style scoped>\n",
              "    .dataframe tbody tr th:only-of-type {\n",
              "        vertical-align: middle;\n",
              "    }\n",
              "\n",
              "    .dataframe tbody tr th {\n",
              "        vertical-align: top;\n",
              "    }\n",
              "\n",
              "    .dataframe thead th {\n",
              "        text-align: right;\n",
              "    }\n",
              "</style>\n",
              "<table border=\"1\" class=\"dataframe\">\n",
              "  <thead>\n",
              "    <tr style=\"text-align: right;\">\n",
              "      <th></th>\n",
              "      <th>key</th>\n",
              "      <th>fare_amount</th>\n",
              "      <th>pickup_datetime</th>\n",
              "      <th>pickup_longitude</th>\n",
              "      <th>pickup_latitude</th>\n",
              "      <th>dropoff_longitude</th>\n",
              "      <th>dropoff_latitude</th>\n",
              "      <th>passenger_count</th>\n",
              "    </tr>\n",
              "  </thead>\n",
              "  <tbody>\n",
              "    <tr>\n",
              "      <th>269695</th>\n",
              "      <td>00:00.0</td>\n",
              "      <td>17.70000</td>\n",
              "      <td>2012-05-24 09:00:00 UTC</td>\n",
              "      <td>-73.99757</td>\n",
              "      <td>40.72095</td>\n",
              "      <td>-1329.62133</td>\n",
              "      <td>40.77372</td>\n",
              "      <td>1.00000</td>\n",
              "    </tr>\n",
              "    <tr>\n",
              "      <th>282374</th>\n",
              "      <td>09:00.0</td>\n",
              "      <td>5.70000</td>\n",
              "      <td>2011-04-25 13:09:00 UTC</td>\n",
              "      <td>-73.98710</td>\n",
              "      <td>40.75573</td>\n",
              "      <td>-732.60000</td>\n",
              "      <td>40.74483</td>\n",
              "      <td>1.00000</td>\n",
              "    </tr>\n",
              "    <tr>\n",
              "      <th>449263</th>\n",
              "      <td>51:00.0</td>\n",
              "      <td>6.90000</td>\n",
              "      <td>2012-01-28 16:51:00 UTC</td>\n",
              "      <td>-73.98314</td>\n",
              "      <td>40.74199</td>\n",
              "      <td>-736.50000</td>\n",
              "      <td>40.75525</td>\n",
              "      <td>1.00000</td>\n",
              "    </tr>\n",
              "    <tr>\n",
              "      <th>472273</th>\n",
              "      <td>42:00.0</td>\n",
              "      <td>49.80000</td>\n",
              "      <td>2012-02-09 17:42:00 UTC</td>\n",
              "      <td>-73.93717</td>\n",
              "      <td>40.75811</td>\n",
              "      <td>-736.08333</td>\n",
              "      <td>40.75811</td>\n",
              "      <td>6.00000</td>\n",
              "    </tr>\n",
              "    <tr>\n",
              "      <th>101255</th>\n",
              "      <td>02:00.0</td>\n",
              "      <td>4.90000</td>\n",
              "      <td>2012-03-16 22:02:00 UTC</td>\n",
              "      <td>-73.99260</td>\n",
              "      <td>40.72682</td>\n",
              "      <td>-472.26667</td>\n",
              "      <td>40.73333</td>\n",
              "      <td>1.00000</td>\n",
              "    </tr>\n",
              "    <tr>\n",
              "      <th>191906</th>\n",
              "      <td>45:00.0</td>\n",
              "      <td>3.30000</td>\n",
              "      <td>2012-04-29 20:45:00 UTC</td>\n",
              "      <td>-73.99067</td>\n",
              "      <td>40.76104</td>\n",
              "      <td>-736.55000</td>\n",
              "      <td>40.76018</td>\n",
              "      <td>5.00000</td>\n",
              "    </tr>\n",
              "    <tr>\n",
              "      <th>293663</th>\n",
              "      <td>41:00.0</td>\n",
              "      <td>6.10000</td>\n",
              "      <td>2012-06-19 07:41:00 UTC</td>\n",
              "      <td>-73.98247</td>\n",
              "      <td>40.77161</td>\n",
              "      <td>-736.41666</td>\n",
              "      <td>40.76431</td>\n",
              "      <td>1.00000</td>\n",
              "    </tr>\n",
              "    <tr>\n",
              "      <th>342695</th>\n",
              "      <td>22:00.0</td>\n",
              "      <td>8.10000</td>\n",
              "      <td>2012-02-18 00:22:00 UTC</td>\n",
              "      <td>-73.99121</td>\n",
              "      <td>40.75073</td>\n",
              "      <td>-740.00000</td>\n",
              "      <td>40.72662</td>\n",
              "      <td>1.00000</td>\n",
              "    </tr>\n",
              "    <tr>\n",
              "      <th>402065</th>\n",
              "      <td>42:00.0</td>\n",
              "      <td>5.70000</td>\n",
              "      <td>2012-02-09 17:42:00 UTC</td>\n",
              "      <td>-74.00639</td>\n",
              "      <td>40.73955</td>\n",
              "      <td>-740.06667</td>\n",
              "      <td>40.72479</td>\n",
              "      <td>1.00000</td>\n",
              "    </tr>\n",
              "  </tbody>\n",
              "</table>\n",
              "</div>\n",
              "      <button class=\"colab-df-convert\" onclick=\"convertToInteractive('df-2088feee-d4c1-46ff-ac67-87e0624a2303')\"\n",
              "              title=\"Convert this dataframe to an interactive table.\"\n",
              "              style=\"display:none;\">\n",
              "        \n",
              "  <svg xmlns=\"http://www.w3.org/2000/svg\" height=\"24px\"viewBox=\"0 0 24 24\"\n",
              "       width=\"24px\">\n",
              "    <path d=\"M0 0h24v24H0V0z\" fill=\"none\"/>\n",
              "    <path d=\"M18.56 5.44l.94 2.06.94-2.06 2.06-.94-2.06-.94-.94-2.06-.94 2.06-2.06.94zm-11 1L8.5 8.5l.94-2.06 2.06-.94-2.06-.94L8.5 2.5l-.94 2.06-2.06.94zm10 10l.94 2.06.94-2.06 2.06-.94-2.06-.94-.94-2.06-.94 2.06-2.06.94z\"/><path d=\"M17.41 7.96l-1.37-1.37c-.4-.4-.92-.59-1.43-.59-.52 0-1.04.2-1.43.59L10.3 9.45l-7.72 7.72c-.78.78-.78 2.05 0 2.83L4 21.41c.39.39.9.59 1.41.59.51 0 1.02-.2 1.41-.59l7.78-7.78 2.81-2.81c.8-.78.8-2.07 0-2.86zM5.41 20L4 18.59l7.72-7.72 1.47 1.35L5.41 20z\"/>\n",
              "  </svg>\n",
              "      </button>\n",
              "      \n",
              "  <style>\n",
              "    .colab-df-container {\n",
              "      display:flex;\n",
              "      flex-wrap:wrap;\n",
              "      gap: 12px;\n",
              "    }\n",
              "\n",
              "    .colab-df-convert {\n",
              "      background-color: #E8F0FE;\n",
              "      border: none;\n",
              "      border-radius: 50%;\n",
              "      cursor: pointer;\n",
              "      display: none;\n",
              "      fill: #1967D2;\n",
              "      height: 32px;\n",
              "      padding: 0 0 0 0;\n",
              "      width: 32px;\n",
              "    }\n",
              "\n",
              "    .colab-df-convert:hover {\n",
              "      background-color: #E2EBFA;\n",
              "      box-shadow: 0px 1px 2px rgba(60, 64, 67, 0.3), 0px 1px 3px 1px rgba(60, 64, 67, 0.15);\n",
              "      fill: #174EA6;\n",
              "    }\n",
              "\n",
              "    [theme=dark] .colab-df-convert {\n",
              "      background-color: #3B4455;\n",
              "      fill: #D2E3FC;\n",
              "    }\n",
              "\n",
              "    [theme=dark] .colab-df-convert:hover {\n",
              "      background-color: #434B5C;\n",
              "      box-shadow: 0px 1px 3px 1px rgba(0, 0, 0, 0.15);\n",
              "      filter: drop-shadow(0px 1px 2px rgba(0, 0, 0, 0.3));\n",
              "      fill: #FFFFFF;\n",
              "    }\n",
              "  </style>\n",
              "\n",
              "      <script>\n",
              "        const buttonEl =\n",
              "          document.querySelector('#df-2088feee-d4c1-46ff-ac67-87e0624a2303 button.colab-df-convert');\n",
              "        buttonEl.style.display =\n",
              "          google.colab.kernel.accessAllowed ? 'block' : 'none';\n",
              "\n",
              "        async function convertToInteractive(key) {\n",
              "          const element = document.querySelector('#df-2088feee-d4c1-46ff-ac67-87e0624a2303');\n",
              "          const dataTable =\n",
              "            await google.colab.kernel.invokeFunction('convertToInteractive',\n",
              "                                                     [key], {});\n",
              "          if (!dataTable) return;\n",
              "\n",
              "          const docLinkHtml = 'Like what you see? Visit the ' +\n",
              "            '<a target=\"_blank\" href=https://colab.research.google.com/notebooks/data_table.ipynb>data table notebook</a>'\n",
              "            + ' to learn more about interactive tables.';\n",
              "          element.innerHTML = '';\n",
              "          dataTable['output_type'] = 'display_data';\n",
              "          await google.colab.output.renderOutput(dataTable, element);\n",
              "          const docLink = document.createElement('div');\n",
              "          docLink.innerHTML = docLinkHtml;\n",
              "          element.appendChild(docLink);\n",
              "        }\n",
              "      </script>\n",
              "    </div>\n",
              "  </div>\n",
              "  "
            ]
          },
          "metadata": {}
        },
        {
          "output_type": "stream",
          "name": "stdout",
          "text": [
            "----------------------------------------------------------------------------------------------------------------------------------------------------------------\n"
          ]
        },
        {
          "output_type": "display_data",
          "data": {
            "text/plain": [
              "Empty DataFrame\n",
              "Columns: [key, fare_amount, pickup_datetime, pickup_longitude, pickup_latitude, dropoff_longitude, dropoff_latitude, passenger_count]\n",
              "Index: []"
            ],
            "text/html": [
              "\n",
              "  <div id=\"df-7b3a38af-6ff5-43fb-8f9c-a48c096dd124\">\n",
              "    <div class=\"colab-df-container\">\n",
              "      <div>\n",
              "<style scoped>\n",
              "    .dataframe tbody tr th:only-of-type {\n",
              "        vertical-align: middle;\n",
              "    }\n",
              "\n",
              "    .dataframe tbody tr th {\n",
              "        vertical-align: top;\n",
              "    }\n",
              "\n",
              "    .dataframe thead th {\n",
              "        text-align: right;\n",
              "    }\n",
              "</style>\n",
              "<table border=\"1\" class=\"dataframe\">\n",
              "  <thead>\n",
              "    <tr style=\"text-align: right;\">\n",
              "      <th></th>\n",
              "      <th>key</th>\n",
              "      <th>fare_amount</th>\n",
              "      <th>pickup_datetime</th>\n",
              "      <th>pickup_longitude</th>\n",
              "      <th>pickup_latitude</th>\n",
              "      <th>dropoff_longitude</th>\n",
              "      <th>dropoff_latitude</th>\n",
              "      <th>passenger_count</th>\n",
              "    </tr>\n",
              "  </thead>\n",
              "  <tbody>\n",
              "  </tbody>\n",
              "</table>\n",
              "</div>\n",
              "      <button class=\"colab-df-convert\" onclick=\"convertToInteractive('df-7b3a38af-6ff5-43fb-8f9c-a48c096dd124')\"\n",
              "              title=\"Convert this dataframe to an interactive table.\"\n",
              "              style=\"display:none;\">\n",
              "        \n",
              "  <svg xmlns=\"http://www.w3.org/2000/svg\" height=\"24px\"viewBox=\"0 0 24 24\"\n",
              "       width=\"24px\">\n",
              "    <path d=\"M0 0h24v24H0V0z\" fill=\"none\"/>\n",
              "    <path d=\"M18.56 5.44l.94 2.06.94-2.06 2.06-.94-2.06-.94-.94-2.06-.94 2.06-2.06.94zm-11 1L8.5 8.5l.94-2.06 2.06-.94-2.06-.94L8.5 2.5l-.94 2.06-2.06.94zm10 10l.94 2.06.94-2.06 2.06-.94-2.06-.94-.94-2.06-.94 2.06-2.06.94z\"/><path d=\"M17.41 7.96l-1.37-1.37c-.4-.4-.92-.59-1.43-.59-.52 0-1.04.2-1.43.59L10.3 9.45l-7.72 7.72c-.78.78-.78 2.05 0 2.83L4 21.41c.39.39.9.59 1.41.59.51 0 1.02-.2 1.41-.59l7.78-7.78 2.81-2.81c.8-.78.8-2.07 0-2.86zM5.41 20L4 18.59l7.72-7.72 1.47 1.35L5.41 20z\"/>\n",
              "  </svg>\n",
              "      </button>\n",
              "      \n",
              "  <style>\n",
              "    .colab-df-container {\n",
              "      display:flex;\n",
              "      flex-wrap:wrap;\n",
              "      gap: 12px;\n",
              "    }\n",
              "\n",
              "    .colab-df-convert {\n",
              "      background-color: #E8F0FE;\n",
              "      border: none;\n",
              "      border-radius: 50%;\n",
              "      cursor: pointer;\n",
              "      display: none;\n",
              "      fill: #1967D2;\n",
              "      height: 32px;\n",
              "      padding: 0 0 0 0;\n",
              "      width: 32px;\n",
              "    }\n",
              "\n",
              "    .colab-df-convert:hover {\n",
              "      background-color: #E2EBFA;\n",
              "      box-shadow: 0px 1px 2px rgba(60, 64, 67, 0.3), 0px 1px 3px 1px rgba(60, 64, 67, 0.15);\n",
              "      fill: #174EA6;\n",
              "    }\n",
              "\n",
              "    [theme=dark] .colab-df-convert {\n",
              "      background-color: #3B4455;\n",
              "      fill: #D2E3FC;\n",
              "    }\n",
              "\n",
              "    [theme=dark] .colab-df-convert:hover {\n",
              "      background-color: #434B5C;\n",
              "      box-shadow: 0px 1px 3px 1px rgba(0, 0, 0, 0.15);\n",
              "      filter: drop-shadow(0px 1px 2px rgba(0, 0, 0, 0.3));\n",
              "      fill: #FFFFFF;\n",
              "    }\n",
              "  </style>\n",
              "\n",
              "      <script>\n",
              "        const buttonEl =\n",
              "          document.querySelector('#df-7b3a38af-6ff5-43fb-8f9c-a48c096dd124 button.colab-df-convert');\n",
              "        buttonEl.style.display =\n",
              "          google.colab.kernel.accessAllowed ? 'block' : 'none';\n",
              "\n",
              "        async function convertToInteractive(key) {\n",
              "          const element = document.querySelector('#df-7b3a38af-6ff5-43fb-8f9c-a48c096dd124');\n",
              "          const dataTable =\n",
              "            await google.colab.kernel.invokeFunction('convertToInteractive',\n",
              "                                                     [key], {});\n",
              "          if (!dataTable) return;\n",
              "\n",
              "          const docLinkHtml = 'Like what you see? Visit the ' +\n",
              "            '<a target=\"_blank\" href=https://colab.research.google.com/notebooks/data_table.ipynb>data table notebook</a>'\n",
              "            + ' to learn more about interactive tables.';\n",
              "          element.innerHTML = '';\n",
              "          dataTable['output_type'] = 'display_data';\n",
              "          await google.colab.output.renderOutput(dataTable, element);\n",
              "          const docLink = document.createElement('div');\n",
              "          docLink.innerHTML = docLinkHtml;\n",
              "          element.appendChild(docLink);\n",
              "        }\n",
              "      </script>\n",
              "    </div>\n",
              "  </div>\n",
              "  "
            ]
          },
          "metadata": {}
        }
      ]
    },
    {
      "cell_type": "code",
      "source": [
        "# 위 범위 밖 데이터drop\n",
        "train = train.drop( train[(train['dropoff_longitude']<-180) | (train['dropoff_longitude']>180)].index, axis = 0 )\n",
        "train.shape"
      ],
      "metadata": {
        "colab": {
          "base_uri": "https://localhost:8080/"
        },
        "id": "UV7MogVUmsea",
        "outputId": "7cea9267-6e53-4a9f-aeef-4e79b1b6b507"
      },
      "execution_count": 31,
      "outputs": [
        {
          "output_type": "execute_result",
          "data": {
            "text/plain": [
              "(1048398, 8)"
            ]
          },
          "metadata": {},
          "execution_count": 31
        }
      ]
    },
    {
      "cell_type": "code",
      "source": [
        "train['dropoff_longitude'].describe()"
      ],
      "metadata": {
        "colab": {
          "base_uri": "https://localhost:8080/"
        },
        "id": "R-rn-pjBfJXZ",
        "outputId": "a1622a06-387e-47b7-da98-2c895281267f"
      },
      "execution_count": 32,
      "outputs": [
        {
          "output_type": "execute_result",
          "data": {
            "text/plain": [
              "count   1048398.00000\n",
              "mean        -72.51747\n",
              "std          10.38946\n",
              "min        -121.39125\n",
              "25%         -73.99138\n",
              "50%         -73.98014\n",
              "75%         -73.96367\n",
              "max          45.58162\n",
              "Name: dropoff_longitude, dtype: float64"
            ]
          },
          "metadata": {},
          "execution_count": 32
        }
      ]
    },
    {
      "cell_type": "markdown",
      "source": [
        "##### passenger_count"
      ],
      "metadata": {
        "id": "Qvn0tQk_edSW"
      }
    },
    {
      "cell_type": "code",
      "source": [
        "train['passenger_count'].describe()"
      ],
      "metadata": {
        "colab": {
          "base_uri": "https://localhost:8080/"
        },
        "id": "3UYwbi4SedXA",
        "outputId": "dc3dea46-898a-48a7-e785-3c2fa422cdd0"
      },
      "execution_count": 33,
      "outputs": [
        {
          "output_type": "execute_result",
          "data": {
            "text/plain": [
              "count   1048398.00000\n",
              "mean          1.68492\n",
              "std           1.32315\n",
              "min           0.00000\n",
              "25%           1.00000\n",
              "50%           1.00000\n",
              "75%           2.00000\n",
              "max         208.00000\n",
              "Name: passenger_count, dtype: float64"
            ]
          },
          "metadata": {},
          "execution_count": 33
        }
      ]
    },
    {
      "cell_type": "markdown",
      "source": [
        "3사분위와 max 값 사이 편차가 너무 크고, '택시'는 일반적으로 많아봤자 10인승 전후임. 208명의 승객에 대한 확인이 필요함<br>\n",
        "SUV를 탄다 가정했을 떄 그나마 주변에서 볼 수 있는 9인승 대형 택시를 기준으로, 그 이상의 승객을 태운 데이터가 얼마나 되는지 확인해보겠음"
      ],
      "metadata": {
        "id": "Mc9h-nOAhuCf"
      }
    },
    {
      "cell_type": "code",
      "source": [
        "train[train['passenger_count']>9]"
      ],
      "metadata": {
        "colab": {
          "base_uri": "https://localhost:8080/",
          "height": 81
        },
        "id": "5mHGfzWohuGW",
        "outputId": "6b7c848c-7e5e-43de-c1ee-19d122690357"
      },
      "execution_count": 34,
      "outputs": [
        {
          "output_type": "execute_result",
          "data": {
            "text/plain": [
              "            key  fare_amount          pickup_datetime  pickup_longitude  \\\n",
              "363925  54:00.0      3.30000  2009-07-30 11:54:00 UTC           0.00000   \n",
              "\n",
              "        pickup_latitude  dropoff_longitude  dropoff_latitude  passenger_count  \n",
              "363925          0.00000            0.00000           0.00000        208.00000  "
            ],
            "text/html": [
              "\n",
              "  <div id=\"df-0dff06fd-cb5b-4089-b482-ae32240cfcb9\">\n",
              "    <div class=\"colab-df-container\">\n",
              "      <div>\n",
              "<style scoped>\n",
              "    .dataframe tbody tr th:only-of-type {\n",
              "        vertical-align: middle;\n",
              "    }\n",
              "\n",
              "    .dataframe tbody tr th {\n",
              "        vertical-align: top;\n",
              "    }\n",
              "\n",
              "    .dataframe thead th {\n",
              "        text-align: right;\n",
              "    }\n",
              "</style>\n",
              "<table border=\"1\" class=\"dataframe\">\n",
              "  <thead>\n",
              "    <tr style=\"text-align: right;\">\n",
              "      <th></th>\n",
              "      <th>key</th>\n",
              "      <th>fare_amount</th>\n",
              "      <th>pickup_datetime</th>\n",
              "      <th>pickup_longitude</th>\n",
              "      <th>pickup_latitude</th>\n",
              "      <th>dropoff_longitude</th>\n",
              "      <th>dropoff_latitude</th>\n",
              "      <th>passenger_count</th>\n",
              "    </tr>\n",
              "  </thead>\n",
              "  <tbody>\n",
              "    <tr>\n",
              "      <th>363925</th>\n",
              "      <td>54:00.0</td>\n",
              "      <td>3.30000</td>\n",
              "      <td>2009-07-30 11:54:00 UTC</td>\n",
              "      <td>0.00000</td>\n",
              "      <td>0.00000</td>\n",
              "      <td>0.00000</td>\n",
              "      <td>0.00000</td>\n",
              "      <td>208.00000</td>\n",
              "    </tr>\n",
              "  </tbody>\n",
              "</table>\n",
              "</div>\n",
              "      <button class=\"colab-df-convert\" onclick=\"convertToInteractive('df-0dff06fd-cb5b-4089-b482-ae32240cfcb9')\"\n",
              "              title=\"Convert this dataframe to an interactive table.\"\n",
              "              style=\"display:none;\">\n",
              "        \n",
              "  <svg xmlns=\"http://www.w3.org/2000/svg\" height=\"24px\"viewBox=\"0 0 24 24\"\n",
              "       width=\"24px\">\n",
              "    <path d=\"M0 0h24v24H0V0z\" fill=\"none\"/>\n",
              "    <path d=\"M18.56 5.44l.94 2.06.94-2.06 2.06-.94-2.06-.94-.94-2.06-.94 2.06-2.06.94zm-11 1L8.5 8.5l.94-2.06 2.06-.94-2.06-.94L8.5 2.5l-.94 2.06-2.06.94zm10 10l.94 2.06.94-2.06 2.06-.94-2.06-.94-.94-2.06-.94 2.06-2.06.94z\"/><path d=\"M17.41 7.96l-1.37-1.37c-.4-.4-.92-.59-1.43-.59-.52 0-1.04.2-1.43.59L10.3 9.45l-7.72 7.72c-.78.78-.78 2.05 0 2.83L4 21.41c.39.39.9.59 1.41.59.51 0 1.02-.2 1.41-.59l7.78-7.78 2.81-2.81c.8-.78.8-2.07 0-2.86zM5.41 20L4 18.59l7.72-7.72 1.47 1.35L5.41 20z\"/>\n",
              "  </svg>\n",
              "      </button>\n",
              "      \n",
              "  <style>\n",
              "    .colab-df-container {\n",
              "      display:flex;\n",
              "      flex-wrap:wrap;\n",
              "      gap: 12px;\n",
              "    }\n",
              "\n",
              "    .colab-df-convert {\n",
              "      background-color: #E8F0FE;\n",
              "      border: none;\n",
              "      border-radius: 50%;\n",
              "      cursor: pointer;\n",
              "      display: none;\n",
              "      fill: #1967D2;\n",
              "      height: 32px;\n",
              "      padding: 0 0 0 0;\n",
              "      width: 32px;\n",
              "    }\n",
              "\n",
              "    .colab-df-convert:hover {\n",
              "      background-color: #E2EBFA;\n",
              "      box-shadow: 0px 1px 2px rgba(60, 64, 67, 0.3), 0px 1px 3px 1px rgba(60, 64, 67, 0.15);\n",
              "      fill: #174EA6;\n",
              "    }\n",
              "\n",
              "    [theme=dark] .colab-df-convert {\n",
              "      background-color: #3B4455;\n",
              "      fill: #D2E3FC;\n",
              "    }\n",
              "\n",
              "    [theme=dark] .colab-df-convert:hover {\n",
              "      background-color: #434B5C;\n",
              "      box-shadow: 0px 1px 3px 1px rgba(0, 0, 0, 0.15);\n",
              "      filter: drop-shadow(0px 1px 2px rgba(0, 0, 0, 0.3));\n",
              "      fill: #FFFFFF;\n",
              "    }\n",
              "  </style>\n",
              "\n",
              "      <script>\n",
              "        const buttonEl =\n",
              "          document.querySelector('#df-0dff06fd-cb5b-4089-b482-ae32240cfcb9 button.colab-df-convert');\n",
              "        buttonEl.style.display =\n",
              "          google.colab.kernel.accessAllowed ? 'block' : 'none';\n",
              "\n",
              "        async function convertToInteractive(key) {\n",
              "          const element = document.querySelector('#df-0dff06fd-cb5b-4089-b482-ae32240cfcb9');\n",
              "          const dataTable =\n",
              "            await google.colab.kernel.invokeFunction('convertToInteractive',\n",
              "                                                     [key], {});\n",
              "          if (!dataTable) return;\n",
              "\n",
              "          const docLinkHtml = 'Like what you see? Visit the ' +\n",
              "            '<a target=\"_blank\" href=https://colab.research.google.com/notebooks/data_table.ipynb>data table notebook</a>'\n",
              "            + ' to learn more about interactive tables.';\n",
              "          element.innerHTML = '';\n",
              "          dataTable['output_type'] = 'display_data';\n",
              "          await google.colab.output.renderOutput(dataTable, element);\n",
              "          const docLink = document.createElement('div');\n",
              "          docLink.innerHTML = docLinkHtml;\n",
              "          element.appendChild(docLink);\n",
              "        }\n",
              "      </script>\n",
              "    </div>\n",
              "  </div>\n",
              "  "
            ]
          },
          "metadata": {},
          "execution_count": 34
        }
      ]
    },
    {
      "cell_type": "code",
      "source": [
        "train = train.drop(train[train['passenger_count']==208].index, axis = 0)\n",
        "train.shape"
      ],
      "metadata": {
        "colab": {
          "base_uri": "https://localhost:8080/"
        },
        "id": "9SN0-DpPhuJ2",
        "outputId": "4cd0626e-b1bd-480e-8d16-7041999ae1f9"
      },
      "execution_count": 35,
      "outputs": [
        {
          "output_type": "execute_result",
          "data": {
            "text/plain": [
              "(1048396, 8)"
            ]
          },
          "metadata": {},
          "execution_count": 35
        }
      ]
    },
    {
      "cell_type": "code",
      "source": [
        "train['passenger_count'].describe()"
      ],
      "metadata": {
        "colab": {
          "base_uri": "https://localhost:8080/"
        },
        "id": "fV9YWGethuN8",
        "outputId": "848b6225-c034-4267-8805-09cd4e92b153"
      },
      "execution_count": 36,
      "outputs": [
        {
          "output_type": "execute_result",
          "data": {
            "text/plain": [
              "count   1048396.00000\n",
              "mean          1.68472\n",
              "std           1.30772\n",
              "min           0.00000\n",
              "25%           1.00000\n",
              "50%           1.00000\n",
              "75%           2.00000\n",
              "max           9.00000\n",
              "Name: passenger_count, dtype: float64"
            ]
          },
          "metadata": {},
          "execution_count": 36
        }
      ]
    },
    {
      "cell_type": "markdown",
      "source": [
        "### 2.3. 탐색적 데이터 분석(EDA)"
      ],
      "metadata": {
        "id": "jF4hHIr5KkOE"
      }
    },
    {
      "cell_type": "markdown",
      "source": [
        "#### 데이터 유형 확인 및 변경"
      ],
      "metadata": {
        "id": "9qmW3eg2ggeP"
      }
    },
    {
      "cell_type": "code",
      "source": [
        "train.dtypes"
      ],
      "metadata": {
        "id": "mOXq8EJ0KkRy",
        "colab": {
          "base_uri": "https://localhost:8080/"
        },
        "outputId": "c682f120-f765-4a06-d178-4c275a4c0a06"
      },
      "execution_count": 37,
      "outputs": [
        {
          "output_type": "execute_result",
          "data": {
            "text/plain": [
              "key                   object\n",
              "fare_amount          float64\n",
              "pickup_datetime       object\n",
              "pickup_longitude     float64\n",
              "pickup_latitude      float64\n",
              "dropoff_longitude    float64\n",
              "dropoff_latitude     float64\n",
              "passenger_count      float64\n",
              "dtype: object"
            ]
          },
          "metadata": {},
          "execution_count": 37
        }
      ]
    },
    {
      "cell_type": "markdown",
      "source": [
        "key, pickup_datetime은 datetime의 값을 가지고 있지만, object type에 저장되어 있음. 얘네 datetime으로 바꿔줌"
      ],
      "metadata": {
        "id": "ldymEKKUKkVs"
      }
    },
    {
      "cell_type": "code",
      "source": [
        "# train['key'] = pd.to_datetime(train['key'])\n",
        "train['pickup_datetime'] = pd.to_datetime(train['pickup_datetime'])"
      ],
      "metadata": {
        "id": "Z_WheufyKkZW"
      },
      "execution_count": 39,
      "outputs": []
    },
    {
      "cell_type": "code",
      "source": [
        "test['key'] = pd.to_datetime(test['key'])\n",
        "test['pickup_datetime']  = pd.to_datetime(test['pickup_datetime'])"
      ],
      "metadata": {
        "id": "QD5XgEEdKkdP"
      },
      "execution_count": 46,
      "outputs": []
    },
    {
      "cell_type": "code",
      "source": [
        "train.dtypes"
      ],
      "metadata": {
        "id": "V0C7gn51Kko3",
        "colab": {
          "base_uri": "https://localhost:8080/"
        },
        "outputId": "5183efd6-5901-4b12-f3ed-766e3ee2555e"
      },
      "execution_count": 47,
      "outputs": [
        {
          "output_type": "execute_result",
          "data": {
            "text/plain": [
              "key                               object\n",
              "fare_amount                      float64\n",
              "pickup_datetime      datetime64[ns, UTC]\n",
              "pickup_longitude                 float64\n",
              "pickup_latitude                  float64\n",
              "dropoff_longitude                float64\n",
              "dropoff_latitude                 float64\n",
              "passenger_count                  float64\n",
              "dtype: object"
            ]
          },
          "metadata": {},
          "execution_count": 47
        }
      ]
    },
    {
      "cell_type": "code",
      "source": [
        "test.dtypes"
      ],
      "metadata": {
        "id": "cMBTQeIzKkte",
        "colab": {
          "base_uri": "https://localhost:8080/"
        },
        "outputId": "ae32ad04-a61c-4db7-8314-1ca6ebdf004e"
      },
      "execution_count": 48,
      "outputs": [
        {
          "output_type": "execute_result",
          "data": {
            "text/plain": [
              "key                       datetime64[ns]\n",
              "pickup_datetime      datetime64[ns, UTC]\n",
              "pickup_longitude                 float64\n",
              "pickup_latitude                  float64\n",
              "dropoff_longitude                float64\n",
              "dropoff_latitude                 float64\n",
              "passenger_count                    int64\n",
              "dtype: object"
            ]
          },
          "metadata": {},
          "execution_count": 48
        }
      ]
    },
    {
      "cell_type": "code",
      "source": [
        "train.head()"
      ],
      "metadata": {
        "id": "YAp62fDqKk0a",
        "colab": {
          "base_uri": "https://localhost:8080/",
          "height": 206
        },
        "outputId": "14b17d89-52c1-4eb9-d45e-151ceec33351"
      },
      "execution_count": 49,
      "outputs": [
        {
          "output_type": "execute_result",
          "data": {
            "text/plain": [
              "       key  fare_amount           pickup_datetime  pickup_longitude  \\\n",
              "0  26:21.0      4.50000 2009-06-15 17:26:21+00:00         -73.84431   \n",
              "1  52:16.0     16.90000 2010-01-05 16:52:16+00:00         -74.01605   \n",
              "2  35:00.0      5.70000 2011-08-18 00:35:00+00:00         -73.98274   \n",
              "3  30:42.0      7.70000 2012-04-21 04:30:42+00:00         -73.98713   \n",
              "4  51:00.0      5.30000 2010-03-09 07:51:00+00:00         -73.96810   \n",
              "\n",
              "   pickup_latitude  dropoff_longitude  dropoff_latitude  passenger_count  \n",
              "0         40.72132          -73.84161          40.71228          1.00000  \n",
              "1         40.71130          -73.97927          40.78200          1.00000  \n",
              "2         40.76127          -73.99124          40.75056          2.00000  \n",
              "3         40.73314          -73.99157          40.75809          1.00000  \n",
              "4         40.76801          -73.95665          40.78376          1.00000  "
            ],
            "text/html": [
              "\n",
              "  <div id=\"df-a03a97c7-2526-47c9-ae40-411a0f1b72ab\">\n",
              "    <div class=\"colab-df-container\">\n",
              "      <div>\n",
              "<style scoped>\n",
              "    .dataframe tbody tr th:only-of-type {\n",
              "        vertical-align: middle;\n",
              "    }\n",
              "\n",
              "    .dataframe tbody tr th {\n",
              "        vertical-align: top;\n",
              "    }\n",
              "\n",
              "    .dataframe thead th {\n",
              "        text-align: right;\n",
              "    }\n",
              "</style>\n",
              "<table border=\"1\" class=\"dataframe\">\n",
              "  <thead>\n",
              "    <tr style=\"text-align: right;\">\n",
              "      <th></th>\n",
              "      <th>key</th>\n",
              "      <th>fare_amount</th>\n",
              "      <th>pickup_datetime</th>\n",
              "      <th>pickup_longitude</th>\n",
              "      <th>pickup_latitude</th>\n",
              "      <th>dropoff_longitude</th>\n",
              "      <th>dropoff_latitude</th>\n",
              "      <th>passenger_count</th>\n",
              "    </tr>\n",
              "  </thead>\n",
              "  <tbody>\n",
              "    <tr>\n",
              "      <th>0</th>\n",
              "      <td>26:21.0</td>\n",
              "      <td>4.50000</td>\n",
              "      <td>2009-06-15 17:26:21+00:00</td>\n",
              "      <td>-73.84431</td>\n",
              "      <td>40.72132</td>\n",
              "      <td>-73.84161</td>\n",
              "      <td>40.71228</td>\n",
              "      <td>1.00000</td>\n",
              "    </tr>\n",
              "    <tr>\n",
              "      <th>1</th>\n",
              "      <td>52:16.0</td>\n",
              "      <td>16.90000</td>\n",
              "      <td>2010-01-05 16:52:16+00:00</td>\n",
              "      <td>-74.01605</td>\n",
              "      <td>40.71130</td>\n",
              "      <td>-73.97927</td>\n",
              "      <td>40.78200</td>\n",
              "      <td>1.00000</td>\n",
              "    </tr>\n",
              "    <tr>\n",
              "      <th>2</th>\n",
              "      <td>35:00.0</td>\n",
              "      <td>5.70000</td>\n",
              "      <td>2011-08-18 00:35:00+00:00</td>\n",
              "      <td>-73.98274</td>\n",
              "      <td>40.76127</td>\n",
              "      <td>-73.99124</td>\n",
              "      <td>40.75056</td>\n",
              "      <td>2.00000</td>\n",
              "    </tr>\n",
              "    <tr>\n",
              "      <th>3</th>\n",
              "      <td>30:42.0</td>\n",
              "      <td>7.70000</td>\n",
              "      <td>2012-04-21 04:30:42+00:00</td>\n",
              "      <td>-73.98713</td>\n",
              "      <td>40.73314</td>\n",
              "      <td>-73.99157</td>\n",
              "      <td>40.75809</td>\n",
              "      <td>1.00000</td>\n",
              "    </tr>\n",
              "    <tr>\n",
              "      <th>4</th>\n",
              "      <td>51:00.0</td>\n",
              "      <td>5.30000</td>\n",
              "      <td>2010-03-09 07:51:00+00:00</td>\n",
              "      <td>-73.96810</td>\n",
              "      <td>40.76801</td>\n",
              "      <td>-73.95665</td>\n",
              "      <td>40.78376</td>\n",
              "      <td>1.00000</td>\n",
              "    </tr>\n",
              "  </tbody>\n",
              "</table>\n",
              "</div>\n",
              "      <button class=\"colab-df-convert\" onclick=\"convertToInteractive('df-a03a97c7-2526-47c9-ae40-411a0f1b72ab')\"\n",
              "              title=\"Convert this dataframe to an interactive table.\"\n",
              "              style=\"display:none;\">\n",
              "        \n",
              "  <svg xmlns=\"http://www.w3.org/2000/svg\" height=\"24px\"viewBox=\"0 0 24 24\"\n",
              "       width=\"24px\">\n",
              "    <path d=\"M0 0h24v24H0V0z\" fill=\"none\"/>\n",
              "    <path d=\"M18.56 5.44l.94 2.06.94-2.06 2.06-.94-2.06-.94-.94-2.06-.94 2.06-2.06.94zm-11 1L8.5 8.5l.94-2.06 2.06-.94-2.06-.94L8.5 2.5l-.94 2.06-2.06.94zm10 10l.94 2.06.94-2.06 2.06-.94-2.06-.94-.94-2.06-.94 2.06-2.06.94z\"/><path d=\"M17.41 7.96l-1.37-1.37c-.4-.4-.92-.59-1.43-.59-.52 0-1.04.2-1.43.59L10.3 9.45l-7.72 7.72c-.78.78-.78 2.05 0 2.83L4 21.41c.39.39.9.59 1.41.59.51 0 1.02-.2 1.41-.59l7.78-7.78 2.81-2.81c.8-.78.8-2.07 0-2.86zM5.41 20L4 18.59l7.72-7.72 1.47 1.35L5.41 20z\"/>\n",
              "  </svg>\n",
              "      </button>\n",
              "      \n",
              "  <style>\n",
              "    .colab-df-container {\n",
              "      display:flex;\n",
              "      flex-wrap:wrap;\n",
              "      gap: 12px;\n",
              "    }\n",
              "\n",
              "    .colab-df-convert {\n",
              "      background-color: #E8F0FE;\n",
              "      border: none;\n",
              "      border-radius: 50%;\n",
              "      cursor: pointer;\n",
              "      display: none;\n",
              "      fill: #1967D2;\n",
              "      height: 32px;\n",
              "      padding: 0 0 0 0;\n",
              "      width: 32px;\n",
              "    }\n",
              "\n",
              "    .colab-df-convert:hover {\n",
              "      background-color: #E2EBFA;\n",
              "      box-shadow: 0px 1px 2px rgba(60, 64, 67, 0.3), 0px 1px 3px 1px rgba(60, 64, 67, 0.15);\n",
              "      fill: #174EA6;\n",
              "    }\n",
              "\n",
              "    [theme=dark] .colab-df-convert {\n",
              "      background-color: #3B4455;\n",
              "      fill: #D2E3FC;\n",
              "    }\n",
              "\n",
              "    [theme=dark] .colab-df-convert:hover {\n",
              "      background-color: #434B5C;\n",
              "      box-shadow: 0px 1px 3px 1px rgba(0, 0, 0, 0.15);\n",
              "      filter: drop-shadow(0px 1px 2px rgba(0, 0, 0, 0.3));\n",
              "      fill: #FFFFFF;\n",
              "    }\n",
              "  </style>\n",
              "\n",
              "      <script>\n",
              "        const buttonEl =\n",
              "          document.querySelector('#df-a03a97c7-2526-47c9-ae40-411a0f1b72ab button.colab-df-convert');\n",
              "        buttonEl.style.display =\n",
              "          google.colab.kernel.accessAllowed ? 'block' : 'none';\n",
              "\n",
              "        async function convertToInteractive(key) {\n",
              "          const element = document.querySelector('#df-a03a97c7-2526-47c9-ae40-411a0f1b72ab');\n",
              "          const dataTable =\n",
              "            await google.colab.kernel.invokeFunction('convertToInteractive',\n",
              "                                                     [key], {});\n",
              "          if (!dataTable) return;\n",
              "\n",
              "          const docLinkHtml = 'Like what you see? Visit the ' +\n",
              "            '<a target=\"_blank\" href=https://colab.research.google.com/notebooks/data_table.ipynb>data table notebook</a>'\n",
              "            + ' to learn more about interactive tables.';\n",
              "          element.innerHTML = '';\n",
              "          dataTable['output_type'] = 'display_data';\n",
              "          await google.colab.output.renderOutput(dataTable, element);\n",
              "          const docLink = document.createElement('div');\n",
              "          docLink.innerHTML = docLinkHtml;\n",
              "          element.appendChild(docLink);\n",
              "        }\n",
              "      </script>\n",
              "    </div>\n",
              "  </div>\n",
              "  "
            ]
          },
          "metadata": {},
          "execution_count": 49
        }
      ]
    },
    {
      "cell_type": "code",
      "source": [
        "test.head()"
      ],
      "metadata": {
        "id": "Apjbmq8UKk4d",
        "colab": {
          "base_uri": "https://localhost:8080/",
          "height": 206
        },
        "outputId": "c89c011c-987f-4917-fcef-778748ac87f2"
      },
      "execution_count": 50,
      "outputs": [
        {
          "output_type": "execute_result",
          "data": {
            "text/plain": [
              "                            key           pickup_datetime  pickup_longitude  \\\n",
              "0 2015-01-27 13:08:24.000000200 2015-01-27 13:08:24+00:00         -73.97332   \n",
              "1 2015-01-27 13:08:24.000000300 2015-01-27 13:08:24+00:00         -73.98686   \n",
              "2 2011-10-08 11:53:44.000000200 2011-10-08 11:53:44+00:00         -73.98252   \n",
              "3 2012-12-01 21:12:12.000000200 2012-12-01 21:12:12+00:00         -73.98116   \n",
              "4 2012-12-01 21:12:12.000000300 2012-12-01 21:12:12+00:00         -73.96605   \n",
              "\n",
              "   pickup_latitude  dropoff_longitude  dropoff_latitude  passenger_count  \n",
              "0         40.76381          -73.98143          40.74384                1  \n",
              "1         40.71938          -73.99889          40.73920                1  \n",
              "2         40.75126          -73.97965          40.74614                1  \n",
              "3         40.76781          -73.99045          40.75164                1  \n",
              "4         40.78977          -73.98856          40.74443                1  "
            ],
            "text/html": [
              "\n",
              "  <div id=\"df-23a98c7f-d4d9-43fd-929e-c6de9f91db42\">\n",
              "    <div class=\"colab-df-container\">\n",
              "      <div>\n",
              "<style scoped>\n",
              "    .dataframe tbody tr th:only-of-type {\n",
              "        vertical-align: middle;\n",
              "    }\n",
              "\n",
              "    .dataframe tbody tr th {\n",
              "        vertical-align: top;\n",
              "    }\n",
              "\n",
              "    .dataframe thead th {\n",
              "        text-align: right;\n",
              "    }\n",
              "</style>\n",
              "<table border=\"1\" class=\"dataframe\">\n",
              "  <thead>\n",
              "    <tr style=\"text-align: right;\">\n",
              "      <th></th>\n",
              "      <th>key</th>\n",
              "      <th>pickup_datetime</th>\n",
              "      <th>pickup_longitude</th>\n",
              "      <th>pickup_latitude</th>\n",
              "      <th>dropoff_longitude</th>\n",
              "      <th>dropoff_latitude</th>\n",
              "      <th>passenger_count</th>\n",
              "    </tr>\n",
              "  </thead>\n",
              "  <tbody>\n",
              "    <tr>\n",
              "      <th>0</th>\n",
              "      <td>2015-01-27 13:08:24.000000200</td>\n",
              "      <td>2015-01-27 13:08:24+00:00</td>\n",
              "      <td>-73.97332</td>\n",
              "      <td>40.76381</td>\n",
              "      <td>-73.98143</td>\n",
              "      <td>40.74384</td>\n",
              "      <td>1</td>\n",
              "    </tr>\n",
              "    <tr>\n",
              "      <th>1</th>\n",
              "      <td>2015-01-27 13:08:24.000000300</td>\n",
              "      <td>2015-01-27 13:08:24+00:00</td>\n",
              "      <td>-73.98686</td>\n",
              "      <td>40.71938</td>\n",
              "      <td>-73.99889</td>\n",
              "      <td>40.73920</td>\n",
              "      <td>1</td>\n",
              "    </tr>\n",
              "    <tr>\n",
              "      <th>2</th>\n",
              "      <td>2011-10-08 11:53:44.000000200</td>\n",
              "      <td>2011-10-08 11:53:44+00:00</td>\n",
              "      <td>-73.98252</td>\n",
              "      <td>40.75126</td>\n",
              "      <td>-73.97965</td>\n",
              "      <td>40.74614</td>\n",
              "      <td>1</td>\n",
              "    </tr>\n",
              "    <tr>\n",
              "      <th>3</th>\n",
              "      <td>2012-12-01 21:12:12.000000200</td>\n",
              "      <td>2012-12-01 21:12:12+00:00</td>\n",
              "      <td>-73.98116</td>\n",
              "      <td>40.76781</td>\n",
              "      <td>-73.99045</td>\n",
              "      <td>40.75164</td>\n",
              "      <td>1</td>\n",
              "    </tr>\n",
              "    <tr>\n",
              "      <th>4</th>\n",
              "      <td>2012-12-01 21:12:12.000000300</td>\n",
              "      <td>2012-12-01 21:12:12+00:00</td>\n",
              "      <td>-73.96605</td>\n",
              "      <td>40.78977</td>\n",
              "      <td>-73.98856</td>\n",
              "      <td>40.74443</td>\n",
              "      <td>1</td>\n",
              "    </tr>\n",
              "  </tbody>\n",
              "</table>\n",
              "</div>\n",
              "      <button class=\"colab-df-convert\" onclick=\"convertToInteractive('df-23a98c7f-d4d9-43fd-929e-c6de9f91db42')\"\n",
              "              title=\"Convert this dataframe to an interactive table.\"\n",
              "              style=\"display:none;\">\n",
              "        \n",
              "  <svg xmlns=\"http://www.w3.org/2000/svg\" height=\"24px\"viewBox=\"0 0 24 24\"\n",
              "       width=\"24px\">\n",
              "    <path d=\"M0 0h24v24H0V0z\" fill=\"none\"/>\n",
              "    <path d=\"M18.56 5.44l.94 2.06.94-2.06 2.06-.94-2.06-.94-.94-2.06-.94 2.06-2.06.94zm-11 1L8.5 8.5l.94-2.06 2.06-.94-2.06-.94L8.5 2.5l-.94 2.06-2.06.94zm10 10l.94 2.06.94-2.06 2.06-.94-2.06-.94-.94-2.06-.94 2.06-2.06.94z\"/><path d=\"M17.41 7.96l-1.37-1.37c-.4-.4-.92-.59-1.43-.59-.52 0-1.04.2-1.43.59L10.3 9.45l-7.72 7.72c-.78.78-.78 2.05 0 2.83L4 21.41c.39.39.9.59 1.41.59.51 0 1.02-.2 1.41-.59l7.78-7.78 2.81-2.81c.8-.78.8-2.07 0-2.86zM5.41 20L4 18.59l7.72-7.72 1.47 1.35L5.41 20z\"/>\n",
              "  </svg>\n",
              "      </button>\n",
              "      \n",
              "  <style>\n",
              "    .colab-df-container {\n",
              "      display:flex;\n",
              "      flex-wrap:wrap;\n",
              "      gap: 12px;\n",
              "    }\n",
              "\n",
              "    .colab-df-convert {\n",
              "      background-color: #E8F0FE;\n",
              "      border: none;\n",
              "      border-radius: 50%;\n",
              "      cursor: pointer;\n",
              "      display: none;\n",
              "      fill: #1967D2;\n",
              "      height: 32px;\n",
              "      padding: 0 0 0 0;\n",
              "      width: 32px;\n",
              "    }\n",
              "\n",
              "    .colab-df-convert:hover {\n",
              "      background-color: #E2EBFA;\n",
              "      box-shadow: 0px 1px 2px rgba(60, 64, 67, 0.3), 0px 1px 3px 1px rgba(60, 64, 67, 0.15);\n",
              "      fill: #174EA6;\n",
              "    }\n",
              "\n",
              "    [theme=dark] .colab-df-convert {\n",
              "      background-color: #3B4455;\n",
              "      fill: #D2E3FC;\n",
              "    }\n",
              "\n",
              "    [theme=dark] .colab-df-convert:hover {\n",
              "      background-color: #434B5C;\n",
              "      box-shadow: 0px 1px 3px 1px rgba(0, 0, 0, 0.15);\n",
              "      filter: drop-shadow(0px 1px 2px rgba(0, 0, 0, 0.3));\n",
              "      fill: #FFFFFF;\n",
              "    }\n",
              "  </style>\n",
              "\n",
              "      <script>\n",
              "        const buttonEl =\n",
              "          document.querySelector('#df-23a98c7f-d4d9-43fd-929e-c6de9f91db42 button.colab-df-convert');\n",
              "        buttonEl.style.display =\n",
              "          google.colab.kernel.accessAllowed ? 'block' : 'none';\n",
              "\n",
              "        async function convertToInteractive(key) {\n",
              "          const element = document.querySelector('#df-23a98c7f-d4d9-43fd-929e-c6de9f91db42');\n",
              "          const dataTable =\n",
              "            await google.colab.kernel.invokeFunction('convertToInteractive',\n",
              "                                                     [key], {});\n",
              "          if (!dataTable) return;\n",
              "\n",
              "          const docLinkHtml = 'Like what you see? Visit the ' +\n",
              "            '<a target=\"_blank\" href=https://colab.research.google.com/notebooks/data_table.ipynb>data table notebook</a>'\n",
              "            + ' to learn more about interactive tables.';\n",
              "          element.innerHTML = '';\n",
              "          dataTable['output_type'] = 'display_data';\n",
              "          await google.colab.output.renderOutput(dataTable, element);\n",
              "          const docLink = document.createElement('div');\n",
              "          docLink.innerHTML = docLinkHtml;\n",
              "          element.appendChild(docLink);\n",
              "        }\n",
              "      </script>\n",
              "    </div>\n",
              "  </div>\n",
              "  "
            ]
          },
          "metadata": {},
          "execution_count": 50
        }
      ]
    },
    {
      "cell_type": "markdown",
      "source": [
        "##### 탐색적 데이터 분석 with 4 questions\n",
        "    1. 승객 수 - 요금 사이 관계 여부\n",
        "    2. 승차 일/시간 - 요금 사이 관계 여부\n",
        "    3. 요일 - 요금 사이 관계 여부\n",
        "    4. 주행거리 - 요금 사이 관계 여부"
      ],
      "metadata": {
        "id": "KJSzHRRuKk8e"
      }
    },
    {
      "cell_type": "markdown",
      "source": [
        "###### 1. 승객 수 - 요금 사이 관계 여부\n",
        "승객 수에 따른 택시 승하차 빈도 수와 요금 분포를, 히스토그램과 산점도를 통해 시각화 함.<br>\n",
        "아래 두 그래프를 통해 택시 승하차가 가장 빈번한 승객 수는 1명이며, 요금이 가장 높았을 때 역시 승객 수가 1명이었음을 알 수 있음."
      ],
      "metadata": {
        "id": "0neBssJzKlAa"
      }
    },
    {
      "cell_type": "code",
      "source": [
        "plt.figure(figsize = (15,7))\n",
        "plt.hist(train['passenger_count'], bins = 15)\n",
        "plt.xlabel('No. of passengers')\n",
        "plt.ylabel('Frequency')"
      ],
      "metadata": {
        "colab": {
          "base_uri": "https://localhost:8080/",
          "height": 460
        },
        "id": "pI8QEaG9hnlF",
        "outputId": "d1f7ddf1-9251-4433-bfd0-b3352ba2eb3a"
      },
      "execution_count": 58,
      "outputs": [
        {
          "output_type": "execute_result",
          "data": {
            "text/plain": [
              "Text(0, 0.5, 'Frequency')"
            ]
          },
          "metadata": {},
          "execution_count": 58
        },
        {
          "output_type": "display_data",
          "data": {
            "text/plain": [
              "<Figure size 1080x504 with 1 Axes>"
            ],
            "image/png": "[encoded data removed]"
          },
          "metadata": {
            "needs_background": "light"
          }
        }
      ]
    },
    {
      "cell_type": "code",
      "source": [
        "plt.figure(figsize = (15,7))\n",
        "plt.scatter(x = train['passenger_count'], y = train['fare_amount'], s = 5)\n",
        "plt.xlabel('No. of passengers')\n",
        "plt.ylabel('Fare')"
      ],
      "metadata": {
        "colab": {
          "base_uri": "https://localhost:8080/",
          "height": 460
        },
        "id": "PU4c8TrChnpa",
        "outputId": "453366ea-4c62-4184-9338-155599a8d932"
      },
      "execution_count": 65,
      "outputs": [
        {
          "output_type": "execute_result",
          "data": {
            "text/plain": [
              "Text(0, 0.5, 'Fare')"
            ]
          },
          "metadata": {},
          "execution_count": 65
        },
        {
          "output_type": "display_data",
          "data": {
            "text/plain": [
              "<Figure size 1080x504 with 1 Axes>"
            ],
            "image/png": "[encoded data removed]"
          },
          "metadata": {
            "needs_background": "light"
          }
        }
      ]
    },
    {
      "cell_type": "markdown",
      "source": [
        "######  2. 승차 일/시간 - 요금 사이 관계 여부"
      ],
      "metadata": {
        "id": "chFNlRQThntR"
      }
    },
    {
      "cell_type": "code",
      "source": [
        "# pickup_datetime > year, month, date, hour, day of week 파생변수 생성\n",
        "\n",
        "# train, test 모두 적용해주기 위해, data라는 list로 묶어서 한 번에 수정해줌\n",
        "data = [train, test]\n",
        "\n",
        "for df in data :\n",
        "    df['year'] = df['pickup_datetime'].dt.year \n",
        "    df['month'] = df['pickup_datetime'].dt.month \n",
        "    df['date'] = df['pickup_datetime'].dt.day \n",
        "    df['hour'] = df['pickup_datetime'].dt.hour \n",
        "    df['dayofweek'] = df['pickup_datetime'].dt.dayofweek \n"
      ],
      "metadata": {
        "id": "n9uiWLbChnyF"
      },
      "execution_count": 51,
      "outputs": []
    },
    {
      "cell_type": "code",
      "source": [
        "display(train.head(3))\n",
        "display(test.head(3))"
      ],
      "metadata": {
        "colab": {
          "base_uri": "https://localhost:8080/",
          "height": 270
        },
        "id": "4HpJ9CQ8hn25",
        "outputId": "a113db15-64f0-4c51-e308-9cc431036185"
      },
      "execution_count": 52,
      "outputs": [
        {
          "output_type": "display_data",
          "data": {
            "text/plain": [
              "       key  fare_amount           pickup_datetime  pickup_longitude  \\\n",
              "0  26:21.0      4.50000 2009-06-15 17:26:21+00:00         -73.84431   \n",
              "1  52:16.0     16.90000 2010-01-05 16:52:16+00:00         -74.01605   \n",
              "2  35:00.0      5.70000 2011-08-18 00:35:00+00:00         -73.98274   \n",
              "\n",
              "   pickup_latitude  dropoff_longitude  dropoff_latitude  passenger_count  \\\n",
              "0         40.72132          -73.84161          40.71228          1.00000   \n",
              "1         40.71130          -73.97927          40.78200          1.00000   \n",
              "2         40.76127          -73.99124          40.75056          2.00000   \n",
              "\n",
              "   year  month  date  hour  dayofweek  \n",
              "0  2009      6    15    17          0  \n",
              "1  2010      1     5    16          1  \n",
              "2  2011      8    18     0          3  "
            ],
            "text/html": [
              "\n",
              "  <div id=\"df-5cd4289e-94db-4411-b352-9769ce9080aa\">\n",
              "    <div class=\"colab-df-container\">\n",
              "      <div>\n",
              "<style scoped>\n",
              "    .dataframe tbody tr th:only-of-type {\n",
              "        vertical-align: middle;\n",
              "    }\n",
              "\n",
              "    .dataframe tbody tr th {\n",
              "        vertical-align: top;\n",
              "    }\n",
              "\n",
              "    .dataframe thead th {\n",
              "        text-align: right;\n",
              "    }\n",
              "</style>\n",
              "<table border=\"1\" class=\"dataframe\">\n",
              "  <thead>\n",
              "    <tr style=\"text-align: right;\">\n",
              "      <th></th>\n",
              "      <th>key</th>\n",
              "      <th>fare_amount</th>\n",
              "      <th>pickup_datetime</th>\n",
              "      <th>pickup_longitude</th>\n",
              "      <th>pickup_latitude</th>\n",
              "      <th>dropoff_longitude</th>\n",
              "      <th>dropoff_latitude</th>\n",
              "      <th>passenger_count</th>\n",
              "      <th>year</th>\n",
              "      <th>month</th>\n",
              "      <th>date</th>\n",
              "      <th>hour</th>\n",
              "      <th>dayofweek</th>\n",
              "    </tr>\n",
              "  </thead>\n",
              "  <tbody>\n",
              "    <tr>\n",
              "      <th>0</th>\n",
              "      <td>26:21.0</td>\n",
              "      <td>4.50000</td>\n",
              "      <td>2009-06-15 17:26:21+00:00</td>\n",
              "      <td>-73.84431</td>\n",
              "      <td>40.72132</td>\n",
              "      <td>-73.84161</td>\n",
              "      <td>40.71228</td>\n",
              "      <td>1.00000</td>\n",
              "      <td>2009</td>\n",
              "      <td>6</td>\n",
              "      <td>15</td>\n",
              "      <td>17</td>\n",
              "      <td>0</td>\n",
              "    </tr>\n",
              "    <tr>\n",
              "      <th>1</th>\n",
              "      <td>52:16.0</td>\n",
              "      <td>16.90000</td>\n",
              "      <td>2010-01-05 16:52:16+00:00</td>\n",
              "      <td>-74.01605</td>\n",
              "      <td>40.71130</td>\n",
              "      <td>-73.97927</td>\n",
              "      <td>40.78200</td>\n",
              "      <td>1.00000</td>\n",
              "      <td>2010</td>\n",
              "      <td>1</td>\n",
              "      <td>5</td>\n",
              "      <td>16</td>\n",
              "      <td>1</td>\n",
              "    </tr>\n",
              "    <tr>\n",
              "      <th>2</th>\n",
              "      <td>35:00.0</td>\n",
              "      <td>5.70000</td>\n",
              "      <td>2011-08-18 00:35:00+00:00</td>\n",
              "      <td>-73.98274</td>\n",
              "      <td>40.76127</td>\n",
              "      <td>-73.99124</td>\n",
              "      <td>40.75056</td>\n",
              "      <td>2.00000</td>\n",
              "      <td>2011</td>\n",
              "      <td>8</td>\n",
              "      <td>18</td>\n",
              "      <td>0</td>\n",
              "      <td>3</td>\n",
              "    </tr>\n",
              "  </tbody>\n",
              "</table>\n",
              "</div>\n",
              "      <button class=\"colab-df-convert\" onclick=\"convertToInteractive('df-5cd4289e-94db-4411-b352-9769ce9080aa')\"\n",
              "              title=\"Convert this dataframe to an interactive table.\"\n",
              "              style=\"display:none;\">\n",
              "        \n",
              "  <svg xmlns=\"http://www.w3.org/2000/svg\" height=\"24px\"viewBox=\"0 0 24 24\"\n",
              "       width=\"24px\">\n",
              "    <path d=\"M0 0h24v24H0V0z\" fill=\"none\"/>\n",
              "    <path d=\"M18.56 5.44l.94 2.06.94-2.06 2.06-.94-2.06-.94-.94-2.06-.94 2.06-2.06.94zm-11 1L8.5 8.5l.94-2.06 2.06-.94-2.06-.94L8.5 2.5l-.94 2.06-2.06.94zm10 10l.94 2.06.94-2.06 2.06-.94-2.06-.94-.94-2.06-.94 2.06-2.06.94z\"/><path d=\"M17.41 7.96l-1.37-1.37c-.4-.4-.92-.59-1.43-.59-.52 0-1.04.2-1.43.59L10.3 9.45l-7.72 7.72c-.78.78-.78 2.05 0 2.83L4 21.41c.39.39.9.59 1.41.59.51 0 1.02-.2 1.41-.59l7.78-7.78 2.81-2.81c.8-.78.8-2.07 0-2.86zM5.41 20L4 18.59l7.72-7.72 1.47 1.35L5.41 20z\"/>\n",
              "  </svg>\n",
              "      </button>\n",
              "      \n",
              "  <style>\n",
              "    .colab-df-container {\n",
              "      display:flex;\n",
              "      flex-wrap:wrap;\n",
              "      gap: 12px;\n",
              "    }\n",
              "\n",
              "    .colab-df-convert {\n",
              "      background-color: #E8F0FE;\n",
              "      border: none;\n",
              "      border-radius: 50%;\n",
              "      cursor: pointer;\n",
              "      display: none;\n",
              "      fill: #1967D2;\n",
              "      height: 32px;\n",
              "      padding: 0 0 0 0;\n",
              "      width: 32px;\n",
              "    }\n",
              "\n",
              "    .colab-df-convert:hover {\n",
              "      background-color: #E2EBFA;\n",
              "      box-shadow: 0px 1px 2px rgba(60, 64, 67, 0.3), 0px 1px 3px 1px rgba(60, 64, 67, 0.15);\n",
              "      fill: #174EA6;\n",
              "    }\n",
              "\n",
              "    [theme=dark] .colab-df-convert {\n",
              "      background-color: #3B4455;\n",
              "      fill: #D2E3FC;\n",
              "    }\n",
              "\n",
              "    [theme=dark] .colab-df-convert:hover {\n",
              "      background-color: #434B5C;\n",
              "      box-shadow: 0px 1px 3px 1px rgba(0, 0, 0, 0.15);\n",
              "      filter: drop-shadow(0px 1px 2px rgba(0, 0, 0, 0.3));\n",
              "      fill: #FFFFFF;\n",
              "    }\n",
              "  </style>\n",
              "\n",
              "      <script>\n",
              "        const buttonEl =\n",
              "          document.querySelector('#df-5cd4289e-94db-4411-b352-9769ce9080aa button.colab-df-convert');\n",
              "        buttonEl.style.display =\n",
              "          google.colab.kernel.accessAllowed ? 'block' : 'none';\n",
              "\n",
              "        async function convertToInteractive(key) {\n",
              "          const element = document.querySelector('#df-5cd4289e-94db-4411-b352-9769ce9080aa');\n",
              "          const dataTable =\n",
              "            await google.colab.kernel.invokeFunction('convertToInteractive',\n",
              "                                                     [key], {});\n",
              "          if (!dataTable) return;\n",
              "\n",
              "          const docLinkHtml = 'Like what you see? Visit the ' +\n",
              "            '<a target=\"_blank\" href=https://colab.research.google.com/notebooks/data_table.ipynb>data table notebook</a>'\n",
              "            + ' to learn more about interactive tables.';\n",
              "          element.innerHTML = '';\n",
              "          dataTable['output_type'] = 'display_data';\n",
              "          await google.colab.output.renderOutput(dataTable, element);\n",
              "          const docLink = document.createElement('div');\n",
              "          docLink.innerHTML = docLinkHtml;\n",
              "          element.appendChild(docLink);\n",
              "        }\n",
              "      </script>\n",
              "    </div>\n",
              "  </div>\n",
              "  "
            ]
          },
          "metadata": {}
        },
        {
          "output_type": "display_data",
          "data": {
            "text/plain": [
              "                            key           pickup_datetime  pickup_longitude  \\\n",
              "0 2015-01-27 13:08:24.000000200 2015-01-27 13:08:24+00:00         -73.97332   \n",
              "1 2015-01-27 13:08:24.000000300 2015-01-27 13:08:24+00:00         -73.98686   \n",
              "2 2011-10-08 11:53:44.000000200 2011-10-08 11:53:44+00:00         -73.98252   \n",
              "\n",
              "   pickup_latitude  dropoff_longitude  dropoff_latitude  passenger_count  \\\n",
              "0         40.76381          -73.98143          40.74384                1   \n",
              "1         40.71938          -73.99889          40.73920                1   \n",
              "2         40.75126          -73.97965          40.74614                1   \n",
              "\n",
              "   year  month  date  hour  dayofweek  \n",
              "0  2015      1    27    13          1  \n",
              "1  2015      1    27    13          1  \n",
              "2  2011     10     8    11          5  "
            ],
            "text/html": [
              "\n",
              "  <div id=\"df-da247d56-f75a-474b-9d78-4618f2a52a73\">\n",
              "    <div class=\"colab-df-container\">\n",
              "      <div>\n",
              "<style scoped>\n",
              "    .dataframe tbody tr th:only-of-type {\n",
              "        vertical-align: middle;\n",
              "    }\n",
              "\n",
              "    .dataframe tbody tr th {\n",
              "        vertical-align: top;\n",
              "    }\n",
              "\n",
              "    .dataframe thead th {\n",
              "        text-align: right;\n",
              "    }\n",
              "</style>\n",
              "<table border=\"1\" class=\"dataframe\">\n",
              "  <thead>\n",
              "    <tr style=\"text-align: right;\">\n",
              "      <th></th>\n",
              "      <th>key</th>\n",
              "      <th>pickup_datetime</th>\n",
              "      <th>pickup_longitude</th>\n",
              "      <th>pickup_latitude</th>\n",
              "      <th>dropoff_longitude</th>\n",
              "      <th>dropoff_latitude</th>\n",
              "      <th>passenger_count</th>\n",
              "      <th>year</th>\n",
              "      <th>month</th>\n",
              "      <th>date</th>\n",
              "      <th>hour</th>\n",
              "      <th>dayofweek</th>\n",
              "    </tr>\n",
              "  </thead>\n",
              "  <tbody>\n",
              "    <tr>\n",
              "      <th>0</th>\n",
              "      <td>2015-01-27 13:08:24.000000200</td>\n",
              "      <td>2015-01-27 13:08:24+00:00</td>\n",
              "      <td>-73.97332</td>\n",
              "      <td>40.76381</td>\n",
              "      <td>-73.98143</td>\n",
              "      <td>40.74384</td>\n",
              "      <td>1</td>\n",
              "      <td>2015</td>\n",
              "      <td>1</td>\n",
              "      <td>27</td>\n",
              "      <td>13</td>\n",
              "      <td>1</td>\n",
              "    </tr>\n",
              "    <tr>\n",
              "      <th>1</th>\n",
              "      <td>2015-01-27 13:08:24.000000300</td>\n",
              "      <td>2015-01-27 13:08:24+00:00</td>\n",
              "      <td>-73.98686</td>\n",
              "      <td>40.71938</td>\n",
              "      <td>-73.99889</td>\n",
              "      <td>40.73920</td>\n",
              "      <td>1</td>\n",
              "      <td>2015</td>\n",
              "      <td>1</td>\n",
              "      <td>27</td>\n",
              "      <td>13</td>\n",
              "      <td>1</td>\n",
              "    </tr>\n",
              "    <tr>\n",
              "      <th>2</th>\n",
              "      <td>2011-10-08 11:53:44.000000200</td>\n",
              "      <td>2011-10-08 11:53:44+00:00</td>\n",
              "      <td>-73.98252</td>\n",
              "      <td>40.75126</td>\n",
              "      <td>-73.97965</td>\n",
              "      <td>40.74614</td>\n",
              "      <td>1</td>\n",
              "      <td>2011</td>\n",
              "      <td>10</td>\n",
              "      <td>8</td>\n",
              "      <td>11</td>\n",
              "      <td>5</td>\n",
              "    </tr>\n",
              "  </tbody>\n",
              "</table>\n",
              "</div>\n",
              "      <button class=\"colab-df-convert\" onclick=\"convertToInteractive('df-da247d56-f75a-474b-9d78-4618f2a52a73')\"\n",
              "              title=\"Convert this dataframe to an interactive table.\"\n",
              "              style=\"display:none;\">\n",
              "        \n",
              "  <svg xmlns=\"http://www.w3.org/2000/svg\" height=\"24px\"viewBox=\"0 0 24 24\"\n",
              "       width=\"24px\">\n",
              "    <path d=\"M0 0h24v24H0V0z\" fill=\"none\"/>\n",
              "    <path d=\"M18.56 5.44l.94 2.06.94-2.06 2.06-.94-2.06-.94-.94-2.06-.94 2.06-2.06.94zm-11 1L8.5 8.5l.94-2.06 2.06-.94-2.06-.94L8.5 2.5l-.94 2.06-2.06.94zm10 10l.94 2.06.94-2.06 2.06-.94-2.06-.94-.94-2.06-.94 2.06-2.06.94z\"/><path d=\"M17.41 7.96l-1.37-1.37c-.4-.4-.92-.59-1.43-.59-.52 0-1.04.2-1.43.59L10.3 9.45l-7.72 7.72c-.78.78-.78 2.05 0 2.83L4 21.41c.39.39.9.59 1.41.59.51 0 1.02-.2 1.41-.59l7.78-7.78 2.81-2.81c.8-.78.8-2.07 0-2.86zM5.41 20L4 18.59l7.72-7.72 1.47 1.35L5.41 20z\"/>\n",
              "  </svg>\n",
              "      </button>\n",
              "      \n",
              "  <style>\n",
              "    .colab-df-container {\n",
              "      display:flex;\n",
              "      flex-wrap:wrap;\n",
              "      gap: 12px;\n",
              "    }\n",
              "\n",
              "    .colab-df-convert {\n",
              "      background-color: #E8F0FE;\n",
              "      border: none;\n",
              "      border-radius: 50%;\n",
              "      cursor: pointer;\n",
              "      display: none;\n",
              "      fill: #1967D2;\n",
              "      height: 32px;\n",
              "      padding: 0 0 0 0;\n",
              "      width: 32px;\n",
              "    }\n",
              "\n",
              "    .colab-df-convert:hover {\n",
              "      background-color: #E2EBFA;\n",
              "      box-shadow: 0px 1px 2px rgba(60, 64, 67, 0.3), 0px 1px 3px 1px rgba(60, 64, 67, 0.15);\n",
              "      fill: #174EA6;\n",
              "    }\n",
              "\n",
              "    [theme=dark] .colab-df-convert {\n",
              "      background-color: #3B4455;\n",
              "      fill: #D2E3FC;\n",
              "    }\n",
              "\n",
              "    [theme=dark] .colab-df-convert:hover {\n",
              "      background-color: #434B5C;\n",
              "      box-shadow: 0px 1px 3px 1px rgba(0, 0, 0, 0.15);\n",
              "      filter: drop-shadow(0px 1px 2px rgba(0, 0, 0, 0.3));\n",
              "      fill: #FFFFFF;\n",
              "    }\n",
              "  </style>\n",
              "\n",
              "      <script>\n",
              "        const buttonEl =\n",
              "          document.querySelector('#df-da247d56-f75a-474b-9d78-4618f2a52a73 button.colab-df-convert');\n",
              "        buttonEl.style.display =\n",
              "          google.colab.kernel.accessAllowed ? 'block' : 'none';\n",
              "\n",
              "        async function convertToInteractive(key) {\n",
              "          const element = document.querySelector('#df-da247d56-f75a-474b-9d78-4618f2a52a73');\n",
              "          const dataTable =\n",
              "            await google.colab.kernel.invokeFunction('convertToInteractive',\n",
              "                                                     [key], {});\n",
              "          if (!dataTable) return;\n",
              "\n",
              "          const docLinkHtml = 'Like what you see? Visit the ' +\n",
              "            '<a target=\"_blank\" href=https://colab.research.google.com/notebooks/data_table.ipynb>data table notebook</a>'\n",
              "            + ' to learn more about interactive tables.';\n",
              "          element.innerHTML = '';\n",
              "          dataTable['output_type'] = 'display_data';\n",
              "          await google.colab.output.renderOutput(dataTable, element);\n",
              "          const docLink = document.createElement('div');\n",
              "          docLink.innerHTML = docLinkHtml;\n",
              "          element.appendChild(docLink);\n",
              "        }\n",
              "      </script>\n",
              "    </div>\n",
              "  </div>\n",
              "  "
            ]
          },
          "metadata": {}
        }
      ]
    },
    {
      "cell_type": "markdown",
      "source": [
        "아래 시각화를 통해 다음과 같은 사실을 확인할 수 있음<br>\n",
        "1. Month/Date : 택시 승하차 빈도 및 요금은 대체로 균일함. \n",
        "2. Hour : 새벽5시에 승하차 빈도가 가장 낮음 / 오후 8시 가량에 가장 승하차 많이 발생<br>\n",
        "큰 차이는 아니지만 요금 역시, 시간에 따라 높고 낮음의 차이가 발생<br>\n",
        "    -> important feature로 작용 예상\n"
      ],
      "metadata": {
        "id": "oHCaajR0qqxE"
      }
    },
    {
      "cell_type": "code",
      "source": [
        "# 시각화\n",
        "plt.figure(figsize=(15,7))\n",
        "plt.scatter(x=train['month'], y=train['fare_amount'], s=5)\n",
        "plt.xlabel('Month')\n",
        "plt.ylabel('Fare')"
      ],
      "metadata": {
        "colab": {
          "base_uri": "https://localhost:8080/",
          "height": 460
        },
        "id": "OjW-eaCvqcNx",
        "outputId": "79aade73-719c-4d93-c937-0b2562b6b6ac"
      },
      "execution_count": 70,
      "outputs": [
        {
          "output_type": "execute_result",
          "data": {
            "text/plain": [
              "Text(0, 0.5, 'Fare')"
            ]
          },
          "metadata": {},
          "execution_count": 70
        },
        {
          "output_type": "display_data",
          "data": {
            "text/plain": [
              "<Figure size 1080x504 with 1 Axes>"
            ],
            "image/png": "[encoded data removed]"
          },
          "metadata": {
            "needs_background": "light"
          }
        }
      ]
    },
    {
      "cell_type": "code",
      "source": [
        "plt.figure(figsize=(15,7))\n",
        "plt.hist(train['date'], bins=100)\n",
        "plt.xlabel('Date')\n",
        "plt.ylabel('Frequency')"
      ],
      "metadata": {
        "colab": {
          "base_uri": "https://localhost:8080/",
          "height": 460
        },
        "id": "XbOTPPE9rPRG",
        "outputId": "6a3f1bf4-a5b0-477b-c03c-25e706a3f7da"
      },
      "execution_count": 71,
      "outputs": [
        {
          "output_type": "execute_result",
          "data": {
            "text/plain": [
              "Text(0, 0.5, 'Frequency')"
            ]
          },
          "metadata": {},
          "execution_count": 71
        },
        {
          "output_type": "display_data",
          "data": {
            "text/plain": [
              "<Figure size 1080x504 with 1 Axes>"
            ],
            "image/png": "[encoded data removed]"
          },
          "metadata": {
            "needs_background": "light"
          }
        }
      ]
    },
    {
      "cell_type": "code",
      "source": [
        "plt.figure(figsize=(15,7))\n",
        "plt.scatter(x=train['date'], y=train['fare_amount'], s=5)\n",
        "plt.xlabel('date')\n",
        "plt.ylabel('Fare')"
      ],
      "metadata": {
        "colab": {
          "base_uri": "https://localhost:8080/",
          "height": 460
        },
        "id": "rKTTf4gNhn7M",
        "outputId": "d5398c6d-530a-4f6a-9eaf-93d8ac7b57b1"
      },
      "execution_count": 68,
      "outputs": [
        {
          "output_type": "execute_result",
          "data": {
            "text/plain": [
              "Text(0, 0.5, 'Fare')"
            ]
          },
          "metadata": {},
          "execution_count": 68
        },
        {
          "output_type": "display_data",
          "data": {
            "text/plain": [
              "<Figure size 1080x504 with 1 Axes>"
            ],
            "image/png": "[encoded data removed]"
          },
          "metadata": {
            "needs_background": "light"
          }
        }
      ]
    },
    {
      "cell_type": "code",
      "source": [
        "plt.figure(figsize=(15,7))\n",
        "plt.hist(train['hour'], bins=100)\n",
        "plt.xlabel('Hour')\n",
        "plt.ylabel('Frequency')"
      ],
      "metadata": {
        "colab": {
          "base_uri": "https://localhost:8080/",
          "height": 460
        },
        "id": "tbmRhwN7q-8L",
        "outputId": "e55808d9-05be-4c51-bff3-0819a28e76f5"
      },
      "execution_count": 72,
      "outputs": [
        {
          "output_type": "execute_result",
          "data": {
            "text/plain": [
              "Text(0, 0.5, 'Frequency')"
            ]
          },
          "metadata": {},
          "execution_count": 72
        },
        {
          "output_type": "display_data",
          "data": {
            "text/plain": [
              "<Figure size 1080x504 with 1 Axes>"
            ],
            "image/png": "[encoded data removed]"
          },
          "metadata": {
            "needs_background": "light"
          }
        }
      ]
    },
    {
      "cell_type": "code",
      "source": [
        "plt.figure(figsize=(15,7))\n",
        "plt.scatter(x=train['hour'], y=train['fare_amount'], s=5)\n",
        "plt.xlabel('Hour')\n",
        "plt.ylabel('Fare')"
      ],
      "metadata": {
        "colab": {
          "base_uri": "https://localhost:8080/",
          "height": 460
        },
        "id": "UlosYz7FqGlN",
        "outputId": "1e0e18cd-55e5-4409-a7ed-fdb2dfd16b04"
      },
      "execution_count": 73,
      "outputs": [
        {
          "output_type": "execute_result",
          "data": {
            "text/plain": [
              "Text(0, 0.5, 'Fare')"
            ]
          },
          "metadata": {},
          "execution_count": 73
        },
        {
          "output_type": "display_data",
          "data": {
            "text/plain": [
              "<Figure size 1080x504 with 1 Axes>"
            ],
            "image/png": "[encoded data removed]"
          },
          "metadata": {
            "needs_background": "light"
          }
        }
      ]
    },
    {
      "cell_type": "code",
      "source": [
        ""
      ],
      "metadata": {
        "id": "ZQFNKRATqGuU"
      },
      "execution_count": null,
      "outputs": []
    },
    {
      "cell_type": "markdown",
      "source": [
        "###### 3. 요일 - 요금 사이 관계 여부"
      ],
      "metadata": {
        "id": "ZdnSfWV1hn_5"
      }
    },
    {
      "cell_type": "code",
      "source": [
        ""
      ],
      "metadata": {
        "id": "qkFqap9shoE1"
      },
      "execution_count": null,
      "outputs": []
    },
    {
      "cell_type": "code",
      "source": [
        ""
      ],
      "metadata": {
        "id": "D6YWedbnhoJX"
      },
      "execution_count": null,
      "outputs": []
    },
    {
      "cell_type": "markdown",
      "source": [
        "###### 4. 주행거리 - 요금 사이 관계 여부\n",
        "주행거리는 Haversine formula에 의거해서 구해줌<br>\n",
        "Harversine formula : 지구를 구(sphere)로 가정, 두 지점의 좌표(경도, 위도)를 이용하여 지구 표면 상의 대원 거리(great-circle distance)를 계산<br>\n",
        "\n",
        "```\n",
        "haversine(θ) = sin²(θ/2)\n",
        "φ = latitude / λ = longitude, R = earth’s radius (mean radius = 6,371km) \n",
        "A, B : pickup / dropoff location 좌표\n",
        "    1. a = sin²((φB - φA)/2) + cos φA . cos φB . sin²((λB - λA)/2)\n",
        "    2. c = 2 * atan2( √a, √(1−a) )\n",
        "    3. d = R ⋅ c\n",
        "    4. d = Haversine distance\n",
        "```"
      ],
      "metadata": {
        "id": "g6498EgUhoNl"
      }
    },
    {
      "cell_type": "code",
      "source": [
        "# 위 공식에 의해(1~4), 승차지 - 하차지 사이 Harversine distance 구하는 함수 정의해줌\n",
        "def harversine_distance(lat1, long1, lat2, long2): # 아래에서 정의한 내용에 따라, lat1/long1/lat2/long2는 train, test 데이터의 column 명이라는 걸 알 수 있다!\n",
        "    data = [train, test]\n",
        "    for df in data :\n",
        "        R = 6371 # 지구 반지름 (단위 : km)\n",
        "        phi1 = np.radians(df[lat1]) # π rad = 180도\n",
        "        phi2 = np.radians(df[lat2])\n",
        "\n",
        "        delta_phi = np.radians(df[lat2]-df[lat1])\n",
        "        delta_lambda = np.radians(df[long2]-df[long1])\n",
        "\n",
        "        #a = sin²((φB - φA)/2) + cos φA . cos φB . sin²((λB - λA)/2)\n",
        "        a = np.sin( delta_phi/2 )**2 + np.cos(phi1) * np.cos(phi2) * (np.sin(delta_lambda/2) ** 2)\n",
        "        # c\n",
        "        c = 2 * np.arctan2( np.sqrt(a), np.sqrt(1-a) )\n",
        "        # d\n",
        "        d = R * c # 단위 : km\n",
        "        df['haver_distance'] = d\n",
        "    return d"
      ],
      "metadata": {
        "id": "RDIJPQeYKlDu"
      },
      "execution_count": 53,
      "outputs": []
    },
    {
      "cell_type": "code",
      "source": [
        "# pickup - dropoff location 사이 거리 구하기 위해, distance 컬럼 만들어줌\n",
        "harversine_distance('pickup_latitude', 'pickup_longitude', 'dropoff_latitude', 'dropoff_longitude')"
      ],
      "metadata": {
        "colab": {
          "base_uri": "https://localhost:8080/"
        },
        "id": "iLOd_hXIh1vc",
        "outputId": "8a62f13e-8339-40f5-d580-62053e1cdd6e"
      },
      "execution_count": 55,
      "outputs": [
        {
          "output_type": "execute_result",
          "data": {
            "text/plain": [
              "0       2.32326\n",
              "1       2.42535\n",
              "2       0.61863\n",
              "3       1.96103\n",
              "4       5.38730\n",
              "         ...   \n",
              "9909    2.12487\n",
              "9910    3.27097\n",
              "9911   19.18394\n",
              "9912    8.34349\n",
              "9913    1.18083\n",
              "Length: 9914, dtype: float64"
            ]
          },
          "metadata": {},
          "execution_count": 55
        }
      ]
    },
    {
      "cell_type": "code",
      "source": [
        "train['haver_distance'].head(10)"
      ],
      "metadata": {
        "colab": {
          "base_uri": "https://localhost:8080/"
        },
        "id": "sLJAfKf-h1yc",
        "outputId": "90f5dabe-7f77-474f-8de2-440af9c07045"
      },
      "execution_count": 56,
      "outputs": [
        {
          "output_type": "execute_result",
          "data": {
            "text/plain": [
              "0   1.03076\n",
              "1   8.45013\n",
              "2   1.38953\n",
              "3   2.79927\n",
              "4   1.99916\n",
              "5   3.78724\n",
              "6   1.55581\n",
              "7   4.15544\n",
              "8   1.25323\n",
              "9   2.84963\n",
              "Name: haver_distance, dtype: float64"
            ]
          },
          "metadata": {},
          "execution_count": 56
        }
      ]
    },
    {
      "cell_type": "code",
      "source": [
        "test.haver_distance.head(10)"
      ],
      "metadata": {
        "colab": {
          "base_uri": "https://localhost:8080/"
        },
        "id": "_bAKjLvSh11x",
        "outputId": "03241c84-7192-4e11-c40c-c6f3b2225966"
      },
      "execution_count": 57,
      "outputs": [
        {
          "output_type": "execute_result",
          "data": {
            "text/plain": [
              "0    2.32326\n",
              "1    2.42535\n",
              "2    0.61863\n",
              "3    1.96103\n",
              "4    5.38730\n",
              "5    3.22255\n",
              "6    0.92960\n",
              "7   21.54010\n",
              "8    3.87396\n",
              "9    1.09979\n",
              "Name: haver_distance, dtype: float64"
            ]
          },
          "metadata": {},
          "execution_count": 57
        }
      ]
    },
    {
      "cell_type": "markdown",
      "source": [
        ""
      ],
      "metadata": {
        "id": "3CEuQrHFh16b"
      }
    },
    {
      "cell_type": "code",
      "source": [
        ""
      ],
      "metadata": {
        "id": "_c8M9fECh199"
      },
      "execution_count": null,
      "outputs": []
    },
    {
      "cell_type": "code",
      "source": [
        ""
      ],
      "metadata": {
        "id": "9qeTeUQRh2A0"
      },
      "execution_count": null,
      "outputs": []
    },
    {
      "cell_type": "code",
      "source": [
        ""
      ],
      "metadata": {
        "id": "spVTxUOMh2Ef"
      },
      "execution_count": null,
      "outputs": []
    },
    {
      "cell_type": "markdown",
      "source": [
        "결론"
      ],
      "metadata": {
        "id": "8blNILCKrKTH"
      }
    },
    {
      "cell_type": "markdown",
      "source": [
        "향후 추가로 해 볼 필사작업\n",
        "[Kaggle 뉴욕 택시 가격 예측 - 노트북2](https://www.kaggle.com/code/breemen/nyc-taxi-fare-data-exploration)"
      ],
      "metadata": {
        "id": "tawISC1qrLTW"
      }
    }
  ]
}